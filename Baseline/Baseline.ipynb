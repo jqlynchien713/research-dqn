{
 "cells": [
  {
   "cell_type": "markdown",
   "id": "89452ce3-52cd-4270-b80a-833d3402ea15",
   "metadata": {},
   "source": [
    "# Runing"
   ]
  },
  {
   "cell_type": "markdown",
   "id": "cc9a7ad6-670e-4dd1-828d-4ee498a9fcba",
   "metadata": {},
   "source": [
    "# DQN Implementation"
   ]
  },
  {
   "cell_type": "code",
   "execution_count": 9,
   "id": "5709b2ed-10b1-4e5c-9e5d-9d223cf9462f",
   "metadata": {},
   "outputs": [],
   "source": [
    "from preprocessing import USER_STREAM_CONTEXT, ITEM_DF, ITEM_STREAM_DF, REAL_BOUGHT_DF, LAST_BOUGHT_STREAM, LB_ITEMS, USER_LIST, LB_CE, STREAM_LIST\n",
    "from utils import gen_exist_series, get_full_state, get_reward, calculate_interest_change, get_input, model_predict_top10, INPUT_DF_COL\n",
    "from replay import ReplayBuffer\n",
    "import tensorflow as tf\n",
    "from tensorflow import keras\n",
    "from tensorflow.keras.layers import Dense\n",
    "from tensorflow.keras.optimizers import Adam\n",
    "from matplotlib import pyplot as plt\n",
    "import warnings\n",
    "import pandas as pd\n",
    "import numpy as np\n",
    "from sklearn.preprocessing import LabelEncoder\n",
    "import random\n",
    "import itertools\n",
    "from datetime import datetime\n",
    "import pytz"
   ]
  },
  {
   "cell_type": "code",
   "execution_count": 2,
   "id": "8e6f911b-1f0b-4c9a-ab83-338449cf7bc9",
   "metadata": {},
   "outputs": [
    {
     "name": "stdout",
     "output_type": "stream",
     "text": [
      "Default GPU Device:      /device:GPU:0\n"
     ]
    }
   ],
   "source": [
    "if tf.test.gpu_device_name(): \n",
    "    print('Default GPU Device:\\\n",
    "      {}'.format(tf.test.gpu_device_name()))\n",
    "else:\n",
    "   print(\"Please install GPU version of TF\")"
   ]
  },
  {
   "cell_type": "markdown",
   "id": "f0b2f337-3ba6-4bca-8de1-514ccefeb20e",
   "metadata": {},
   "source": [
    "## Train DQN model\n",
    "* Input: `user_df` 253, `item_df` 231(BERT: 768), interact (?), `reward` 1\n",
    "* Output: recommend a list of items\n",
    "* Methods Needed\n",
    "    * Environment Function\n",
    "    * Choose Action\n",
    "    * Store Transition\n",
    "    * Learn"
   ]
  },
  {
   "cell_type": "code",
   "execution_count": 3,
   "id": "adba99bf-3034-444c-be67-a43efd5a273e",
   "metadata": {},
   "outputs": [],
   "source": [
    "### Training Process\n",
    "\n",
    "def train(model, exp_replay, epochs, batch_size, num_episode=1000, verbose=1, reward_set='strict', hist=[], c_hist=[], rec_list=[]):\n",
    "  # total_actions = ITEM_DF.shape[0]\n",
    "  total_episodes = len(USER_LIST)\n",
    "  # Reset win counter\n",
    "  c_win_cnt = 0\n",
    "\n",
    "  for e in range(epochs):\n",
    "    rec_cnt = 0\n",
    "    win_cnt = 0\n",
    "    loss = 0.\n",
    "    # TODO/MAIN: Apply user preference changes as epsilon\n",
    "    # epsilon for exploration - dependent inversely on the training epoch\n",
    "    epsilon = 4 / ((e + 1) ** (1 / 2))\n",
    "\n",
    "    # handling episodes by assigning users from USER_LIST\n",
    "    # Each user represent an Episode\n",
    "    episodes = random.sample(range(total_episodes), num_episode)\n",
    "\n",
    "    print(f'Epoch {e} started.   Time: {datetime.now(pytz.timezone(\"Asia/Taipei\")).strftime(\"%H:%M:%S\")}')\n",
    "    # ------------------- Episode (User) -------------------------------\n",
    "    for user_episode in episodes:\n",
    "      # game_over = False\n",
    "      # get episode data by user phone number\n",
    "      user_phone = USER_LIST[user_episode]\n",
    "      user_all_streams = USER_STREAM_CONTEXT.xs(user_phone, level=\"聯絡電話\")\n",
    "      stream_list = user_all_streams.index\n",
    "      final_stream = LAST_BOUGHT_STREAM.loc[user_phone, '場次']\n",
    "      \n",
    "      # ----------------- Runs (User x All_Stream) ---------------------\n",
    "      for i, stream in enumerate(stream_list):          \n",
    "        game_over = stream == final_stream\n",
    "                \n",
    "        # Get full state: current_state = user_stream + item_stream\n",
    "        # 用上一場紀錄預測下一場直播會購買的商品\n",
    "        current_state = get_full_state(user_all_streams, stream_list, i)\n",
    "        stream_items = current_state['cand_item']\n",
    "        \n",
    "        # --------------- Explore/Exploit Section ----------------------\n",
    "        if np.random.rand() <= epsilon:\n",
    "          # Explore by randomly select 10/n items from candidate_items\n",
    "          # Get all items from the stream\n",
    "          sample_actions = random.sample(stream_items, 10) if len(stream_items) > 10 else stream_items\n",
    "          action_ids = gen_exist_series(sample_actions, stream_items)\n",
    "        else:\n",
    "          # Exploit by choosing action from the model's prediction\n",
    "          pred_actions = model_predict_top10(model, current_state)\n",
    "          action_ids = gen_exist_series(pred_actions, stream_items)\n",
    "\n",
    "        # --------------- Get next state & info to store ---------------\n",
    "        reward = get_reward(user_phone, stream, action_ids)\n",
    "        next_state = get_full_state(user_all_streams, stream_list, i+1) if not game_over else []\n",
    "\n",
    "        rec_cnt += 1\n",
    "        if sum(reward) > 0:\n",
    "          c_win_cnt += 1\n",
    "          win_cnt += 1\n",
    "\n",
    "        # --------------- Calculating Interest Changes -----------------\n",
    "        interest_score = calculate_interest_change(user_all_streams, stream_list, i)\n",
    "\n",
    "        # --------------- Store Experience -----------------------------\n",
    "        exp_replay.remember(interest_score,\n",
    "                            [current_state, action_ids, reward, next_state],\n",
    "                            game_over)\n",
    "        \n",
    "\n",
    "        # --------------- Load batch of experiences --------------------\n",
    "        inputs, targets = exp_replay.get_batch(model, batch_size=batch_size)\n",
    "        # train model on experiences\n",
    "        batch_loss = model.train_on_batch(inputs, targets)\n",
    "        loss += batch_loss\n",
    "            \n",
    "    if verbose > 0:\n",
    "      print(f'Epoch: {e}/{epochs} | Loss {loss} | Win count {win_cnt} | Rec count {rec_cnt} | Time {datetime.now(pytz.timezone(\"Asia/Taipei\")).strftime(\"%H:%M:%S\")}')\n",
    "    \n",
    "    # Track win history to later check if our model is improving at the game over time.\n",
    "    hist.append(win_cnt)\n",
    "    c_hist.append(c_win_cnt)\n",
    "    rec_list.append(rec_cnt)"
   ]
  },
  {
   "cell_type": "code",
   "execution_count": 2,
   "id": "6d28e144-e732-4036-9765-8386ca3fbb00",
   "metadata": {},
   "outputs": [],
   "source": [
    "pd.set_option('mode.chained_assignment', None)\n",
    "\n",
    "# parameters\n",
    "MAX_MEMORY = 1000  # Maximum number of experiences we are storing\n",
    "BATCH_SIZE = 2  # Number of experiences we use for training per batch\n",
    "EPOCH = 50\n",
    "TOTAL_ACTIONS = 1 # probability of ordering\n",
    "NUM_EPISODE = 100\n",
    "HIDDEN_SIZE = 512\n",
    "\n",
    "\n",
    "warnings.simplefilter(action='ignore', category=FutureWarning)"
   ]
  },
  {
   "cell_type": "markdown",
   "id": "30bd4b39-e518-4b08-8356-bf61ce94210b",
   "metadata": {},
   "source": [
    "### Main Method"
   ]
  },
  {
   "cell_type": "code",
   "execution_count": null,
   "id": "66b0f1af-977d-40b8-aad5-8e5771c55fca",
   "metadata": {
    "tags": []
   },
   "outputs": [
    {
     "name": "stdout",
     "output_type": "stream",
     "text": [
      "Epoch 0 started.   Time: 13:28:43\n",
      "Epoch: 0/50 | Loss 195.39991076570004 | Win count 301 | Rec count 1233 | Time 13:48:39\n",
      "Epoch 1 started.   Time: 13:48:39\n",
      "Epoch: 1/50 | Loss 158.69009656086564 | Win count 276 | Rec count 969 | Time 14:04:29\n",
      "Epoch 2 started.   Time: 14:04:29\n",
      "Epoch: 2/50 | Loss 170.69441264867783 | Win count 282 | Rec count 1055 | Time 14:21:35\n",
      "Epoch 3 started.   Time: 14:21:35\n",
      "Epoch: 3/50 | Loss 170.46278010495007 | Win count 342 | Rec count 1194 | Time 14:41:02\n",
      "Epoch 4 started.   Time: 14:41:02\n",
      "Epoch: 4/50 | Loss 122.63620313443244 | Win count 296 | Rec count 975 | Time 14:56:57\n",
      "Epoch 5 started.   Time: 14:56:57\n",
      "Epoch: 5/50 | Loss 148.3875130917877 | Win count 383 | Rec count 1264 | Time 15:17:34\n",
      "Epoch 6 started.   Time: 15:17:34\n",
      "Epoch: 6/50 | Loss 103.8623224766925 | Win count 262 | Rec count 893 | Time 15:32:11\n",
      "Epoch 7 started.   Time: 15:32:11\n",
      "Epoch: 7/50 | Loss 135.9428073023446 | Win count 355 | Rec count 1362 | Time 15:54:31\n",
      "Epoch 8 started.   Time: 15:54:31\n",
      "Epoch: 8/50 | Loss 111.65916481683962 | Win count 290 | Rec count 1047 | Time 16:11:37\n",
      "Epoch 9 started.   Time: 16:11:37\n",
      "Epoch: 9/50 | Loss 101.63985231687548 | Win count 345 | Rec count 1117 | Time 16:29:49\n",
      "Epoch 10 started.   Time: 16:29:49\n",
      "Epoch: 10/50 | Loss 78.85697291255929 | Win count 248 | Rec count 953 | Time 16:45:21\n",
      "Epoch 11 started.   Time: 16:45:21\n",
      "Epoch: 11/50 | Loss 79.70949441939592 | Win count 279 | Rec count 985 | Time 17:01:14\n",
      "Epoch 12 started.   Time: 17:01:14\n",
      "Epoch: 12/50 | Loss 58.875383445993066 | Win count 288 | Rec count 1031 | Time 17:18:08\n",
      "Epoch 13 started.   Time: 17:18:08\n",
      "Epoch: 13/50 | Loss 68.45520501676947 | Win count 349 | Rec count 1193 | Time 17:37:29\n",
      "Epoch 14 started.   Time: 17:37:29\n",
      "Epoch: 14/50 | Loss 46.62205163028557 | Win count 307 | Rec count 1086 | Time 17:55:21\n",
      "Epoch 15 started.   Time: 17:55:21\n",
      "Epoch: 15/50 | Loss 42.01203543134034 | Win count 321 | Rec count 1008 | Time 18:11:57\n",
      "Epoch 16 started.   Time: 18:11:57\n",
      "Epoch: 16/50 | Loss 48.4544698419013 | Win count 345 | Rec count 1299 | Time 18:33:19\n",
      "Epoch 17 started.   Time: 18:33:19\n",
      "Epoch: 17/50 | Loss 39.14460438946844 | Win count 275 | Rec count 1045 | Time 18:50:34\n",
      "Epoch 18 started.   Time: 18:50:34\n",
      "Epoch: 18/50 | Loss 39.16493531964079 | Win count 335 | Rec count 1241 | Time 19:11:18\n",
      "Epoch 19 started.   Time: 19:11:18\n",
      "Epoch: 19/50 | Loss 35.65251178842118 | Win count 360 | Rec count 1229 | Time 19:32:02\n",
      "Epoch 20 started.   Time: 19:32:02\n",
      "Epoch: 20/50 | Loss 26.38810196579152 | Win count 297 | Rec count 1029 | Time 19:49:28\n",
      "Epoch 21 started.   Time: 19:49:28\n",
      "Epoch: 21/50 | Loss 23.01358861888002 | Win count 254 | Rec count 1072 | Time 20:07:38\n",
      "Epoch 22 started.   Time: 20:07:38\n",
      "Epoch: 22/50 | Loss 20.18489048675292 | Win count 246 | Rec count 1028 | Time 20:25:12\n",
      "Epoch 23 started.   Time: 20:25:12\n",
      "Epoch: 23/50 | Loss 12.454454858809598 | Win count 248 | Rec count 1095 | Time 20:43:59\n",
      "Epoch 24 started.   Time: 20:43:59\n",
      "Epoch: 24/50 | Loss 15.392548698658743 | Win count 232 | Rec count 1109 | Time 21:03:12\n",
      "Epoch 25 started.   Time: 21:03:12\n",
      "Epoch: 25/50 | Loss 10.547788921860304 | Win count 214 | Rec count 1000 | Time 21:20:28\n",
      "Epoch 26 started.   Time: 21:20:28\n",
      "Epoch: 26/50 | Loss 11.39698523331052 | Win count 267 | Rec count 1147 | Time 21:40:08\n",
      "Epoch 27 started.   Time: 21:40:08\n",
      "Epoch: 27/50 | Loss 8.701199368104565 | Win count 272 | Rec count 1131 | Time 21:59:55\n",
      "Epoch 28 started.   Time: 21:59:55\n",
      "Epoch: 28/50 | Loss 7.062420306784702 | Win count 228 | Rec count 965 | Time 22:16:39\n",
      "Epoch 29 started.   Time: 22:16:39\n",
      "Epoch: 29/50 | Loss 6.685500360964001 | Win count 228 | Rec count 1074 | Time 22:35:25\n",
      "Epoch 30 started.   Time: 22:35:25\n",
      "Epoch: 30/50 | Loss 6.182824397900333 | Win count 214 | Rec count 1118 | Time 22:54:55\n",
      "Epoch 31 started.   Time: 22:54:55\n",
      "Epoch: 31/50 | Loss 5.6305519411989735 | Win count 225 | Rec count 1100 | Time 23:14:16\n",
      "Epoch 32 started.   Time: 23:14:16\n"
     ]
    }
   ],
   "source": [
    "exp_replay = ReplayBuffer(max_memory=MAX_MEMORY)# Our model's architecture parameters\n",
    "input_size = 473 # The input shape for model - this comes from the output shape of the CNN Mobilenet\n",
    "\n",
    "# Setting up the model with keras.\n",
    "model = keras.Sequential()\n",
    "model.add(Dense(HIDDEN_SIZE, input_shape=(input_size,), activation='relu'))\n",
    "model.add(Dense(HIDDEN_SIZE, activation='tanh'))\n",
    "model.add(Dense(TOTAL_ACTIONS))\n",
    "model.compile(Adam(learning_rate=.000001), \"mse\")\n",
    "\n",
    "hist = []\n",
    "c_hist = []\n",
    "rec_list = []\n",
    "\n",
    "# Training the model\n",
    "train(model, \n",
    "      exp_replay, \n",
    "      epochs=EPOCH, \n",
    "      batch_size=BATCH_SIZE, \n",
    "      num_episode=NUM_EPISODE, \n",
    "      verbose=1, \n",
    "      reward_set='strict',\n",
    "      hist=hist,\n",
    "      c_hist=c_hist,\n",
    "      rec_list=rec_list)\n",
    "plt.plot(range(EPOCH), hist)"
   ]
  },
  {
   "cell_type": "code",
   "execution_count": null,
   "id": "93b60988-b8fb-4035-b19b-ee73fb6c2f94",
   "metadata": {},
   "outputs": [],
   "source": []
  },
  {
   "cell_type": "code",
   "execution_count": null,
   "id": "ccc3395a-8494-49dc-bb82-6017a9f7befe",
   "metadata": {},
   "outputs": [],
   "source": []
  },
  {
   "cell_type": "code",
   "execution_count": null,
   "id": "f2118731-4890-4dbf-a335-907b022ab6ce",
   "metadata": {},
   "outputs": [],
   "source": [
    "c_hist[-1]/sum(rec_list)"
   ]
  },
  {
   "cell_type": "code",
   "execution_count": null,
   "id": "c648ec5c-71db-4971-a291-7ecd0ea730c7",
   "metadata": {},
   "outputs": [],
   "source": [
    "bert = np.load('../../data/jambo_iname2embedding.npy', allow_pickle=True)[None][0]"
   ]
  },
  {
   "cell_type": "code",
   "execution_count": null,
   "id": "5413c06d-533d-4ca0-b65c-edccb33376f1",
   "metadata": {},
   "outputs": [],
   "source": [
    "list(bert.keys())[:2]"
   ]
  },
  {
   "cell_type": "code",
   "execution_count": null,
   "id": "4e81c1cd-61c5-4906-a012-c29afd9cf93e",
   "metadata": {},
   "outputs": [],
   "source": [
    "bert['【商城】W08-76 休閒毯'].shape"
   ]
  },
  {
   "cell_type": "code",
   "execution_count": null,
   "id": "f95c8631-f5e7-4940-9594-6fb898575204",
   "metadata": {},
   "outputs": [],
   "source": []
  },
  {
   "cell_type": "code",
   "execution_count": null,
   "id": "30cc7697-af94-4bdc-8785-f67d1d026dce",
   "metadata": {},
   "outputs": [],
   "source": []
  },
  {
   "cell_type": "code",
   "execution_count": null,
   "id": "a37da343-9479-4e80-9b0b-c7a900865fff",
   "metadata": {},
   "outputs": [],
   "source": [
    "with open('9.txt', 'w') as f:\n",
    "  f.write(' hist: \\n')\n",
    "  f.write(', '.join([str(a) for a in hist]))\n",
    "  f.write('\\n c_hist: \\n')\n",
    "  f.write(', '.join([str(a) for a in c_hist]))\n",
    "  f.write('\\n rec_list: \\n')\n",
    "  f.write(', '.join([str(a) for a in rec_list]))\n"
   ]
  },
  {
   "cell_type": "code",
   "execution_count": null,
   "id": "9a7d005d-a0cf-4e2a-bed3-51a6f9da0f6c",
   "metadata": {},
   "outputs": [],
   "source": []
  },
  {
   "cell_type": "code",
   "execution_count": 11,
   "id": "c18223ad-f181-4780-b45d-3f7421598335",
   "metadata": {},
   "outputs": [
    {
     "data": {
      "text/plain": [
       "0.2312752753498947"
      ]
     },
     "execution_count": 11,
     "metadata": {},
     "output_type": "execute_result"
    }
   ],
   "source": [
    "c_hist[-1]/sum(rec_list)"
   ]
  },
  {
   "cell_type": "code",
   "execution_count": null,
   "id": "b6f64715-795b-4508-9ce6-77438898f63d",
   "metadata": {},
   "outputs": [],
   "source": []
  },
  {
   "cell_type": "code",
   "execution_count": null,
   "id": "e9b49b19-994d-4717-9eee-b2555f466a48",
   "metadata": {},
   "outputs": [],
   "source": []
  },
  {
   "cell_type": "code",
   "execution_count": 3,
   "id": "1e73ff35-e4a5-443f-95c2-c06cb23d5133",
   "metadata": {},
   "outputs": [
    {
     "data": {
      "text/plain": [
       "50"
      ]
     },
     "execution_count": 3,
     "metadata": {},
     "output_type": "execute_result"
    }
   ],
   "source": [
    "hist9 = [301, 276, 282, 342, 296, 383, 262, 355, 290, 345, 248, 279, 288, 349, 307, 321, 345, 275, 335, 360, 297, 254, 246, 248, 232, 214, 267, 272, 228, 228, 214, 225, 222, 187, 187, 183, 153, 164, 205, 188, 171, 205, 151, 171, 170, 163, 211, 166, 150, 199]\n",
    "c_hist9 = [301, 577, 859, 1201, 1497, 1880, 2142, 2497, 2787, 3132, 3380, 3659, 3947, 4296, 4603, 4924, 5269, 5544, 5879, 6239, 6536, 6790, 7036, 7284, 7516, 7730, 7997, 8269, 8497, 8725, 8939, 9164, 9386, 9573, 9760, 9943, 10096, 10260, 10465, 10653, 10824, 11029, 11180, 11351, 11521, 11684, 11895, 12061, 12211, 12410]\n",
    "rec_list9 = [1233, 969, 1055, 1194, 975, 1264, 893, 1362, 1047, 1117, 953, 985, 1031, 1193, 1086, 1008, 1299, 1045, 1241, 1229, 1029, 1072, 1028, 1095, 1109, 1000, 1147, 1131, 965, 1074, 1118, 1100, 1134, 972, 929, 1057, 896, 957, 1157, 977, 1082, 1200, 910, 1110, 1009, 1049, 1086, 995, 963, 1129]\n",
    "len(hist9)"
   ]
  },
  {
   "cell_type": "code",
   "execution_count": 4,
   "id": "f867adc7-3e2e-48dd-a475-a9cca60fef6e",
   "metadata": {},
   "outputs": [
    {
     "data": {
      "text/plain": [
       "34"
      ]
     },
     "execution_count": 4,
     "metadata": {},
     "output_type": "execute_result"
    }
   ],
   "source": [
    "hist15 = [331, 499, 434, 368, 393, 287, 317, 300, 445, 417, 435, 407, 394, 420, 406, 341, 362, 315, 310, 328, 304, 381, 343, 334, 296, 373, 252, 280, 245, 288, 317, 297, 271, 308]\n",
    "c_hist15 = [331, 830, 1264, 1632, 2025, 2312, 2629, 2929, 3374, 3791, 4226, 4633, 5027, 5447, 5853, 6194, 6556, 6871, 7181, 7509, 7813, 8194, 8537, 8871, 9167, 9540, 9792, 10072, 10317, 10605, 10922, 11219, 11490, 11798]\n",
    "rec_list15 = [1320, 1593, 1378, 1281, 1416, 1151, 1122, 1140, 1476, 1343, 1381, 1340, 1351, 1340, 1357, 1099, 1270, 1218, 1150, 1265, 1169, 1401, 1276, 1416, 1266, 1454, 1093, 1365, 1163, 1327, 1377, 1299, 1289, 1468]\n",
    "len(hist15)"
   ]
  },
  {
   "cell_type": "code",
   "execution_count": 18,
   "id": "7b216cea-f226-4337-a103-413cec55acf6",
   "metadata": {},
   "outputs": [
    {
     "data": {
      "text/plain": [
       "18"
      ]
     },
     "execution_count": 18,
     "metadata": {},
     "output_type": "execute_result"
    }
   ],
   "source": [
    "hist25 = [487, 499, 577, 502, 584, 461, 535, 557, 586, 519, 398, 647, 485, 460, 536, 451, 514, 539]\n",
    "c_hist25 = [487, 986, 1563, 2065, 2649, 3110, 3645, 4202, 4788, 5307, 5705, 6352, 6837, 7297, 7833, 8284, 8798, 9337]\n",
    "rec_list25 = [1423, 1805, 1690, 1615, 1815, 1373, 1749, 1900, 1819, 1603, 1399, 1907, 1541, 1601, 1656, 1493, 1743, 1777]\n",
    "len(c_hist25)"
   ]
  },
  {
   "cell_type": "code",
   "execution_count": 19,
   "id": "87e7caf1-c5b0-4fbd-81f9-9802e9837402",
   "metadata": {},
   "outputs": [
    {
     "data": {
      "image/png": "[encoded data removed]",
      "text/plain": [
       "<Figure size 432x288 with 1 Axes>"
      ]
     },
     "metadata": {
      "needs_background": "light"
     },
     "output_type": "display_data"
    }
   ],
   "source": [
    "plt.plot(range(18), c_hist9[:18], label='buy cnt = 9')\n",
    "plt.plot(range(18), c_hist15[:18], label='buy cnt = 15')\n",
    "plt.plot(range(18), c_hist25, label='buy cnt = 25')\n",
    "plt.title('Cumulated Hit Count')\n",
    "plt.legend()\n",
    "plt.show()"
   ]
  },
  {
   "cell_type": "code",
   "execution_count": 23,
   "id": "907a88aa-e6ec-4029-9d82-f9d9f2c772e4",
   "metadata": {},
   "outputs": [],
   "source": [
    "avg_ratio9 = [a/b for a, b in zip(hist9[:18], rec_list9[:18])]\n",
    "avg_ratio15 = [a/b for a, b in zip(hist15[:18], rec_list15[:18])]\n",
    "avg_ratio25 = [a/b for a, b in zip(hist25[:18], rec_list25[:18])]"
   ]
  },
  {
   "cell_type": "code",
   "execution_count": 24,
   "id": "21724b07-5008-4b3d-902e-d3e7e5aa7cd0",
   "metadata": {},
   "outputs": [
    {
     "data": {
      "image/png": "[encoded data removed]",
      "text/plain": [
       "<Figure size 432x288 with 1 Axes>"
      ]
     },
     "metadata": {
      "needs_background": "light"
     },
     "output_type": "display_data"
    }
   ],
   "source": [
    "plt.plot(range(18), avg_ratio9, label='buy cnt = 9')\n",
    "plt.plot(range(18), avg_ratio15, label='buy cnt = 15')\n",
    "plt.plot(range(18), avg_ratio25, label='buy cnt = 25')\n",
    "plt.title('Hit Rate Per Episode')\n",
    "plt.legend()\n",
    "plt.show()"
   ]
  },
  {
   "cell_type": "code",
   "execution_count": 28,
   "id": "06229af7-9685-48c5-aca1-e47cf853314a",
   "metadata": {},
   "outputs": [],
   "source": [
    "temp_dict={9: avg_ratio9,\n",
    " 15: avg_ratio15,\n",
    " 25: avg_ratio25}"
   ]
  },
  {
   "cell_type": "code",
   "execution_count": 29,
   "id": "7fa07f17-0fb9-438b-b0fd-d003e433163d",
   "metadata": {},
   "outputs": [],
   "source": [
    "df = pd.DataFrame.from_dict(temp_dict)"
   ]
  },
  {
   "cell_type": "code",
   "execution_count": 32,
   "id": "6f1925db-db81-4e3e-89d5-e09d52b64cc7",
   "metadata": {},
   "outputs": [
    {
     "data": {
      "text/html": [
       "<div>\n",
       "<style scoped>\n",
       "    .dataframe tbody tr th:only-of-type {\n",
       "        vertical-align: middle;\n",
       "    }\n",
       "\n",
       "    .dataframe tbody tr th {\n",
       "        vertical-align: top;\n",
       "    }\n",
       "\n",
       "    .dataframe thead th {\n",
       "        text-align: right;\n",
       "    }\n",
       "</style>\n",
       "<table border=\"1\" class=\"dataframe\">\n",
       "  <thead>\n",
       "    <tr style=\"text-align: right;\">\n",
       "      <th></th>\n",
       "      <th>9</th>\n",
       "      <th>15</th>\n",
       "      <th>25</th>\n",
       "    </tr>\n",
       "  </thead>\n",
       "  <tbody>\n",
       "    <tr>\n",
       "      <th>count</th>\n",
       "      <td>18.000000</td>\n",
       "      <td>18.000000</td>\n",
       "      <td>18.000000</td>\n",
       "    </tr>\n",
       "    <tr>\n",
       "      <th>mean</th>\n",
       "      <td>0.281912</td>\n",
       "      <td>0.290429</td>\n",
       "      <td>0.312401</td>\n",
       "    </tr>\n",
       "    <tr>\n",
       "      <th>std</th>\n",
       "      <td>0.019502</td>\n",
       "      <td>0.022639</td>\n",
       "      <td>0.020372</td>\n",
       "    </tr>\n",
       "    <tr>\n",
       "      <th>min</th>\n",
       "      <td>0.244120</td>\n",
       "      <td>0.249348</td>\n",
       "      <td>0.276454</td>\n",
       "    </tr>\n",
       "    <tr>\n",
       "      <th>25%</th>\n",
       "      <td>0.266016</td>\n",
       "      <td>0.278790</td>\n",
       "      <td>0.296689</td>\n",
       "    </tr>\n",
       "    <tr>\n",
       "      <th>50%</th>\n",
       "      <td>0.282969</td>\n",
       "      <td>0.295413</td>\n",
       "      <td>0.312783</td>\n",
       "    </tr>\n",
       "    <tr>\n",
       "      <th>75%</th>\n",
       "      <td>0.293180</td>\n",
       "      <td>0.310445</td>\n",
       "      <td>0.323744</td>\n",
       "    </tr>\n",
       "    <tr>\n",
       "      <th>max</th>\n",
       "      <td>0.318452</td>\n",
       "      <td>0.314989</td>\n",
       "      <td>0.342235</td>\n",
       "    </tr>\n",
       "  </tbody>\n",
       "</table>\n",
       "</div>"
      ],
      "text/plain": [
       "              9          15         25\n",
       "count  18.000000  18.000000  18.000000\n",
       "mean    0.281912   0.290429   0.312401\n",
       "std     0.019502   0.022639   0.020372\n",
       "min     0.244120   0.249348   0.276454\n",
       "25%     0.266016   0.278790   0.296689\n",
       "50%     0.282969   0.295413   0.312783\n",
       "75%     0.293180   0.310445   0.323744\n",
       "max     0.318452   0.314989   0.342235"
      ]
     },
     "execution_count": 32,
     "metadata": {},
     "output_type": "execute_result"
    }
   ],
   "source": [
    "df.describe()"
   ]
  },
  {
   "cell_type": "code",
   "execution_count": null,
   "id": "a1167552-efb5-4a19-938e-e0b96bddf05b",
   "metadata": {},
   "outputs": [],
   "source": []
  },
  {
   "cell_type": "code",
   "execution_count": null,
   "id": "d593657e-63eb-43b0-a0a8-7e67ac43e337",
   "metadata": {},
   "outputs": [],
   "source": []
  },
  {
   "cell_type": "code",
   "execution_count": null,
   "id": "ea1c3b40-cff1-4d05-98d1-209c4a72f050",
   "metadata": {},
   "outputs": [],
   "source": []
  },
  {
   "cell_type": "code",
   "execution_count": null,
   "id": "0cf8c5f0-10ea-446b-9b78-997eb4062b3b",
   "metadata": {},
   "outputs": [],
   "source": []
  }
 ],
 "metadata": {
  "interpreter": {
   "hash": "e5d26d15f81c32561881a39c85bdcf5a2542c694b6b4a6d5e9280707d5ee0206"
  },
  "kernelspec": {
   "display_name": "Python 3",
   "language": "python",
   "name": "python3"
  },
  "language_info": {
   "codemirror_mode": {
    "name": "ipython",
    "version": 3
   },
   "file_extension": ".py",
   "mimetype": "text/x-python",
   "name": "python",
   "nbconvert_exporter": "python",
   "pygments_lexer": "ipython3",
   "version": "3.6.9"
  }
 },
 "nbformat": 4,
 "nbformat_minor": 5
}
