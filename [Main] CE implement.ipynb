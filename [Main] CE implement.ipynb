{
 "cells": [
  {
   "cell_type": "markdown",
   "id": "7151cbf0-080a-40d0-ae87-89d1a2d746f6",
   "metadata": {},
   "source": [
    "# Cross Entropy Capturing User Preference Changes Implementation"
   ]
  },
  {
   "cell_type": "code",
   "execution_count": 2,
   "id": "80297ca2",
   "metadata": {},
   "outputs": [],
   "source": [
    "import pandas as pd\n",
    "import numpy as np\n",
    "from sklearn.preprocessing import LabelEncoder\n",
    "import random\n",
    "import itertools"
   ]
  },
  {
   "cell_type": "code",
   "execution_count": 3,
   "id": "eb1e0081",
   "metadata": {},
   "outputs": [],
   "source": [
    "DATA = pd.read_csv('../data/6897-1y-c.csv')"
   ]
  },
  {
   "cell_type": "code",
   "execution_count": 4,
   "id": "b9ff32ba",
   "metadata": {},
   "outputs": [
    {
     "data": {
      "text/plain": [
       "0.0365678187939242"
      ]
     },
     "execution_count": 4,
     "metadata": {},
     "output_type": "execute_result"
    }
   ],
   "source": [
    "DATA['場次'].isnull().sum()/DATA.shape[0]"
   ]
  },
  {
   "cell_type": "markdown",
   "id": "a6deffe3",
   "metadata": {
    "tags": []
   },
   "source": [
    "## Preprocessing"
   ]
  },
  {
   "cell_type": "markdown",
   "id": "340eb32e",
   "metadata": {},
   "source": [
    "### Handle Username Formats"
   ]
  },
  {
   "cell_type": "code",
   "execution_count": 5,
   "id": "216fb383-cb24-4be8-936e-9026a74cf9f1",
   "metadata": {},
   "outputs": [],
   "source": [
    "def replace_invalid(string):\n",
    "  string = string.replace('-', '')\n",
    "  string = string.replace('/', '')\n",
    "  string = string.replace('*', '')\n",
    "  string = string.replace(' ', '')\n",
    "  string = string.replace('劉德玲', '')\n",
    "  return string\n",
    "\n",
    "DATA['聯絡電話'] = DATA['聯絡電話'].apply(replace_invalid)"
   ]
  },
  {
   "cell_type": "markdown",
   "id": "b1d3c652",
   "metadata": {},
   "source": [
    "### 處理 period （前六碼）"
   ]
  },
  {
   "cell_type": "code",
   "execution_count": 6,
   "id": "a04cc7a9",
   "metadata": {
    "scrolled": true
   },
   "outputs": [],
   "source": [
    "DATA['period'] = DATA['下單日期'].astype(str).apply(lambda x: x[:6])"
   ]
  },
  {
   "cell_type": "markdown",
   "id": "64707882",
   "metadata": {},
   "source": [
    "### One Hot Encoding\n",
    "* 處理 category, shipment, payment\n",
    "* 要先做 label encoding 才能做 one hot encoding"
   ]
  },
  {
   "cell_type": "code",
   "execution_count": 7,
   "id": "7331205a-fbc0-46ee-ab78-1fad0e873eef",
   "metadata": {},
   "outputs": [],
   "source": [
    "le = LabelEncoder()\n",
    "DATA['category_label'] = le.fit_transform(DATA['商品分類'])\n",
    "DATA = pd.concat([DATA, pd.get_dummies(DATA['category_label'], prefix='cat')], axis = 1)\n",
    "\n",
    "DATA['shipment'] = le.fit_transform(DATA['運送方式'])\n",
    "DATA['payment'] = le.fit_transform(DATA['付款方式'])\n",
    "DATA = pd.get_dummies(DATA,\n",
    "                      prefix=['shipment', 'payment'],\n",
    "                      columns=['shipment', 'payment'])"
   ]
  },
  {
   "cell_type": "markdown",
   "id": "4307d482",
   "metadata": {},
   "source": [
    "### Create `item_id`"
   ]
  },
  {
   "cell_type": "code",
   "execution_count": 8,
   "id": "e2b3ef3a",
   "metadata": {},
   "outputs": [],
   "source": [
    "# Generating item ids\n",
    "shuffled_items = DATA['商品名稱'].sample(frac=1).reset_index(drop=True).unique()\n",
    "item_dict = { x: i for i, x in enumerate(shuffled_items) }\n",
    "\n",
    "DATA['item_id'] = DATA['商品名稱'].map(item_dict)"
   ]
  },
  {
   "cell_type": "markdown",
   "id": "137f9e06",
   "metadata": {},
   "source": [
    "### 場次為空\n",
    "<font color='yellow'>\n",
    "\n",
    "問題：\n",
    "1. 有些下單日期與場次不相同，兩個欄位儲存內容的差異？\n",
    "2. 填入 下單日期 作為場次後，user x streams 的數量為 72,380（有購買紀錄）\n",
    "   * 如果要讓 user x 所有 stream，資料筆數會從 1,437,160 變成 4,605,980，會產生很多場次屬於 沒有答案 的情境\n",
    "3. 場次為空的紀錄有 10547 筆，佔 total data 的 0.0366\n",
    "\n",
    "</font>"
   ]
  },
  {
   "cell_type": "code",
   "execution_count": 9,
   "id": "045f599c",
   "metadata": {},
   "outputs": [
    {
     "data": {
      "text/plain": [
       "(0.0365678187939242, 288423)"
      ]
     },
     "execution_count": 9,
     "metadata": {},
     "output_type": "execute_result"
    }
   ],
   "source": [
    "DATA['場次'].isnull().sum()/DATA.shape[0], DATA.shape[0]"
   ]
  },
  {
   "cell_type": "code",
   "execution_count": 10,
   "id": "5180b430",
   "metadata": {},
   "outputs": [],
   "source": [
    "DATA['場次'] = DATA['場次'].fillna(DATA['下單日期'])"
   ]
  },
  {
   "cell_type": "markdown",
   "id": "7b1c8cb6",
   "metadata": {},
   "source": [
    "## Constants Needed"
   ]
  },
  {
   "cell_type": "code",
   "execution_count": 11,
   "id": "33f68214",
   "metadata": {},
   "outputs": [],
   "source": [
    "LB_CE = [f'cat_{i}' for i in range(228)] + [f'shipment_{i}' for i in range(4)] + [f'payment_{i}' for i in range(2)]\n",
    "USER_LIST = DATA['聯絡電話'].unique()\n",
    "STREAM_LIST = DATA['場次'].unique()\n",
    "STREAM_LIST.sort()\n",
    "\n",
    "# Creating the row axis labels \n",
    "LB_PERIOD = list(DATA['period'].unique())\n",
    "LB_USER = ['user']\n",
    "LB_PQ = ['total_price', 'total_quantity']\n",
    "LB_CAT = [f'cat_{x}' for x in list(range(228))]\n",
    "LB_SHIPMENT_PAYMENT = ['shipment_0', 'shipment_1', 'shipment_2', 'shipment_3', 'payment_0', 'payment_1']\n",
    "USER_LB = LB_PERIOD + LB_USER + LB_PQ + LB_SHIPMENT_PAYMENT\n",
    "LB_ITEMS = ['item_id', 'avg_price', 'count'] + LB_CAT\n"
   ]
  },
  {
   "cell_type": "markdown",
   "id": "8e8a2374",
   "metadata": {},
   "source": [
    "## Context Representation\n",
    "user x stream data\n",
    "\n",
    "<font color='yellow'>\n",
    "如果 context = user + stream + other feature，好像沒有存在的必要\n",
    "</font>"
   ]
  },
  {
   "cell_type": "code",
   "execution_count": 12,
   "id": "cadd8d59",
   "metadata": {},
   "outputs": [
    {
     "data": {
      "text/html": [
       "<div>\n",
       "<style scoped>\n",
       "    .dataframe tbody tr th:only-of-type {\n",
       "        vertical-align: middle;\n",
       "    }\n",
       "\n",
       "    .dataframe tbody tr th {\n",
       "        vertical-align: top;\n",
       "    }\n",
       "\n",
       "    .dataframe thead th {\n",
       "        text-align: right;\n",
       "    }\n",
       "</style>\n",
       "<table border=\"1\" class=\"dataframe\">\n",
       "  <thead>\n",
       "    <tr style=\"text-align: right;\">\n",
       "      <th></th>\n",
       "      <th></th>\n",
       "      <th>下單日期</th>\n",
       "      <th>單價</th>\n",
       "      <th>數量</th>\n",
       "      <th>折扣</th>\n",
       "      <th>總金額</th>\n",
       "      <th>專屬折扣</th>\n",
       "      <th>運費</th>\n",
       "      <th>信用卡手續費</th>\n",
       "      <th>紅利折抵</th>\n",
       "      <th>收款金額</th>\n",
       "      <th>...</th>\n",
       "      <th>cat_224</th>\n",
       "      <th>cat_225</th>\n",
       "      <th>cat_226</th>\n",
       "      <th>cat_227</th>\n",
       "      <th>shipment_0</th>\n",
       "      <th>shipment_1</th>\n",
       "      <th>shipment_2</th>\n",
       "      <th>shipment_3</th>\n",
       "      <th>payment_0</th>\n",
       "      <th>payment_1</th>\n",
       "    </tr>\n",
       "    <tr>\n",
       "      <th>聯絡電話</th>\n",
       "      <th>場次</th>\n",
       "      <th></th>\n",
       "      <th></th>\n",
       "      <th></th>\n",
       "      <th></th>\n",
       "      <th></th>\n",
       "      <th></th>\n",
       "      <th></th>\n",
       "      <th></th>\n",
       "      <th></th>\n",
       "      <th></th>\n",
       "      <th></th>\n",
       "      <th></th>\n",
       "      <th></th>\n",
       "      <th></th>\n",
       "      <th></th>\n",
       "      <th></th>\n",
       "      <th></th>\n",
       "      <th></th>\n",
       "      <th></th>\n",
       "      <th></th>\n",
       "      <th></th>\n",
       "    </tr>\n",
       "  </thead>\n",
       "  <tbody>\n",
       "    <tr>\n",
       "      <th>02268052110975092973</th>\n",
       "      <th>20201029.0</th>\n",
       "      <td>20201029</td>\n",
       "      <td>677</td>\n",
       "      <td>1</td>\n",
       "      <td>0</td>\n",
       "      <td>677</td>\n",
       "      <td>0</td>\n",
       "      <td>60</td>\n",
       "      <td>0</td>\n",
       "      <td>0</td>\n",
       "      <td>737</td>\n",
       "      <td>...</td>\n",
       "      <td>0</td>\n",
       "      <td>0</td>\n",
       "      <td>0</td>\n",
       "      <td>0</td>\n",
       "      <td>0</td>\n",
       "      <td>1</td>\n",
       "      <td>0</td>\n",
       "      <td>0</td>\n",
       "      <td>0</td>\n",
       "      <td>1</td>\n",
       "    </tr>\n",
       "    <tr>\n",
       "      <th rowspan=\"2\" valign=\"top\">0266020137</th>\n",
       "      <th>20210718.0</th>\n",
       "      <td>40421436</td>\n",
       "      <td>532</td>\n",
       "      <td>10</td>\n",
       "      <td>0</td>\n",
       "      <td>2660</td>\n",
       "      <td>0</td>\n",
       "      <td>120</td>\n",
       "      <td>82</td>\n",
       "      <td>0</td>\n",
       "      <td>4136</td>\n",
       "      <td>...</td>\n",
       "      <td>0</td>\n",
       "      <td>0</td>\n",
       "      <td>0</td>\n",
       "      <td>0</td>\n",
       "      <td>0</td>\n",
       "      <td>2</td>\n",
       "      <td>0</td>\n",
       "      <td>0</td>\n",
       "      <td>2</td>\n",
       "      <td>0</td>\n",
       "    </tr>\n",
       "    <tr>\n",
       "      <th>20210729.0</th>\n",
       "      <td>80842916</td>\n",
       "      <td>1158</td>\n",
       "      <td>8</td>\n",
       "      <td>0</td>\n",
       "      <td>1274</td>\n",
       "      <td>0</td>\n",
       "      <td>0</td>\n",
       "      <td>0</td>\n",
       "      <td>0</td>\n",
       "      <td>0</td>\n",
       "      <td>...</td>\n",
       "      <td>0</td>\n",
       "      <td>0</td>\n",
       "      <td>0</td>\n",
       "      <td>0</td>\n",
       "      <td>0</td>\n",
       "      <td>4</td>\n",
       "      <td>0</td>\n",
       "      <td>0</td>\n",
       "      <td>4</td>\n",
       "      <td>0</td>\n",
       "    </tr>\n",
       "    <tr>\n",
       "      <th rowspan=\"2\" valign=\"top\">0266213401</th>\n",
       "      <th>20210701.0</th>\n",
       "      <td>40421402</td>\n",
       "      <td>516</td>\n",
       "      <td>2</td>\n",
       "      <td>0</td>\n",
       "      <td>516</td>\n",
       "      <td>0</td>\n",
       "      <td>120</td>\n",
       "      <td>0</td>\n",
       "      <td>0</td>\n",
       "      <td>1134</td>\n",
       "      <td>...</td>\n",
       "      <td>0</td>\n",
       "      <td>0</td>\n",
       "      <td>0</td>\n",
       "      <td>0</td>\n",
       "      <td>0</td>\n",
       "      <td>2</td>\n",
       "      <td>0</td>\n",
       "      <td>0</td>\n",
       "      <td>0</td>\n",
       "      <td>2</td>\n",
       "    </tr>\n",
       "    <tr>\n",
       "      <th>20210711.0</th>\n",
       "      <td>40421422</td>\n",
       "      <td>498</td>\n",
       "      <td>2</td>\n",
       "      <td>0</td>\n",
       "      <td>498</td>\n",
       "      <td>0</td>\n",
       "      <td>0</td>\n",
       "      <td>0</td>\n",
       "      <td>0</td>\n",
       "      <td>0</td>\n",
       "      <td>...</td>\n",
       "      <td>0</td>\n",
       "      <td>0</td>\n",
       "      <td>0</td>\n",
       "      <td>0</td>\n",
       "      <td>0</td>\n",
       "      <td>2</td>\n",
       "      <td>0</td>\n",
       "      <td>0</td>\n",
       "      <td>0</td>\n",
       "      <td>2</td>\n",
       "    </tr>\n",
       "    <tr>\n",
       "      <th>...</th>\n",
       "      <th>...</th>\n",
       "      <td>...</td>\n",
       "      <td>...</td>\n",
       "      <td>...</td>\n",
       "      <td>...</td>\n",
       "      <td>...</td>\n",
       "      <td>...</td>\n",
       "      <td>...</td>\n",
       "      <td>...</td>\n",
       "      <td>...</td>\n",
       "      <td>...</td>\n",
       "      <td>...</td>\n",
       "      <td>...</td>\n",
       "      <td>...</td>\n",
       "      <td>...</td>\n",
       "      <td>...</td>\n",
       "      <td>...</td>\n",
       "      <td>...</td>\n",
       "      <td>...</td>\n",
       "      <td>...</td>\n",
       "      <td>...</td>\n",
       "      <td>...</td>\n",
       "    </tr>\n",
       "    <tr>\n",
       "      <th>0989994927</th>\n",
       "      <th>20210606.0</th>\n",
       "      <td>161684849</td>\n",
       "      <td>1696</td>\n",
       "      <td>11</td>\n",
       "      <td>0</td>\n",
       "      <td>1922</td>\n",
       "      <td>0</td>\n",
       "      <td>60</td>\n",
       "      <td>0</td>\n",
       "      <td>0</td>\n",
       "      <td>1982</td>\n",
       "      <td>...</td>\n",
       "      <td>0</td>\n",
       "      <td>0</td>\n",
       "      <td>0</td>\n",
       "      <td>0</td>\n",
       "      <td>0</td>\n",
       "      <td>8</td>\n",
       "      <td>0</td>\n",
       "      <td>0</td>\n",
       "      <td>0</td>\n",
       "      <td>8</td>\n",
       "    </tr>\n",
       "    <tr>\n",
       "      <th rowspan=\"4\" valign=\"top\">0989996692</th>\n",
       "      <th>20210314.0</th>\n",
       "      <td>20210314</td>\n",
       "      <td>999</td>\n",
       "      <td>1</td>\n",
       "      <td>0</td>\n",
       "      <td>999</td>\n",
       "      <td>0</td>\n",
       "      <td>60</td>\n",
       "      <td>37</td>\n",
       "      <td>0</td>\n",
       "      <td>1861</td>\n",
       "      <td>...</td>\n",
       "      <td>1</td>\n",
       "      <td>0</td>\n",
       "      <td>0</td>\n",
       "      <td>0</td>\n",
       "      <td>1</td>\n",
       "      <td>0</td>\n",
       "      <td>0</td>\n",
       "      <td>0</td>\n",
       "      <td>1</td>\n",
       "      <td>0</td>\n",
       "    </tr>\n",
       "    <tr>\n",
       "      <th>20210318.0</th>\n",
       "      <td>60630954</td>\n",
       "      <td>586</td>\n",
       "      <td>4</td>\n",
       "      <td>0</td>\n",
       "      <td>765</td>\n",
       "      <td>0</td>\n",
       "      <td>0</td>\n",
       "      <td>0</td>\n",
       "      <td>0</td>\n",
       "      <td>0</td>\n",
       "      <td>...</td>\n",
       "      <td>0</td>\n",
       "      <td>0</td>\n",
       "      <td>0</td>\n",
       "      <td>0</td>\n",
       "      <td>3</td>\n",
       "      <td>0</td>\n",
       "      <td>0</td>\n",
       "      <td>0</td>\n",
       "      <td>3</td>\n",
       "      <td>0</td>\n",
       "    </tr>\n",
       "    <tr>\n",
       "      <th>20210321.0</th>\n",
       "      <td>60630963</td>\n",
       "      <td>1886</td>\n",
       "      <td>3</td>\n",
       "      <td>0</td>\n",
       "      <td>1886</td>\n",
       "      <td>0</td>\n",
       "      <td>60</td>\n",
       "      <td>89</td>\n",
       "      <td>0</td>\n",
       "      <td>4528</td>\n",
       "      <td>...</td>\n",
       "      <td>0</td>\n",
       "      <td>0</td>\n",
       "      <td>0</td>\n",
       "      <td>0</td>\n",
       "      <td>0</td>\n",
       "      <td>3</td>\n",
       "      <td>0</td>\n",
       "      <td>0</td>\n",
       "      <td>3</td>\n",
       "      <td>0</td>\n",
       "    </tr>\n",
       "    <tr>\n",
       "      <th>20210325.0</th>\n",
       "      <td>80841302</td>\n",
       "      <td>2493</td>\n",
       "      <td>4</td>\n",
       "      <td>0</td>\n",
       "      <td>2493</td>\n",
       "      <td>0</td>\n",
       "      <td>0</td>\n",
       "      <td>0</td>\n",
       "      <td>0</td>\n",
       "      <td>0</td>\n",
       "      <td>...</td>\n",
       "      <td>0</td>\n",
       "      <td>0</td>\n",
       "      <td>0</td>\n",
       "      <td>0</td>\n",
       "      <td>0</td>\n",
       "      <td>4</td>\n",
       "      <td>0</td>\n",
       "      <td>0</td>\n",
       "      <td>4</td>\n",
       "      <td>0</td>\n",
       "    </tr>\n",
       "  </tbody>\n",
       "</table>\n",
       "<p>72380 rows × 245 columns</p>\n",
       "</div>"
      ],
      "text/plain": [
       "                                      下單日期    單價  數量  折扣   總金額  專屬折扣   運費  \\\n",
       "聯絡電話                 場次                                                     \n",
       "02268052110975092973 20201029.0   20201029   677   1   0   677     0   60   \n",
       "0266020137           20210718.0   40421436   532  10   0  2660     0  120   \n",
       "                     20210729.0   80842916  1158   8   0  1274     0    0   \n",
       "0266213401           20210701.0   40421402   516   2   0   516     0  120   \n",
       "                     20210711.0   40421422   498   2   0   498     0    0   \n",
       "...                                    ...   ...  ..  ..   ...   ...  ...   \n",
       "0989994927           20210606.0  161684849  1696  11   0  1922     0   60   \n",
       "0989996692           20210314.0   20210314   999   1   0   999     0   60   \n",
       "                     20210318.0   60630954   586   4   0   765     0    0   \n",
       "                     20210321.0   60630963  1886   3   0  1886     0   60   \n",
       "                     20210325.0   80841302  2493   4   0  2493     0    0   \n",
       "\n",
       "                                 信用卡手續費  紅利折抵  收款金額  ...  cat_224  cat_225  \\\n",
       "聯絡電話                 場次                              ...                     \n",
       "02268052110975092973 20201029.0       0     0   737  ...        0        0   \n",
       "0266020137           20210718.0      82     0  4136  ...        0        0   \n",
       "                     20210729.0       0     0     0  ...        0        0   \n",
       "0266213401           20210701.0       0     0  1134  ...        0        0   \n",
       "                     20210711.0       0     0     0  ...        0        0   \n",
       "...                                 ...   ...   ...  ...      ...      ...   \n",
       "0989994927           20210606.0       0     0  1982  ...        0        0   \n",
       "0989996692           20210314.0      37     0  1861  ...        1        0   \n",
       "                     20210318.0       0     0     0  ...        0        0   \n",
       "                     20210321.0      89     0  4528  ...        0        0   \n",
       "                     20210325.0       0     0     0  ...        0        0   \n",
       "\n",
       "                                 cat_226  cat_227  shipment_0  shipment_1  \\\n",
       "聯絡電話                 場次                                                     \n",
       "02268052110975092973 20201029.0        0        0           0           1   \n",
       "0266020137           20210718.0        0        0           0           2   \n",
       "                     20210729.0        0        0           0           4   \n",
       "0266213401           20210701.0        0        0           0           2   \n",
       "                     20210711.0        0        0           0           2   \n",
       "...                                  ...      ...         ...         ...   \n",
       "0989994927           20210606.0        0        0           0           8   \n",
       "0989996692           20210314.0        0        0           1           0   \n",
       "                     20210318.0        0        0           3           0   \n",
       "                     20210321.0        0        0           0           3   \n",
       "                     20210325.0        0        0           0           4   \n",
       "\n",
       "                                 shipment_2  shipment_3  payment_0  payment_1  \n",
       "聯絡電話                 場次                                                        \n",
       "02268052110975092973 20201029.0           0           0          0          1  \n",
       "0266020137           20210718.0           0           0          2          0  \n",
       "                     20210729.0           0           0          4          0  \n",
       "0266213401           20210701.0           0           0          0          2  \n",
       "                     20210711.0           0           0          0          2  \n",
       "...                                     ...         ...        ...        ...  \n",
       "0989994927           20210606.0           0           0          0          8  \n",
       "0989996692           20210314.0           0           0          1          0  \n",
       "                     20210318.0           0           0          3          0  \n",
       "                     20210321.0           0           0          3          0  \n",
       "                     20210325.0           0           0          4          0  \n",
       "\n",
       "[72380 rows x 245 columns]"
      ]
     },
     "execution_count": 12,
     "metadata": {},
     "output_type": "execute_result"
    }
   ],
   "source": [
    "USER_STREAM_CONTEXT = DATA.groupby(['聯絡電話', '場次']).sum().loc[:, :'payment_1']\n",
    "USER_STREAM_CONTEXT"
   ]
  },
  {
   "cell_type": "code",
   "execution_count": 13,
   "id": "30916ed5",
   "metadata": {},
   "outputs": [
    {
     "data": {
      "text/plain": [
       "((72380, 245), 11778, 391)"
      ]
     },
     "execution_count": 13,
     "metadata": {},
     "output_type": "execute_result"
    }
   ],
   "source": [
    "USER_STREAM_CONTEXT.shape, len(DATA['聯絡電話'].unique()), len(DATA['場次'].unique())"
   ]
  },
  {
   "cell_type": "markdown",
   "id": "5c247c8d",
   "metadata": {
    "tags": []
   },
   "source": [
    "## Item Representation\n",
    "- 商品 id 來源為 `item_dict`: `商品名稱: item_id`\n",
    "- 可用欄位： `categories(one-hot)`, `price`, `被購買次數`\n",
    "- Columns: `['下單日期', '商品名稱', '規格', '單價', '數量', '折扣', '總金額', '專屬折扣', '運費', '信用卡手續費', '紅利折抵', '收款金額', '付款方式', '運送方式', '收件人', '寄送地址', '聯絡電話', '場次', '處理後名稱', '商品分類', 'period', 'category_label', 0-227, 'shipment_0', 'shipment_1', 'shipment_2', 'shipment_3', 'payment_0', 'payment_1', 'item_id']`"
   ]
  },
  {
   "cell_type": "code",
   "execution_count": 14,
   "id": "1c659067",
   "metadata": {
    "scrolled": true
   },
   "outputs": [],
   "source": [
    "def get_item_df():\n",
    "  item_df = pd.DataFrame(columns=LB_ITEMS)\n",
    "  item_df['item_id'] = DATA.item_id.unique()\n",
    "  # Count\n",
    "  item_count = DATA.groupby('item_id').size()\n",
    "  item_df['count'] = item_df['item_id'].apply(lambda x: item_count[x])\n",
    "  # Cat\n",
    "  item_df.loc[:, LB_CAT] = DATA.groupby('item_id').sum()[LB_CAT]\n",
    "  # Price\n",
    "  item_df['avg_price'] = DATA.groupby('item_id').mean()['單價']\n",
    "  return item_df"
   ]
  },
  {
   "cell_type": "code",
   "execution_count": 15,
   "id": "5e244418",
   "metadata": {},
   "outputs": [],
   "source": [
    "ITEM_DF = get_item_df()"
   ]
  },
  {
   "cell_type": "markdown",
   "id": "f23ac9d2",
   "metadata": {},
   "source": [
    "## Generate Item x Stream data\n",
    "* unique items x each stream\n",
    "* index: item_id\n",
    "* column: stream_id"
   ]
  },
  {
   "cell_type": "code",
   "execution_count": 16,
   "id": "625773cf",
   "metadata": {},
   "outputs": [],
   "source": [
    "def map_item_stream(item_id):\n",
    "  in_streams = DATA.loc[DATA.item_id == item_id]['場次'].unique()\n",
    "  res_series = pd.Series([0]*len(STREAM_LIST))\n",
    "  res_series.index = STREAM_LIST\n",
    "  res_series[in_streams] = 1\n",
    "  return res_series"
   ]
  },
  {
   "cell_type": "code",
   "execution_count": 17,
   "id": "4d992cc1",
   "metadata": {},
   "outputs": [],
   "source": [
    "ITEM_STREAM_DF = pd.DataFrame(index=DATA.item_id.unique(), columns=DATA['場次'].unique())\n",
    "ITEM_STREAM_DF = ITEM_STREAM_DF.apply(lambda x: map_item_stream(x.name), axis=1, result_type='expand')"
   ]
  },
  {
   "cell_type": "markdown",
   "id": "95ff66d2",
   "metadata": {},
   "source": [
    "## [Reward] Generate Real Bought DF"
   ]
  },
  {
   "cell_type": "code",
   "execution_count": 18,
   "id": "9e610350",
   "metadata": {},
   "outputs": [],
   "source": [
    "REAL_BOUGHT_DF = DATA.loc[:, ['聯絡電話', '場次', 'item_id']]"
   ]
  },
  {
   "cell_type": "markdown",
   "id": "d8111db6",
   "metadata": {},
   "source": [
    "## [Action] User bought last stream"
   ]
  },
  {
   "cell_type": "code",
   "execution_count": 19,
   "id": "0785672c",
   "metadata": {},
   "outputs": [],
   "source": [
    "LAST_BOUGHT_STREAM = USER_STREAM_CONTEXT.reset_index().groupby('聯絡電話', as_index=False).last().loc[:, ['聯絡電話', '場次']].set_index('聯絡電話')"
   ]
  },
  {
   "cell_type": "markdown",
   "id": "70849dcc",
   "metadata": {},
   "source": [
    "---\n",
    "### Test Area"
   ]
  },
  {
   "cell_type": "code",
   "execution_count": 27,
   "id": "997f15ea",
   "metadata": {},
   "outputs": [
    {
     "data": {
      "text/plain": [
       "(array([275], dtype=int64),)"
      ]
     },
     "execution_count": 27,
     "metadata": {},
     "output_type": "execute_result"
    }
   ],
   "source": [
    "# STREAM_LIST.where(20210606.0)\n",
    "np.where(STREAM_LIST==20210606.0)"
   ]
  },
  {
   "cell_type": "code",
   "execution_count": 70,
   "id": "63e395c1",
   "metadata": {},
   "outputs": [
    {
     "data": {
      "text/plain": [
       "True"
      ]
     },
     "execution_count": 70,
     "metadata": {},
     "output_type": "execute_result"
    }
   ],
   "source": [
    "USER_STREAM_CONTEXT.columns.to_list()+LB_ITEMS == input_state.index.to_list()+item_feat.columns.to_list()"
   ]
  },
  {
   "cell_type": "code",
   "execution_count": 80,
   "id": "e6cfd543",
   "metadata": {},
   "outputs": [
    {
     "name": "stderr",
     "output_type": "stream",
     "text": [
      "C:\\Users\\user\\anaconda3\\envs\\joanna\\lib\\site-packages\\pandas\\core\\indexing.py:1724: SettingWithCopyWarning: \n",
      "A value is trying to be set on a copy of a slice from a DataFrame\n",
      "\n",
      "See the caveats in the documentation: https://pandas.pydata.org/pandas-docs/stable/user_guide/indexing.html#returning-a-view-versus-a-copy\n",
      "  self._setitem_with_indexer_missing(indexer, value)\n"
     ]
    }
   ],
   "source": [
    "input_state = get_full_state(USER_STREAM_CONTEXT.xs('0989994927', level=\"聯絡電話\"), 276)\n"
   ]
  },
  {
   "cell_type": "markdown",
   "id": "f2394b4f",
   "metadata": {},
   "source": [
    "---\n",
    "## Train DQN model\n",
    "* Input: `user_df` 253, `item_df` 231(BERT: 768), interact (?), `reward` 1\n",
    "* Output: recommend a list of items\n",
    "* Methods Needed\n",
    "    * Environment Function\n",
    "    * Choose Action\n",
    "    * Store Transition\n",
    "    * Learn"
   ]
  },
  {
   "cell_type": "markdown",
   "id": "399a7f02",
   "metadata": {},
   "source": [
    "### Environment\n",
    "Get full state\n",
    "\n",
    "<font color='yellow'>\n",
    "\n",
    "* 參考原論文: user _interest 初始值為 random vector\n",
    "1. 很多筆記錄裡用戶只在一場直播裡購買，如果 random 的話 accuracy 會下降\n",
    "2. 不可能用該期直播的相關紀錄作為 state → 在 user/state context 裡加上 RFML/streamer information\n",
    "3. user x all_stream → 在第一場直播都給予 random vector，對 accuracy 的影響就不會太高（？\n",
    "\n",
    "</font>"
   ]
  },
  {
   "cell_type": "code",
   "execution_count": 58,
   "id": "515d84d9",
   "metadata": {},
   "outputs": [],
   "source": [
    "USER_ALL_STREAM_INIT = USER_STREAM_CONTEXT.describe().loc['50%']\n",
    "\n",
    "def get_full_state(user_all_streams, i):\n",
    "  # Get full state: current_state = user_stream + item_stream\n",
    "  # 第一次參加直播/cold start\n",
    "  # CE paper: user_interest part init with random vector\n",
    "  # TODO init with random values\n",
    "  #      Cold start problem\n",
    "  # USER PART\n",
    "  user_part = USER_ALL_STREAM_INIT if (i - 1) == -1 else user_all_streams.loc[STREAM_LIST[(i - 1)]]\n",
    "  # ITEMS PART\n",
    "  # Get all items from stream\n",
    "  # USER_PART + ITEM_PART\n",
    "  stream_items = ITEM_STREAM_DF.loc[ITEM_STREAM_DF[STREAM_LIST[i]] == 1].index.to_list()\n",
    "  user_part.loc['cand_item'] = stream_items\n",
    "  return user_part\n",
    "\n",
    "\n",
    "def get_reward(user_phone, stream, action_ids):\n",
    "  test_real_bought_ids = REAL_BOUGHT_DF.loc[(REAL_BOUGHT_DF['聯絡電話'] == user_phone) \n",
    "                                            & (REAL_BOUGHT_DF['場次'] == stream)]['item_id'].values\n",
    "\n",
    "  reward = [int(action_id in test_real_bought_ids) for action_id in action_ids]\n",
    "  reward = pd.Series(reward, index=action_ids)\n",
    "  return reward\n",
    "\n",
    "from sklearn.metrics import log_loss\n",
    "\n",
    "def calculate_interest_change(user_all_streams, i):\n",
    "  if i < 0: return 0\n",
    "\n",
    "  former_stream = STREAM_LIST[i-1]\n",
    "  current_stream = STREAM_LIST[i]\n",
    "\n",
    "  test_ce = user_all_streams.loc[:, LB_CE]\n",
    "  ce = log_loss(test_ce.loc[former_stream], test_ce.loc[current_stream])\n",
    "  if ce < 0.01: ce = 0\n",
    "  else: ce = round(ce, 3)\n",
    "  return ce"
   ]
  },
  {
   "cell_type": "markdown",
   "id": "49b1db7a",
   "metadata": {},
   "source": [
    "### Collecting Training Data"
   ]
  },
  {
   "cell_type": "code",
   "execution_count": 23,
   "id": "b4b19f31",
   "metadata": {},
   "outputs": [],
   "source": [
    "class ReplayBuffer:\n",
    "  def __init__(self, max_memory=100000, discount=.9):\n",
    "    \"\"\"\n",
    "    Setup\n",
    "    max_memory: the maximum number of experiences we want to store\n",
    "    memory: a list of experiences\n",
    "    discount: the discount factor for future experience\n",
    "    In the memory the information whether the game ended at the state is stored seperately in a nested array\n",
    "    [...\n",
    "    [experience, game_over]\n",
    "    [experience, game_over]\n",
    "    ...]\n",
    "    \"\"\"\n",
    "    self.max_memory = max_memory\n",
    "    self.memory = list()\n",
    "    self.discount = discount\n",
    "\n",
    "  def remember(self, interest_score, states, game_over):\n",
    "    # Save a state to memory\n",
    "    self.memory.append([interest_score, states, game_over])\n",
    "    # We don't want to store infinite memories, so if we have too many, we just delete the oldest one\n",
    "    if len(self.memory) > self.max_memory:\n",
    "      del self.memory[0]\n",
    "\n",
    "  def get_batch(self, model, batch_size=10):\n",
    "\n",
    "    # How many experiences do we have?\n",
    "    len_memory = len(self.memory)\n",
    "\n",
    "    # Calculate the number of actions that can possibly be taken in the game.\n",
    "    # Actions: 0 = not recommend, 1 = recommend\n",
    "    num_actions = model.output_shape[-1]\n",
    "\n",
    "    # Dimensions of our observed states, ie, the input to our model.\n",
    "    # Memory:  [\n",
    "    #   [interest_score, [ [...state], action, reward, next_state_idx], game_over],\n",
    "    #   [interest_score, [ [...state], action, reward, nexr_state_idx], game_over],\n",
    "    #   ...\n",
    "    # ]\n",
    "    env_dim = self.memory[0][1][0].shape[1]\n",
    "\n",
    "    # We want to return an input and target vector with inputs from an observed state.\n",
    "    inputs = np.zeros((min(len_memory, batch_size), env_dim))\n",
    "\n",
    "    # ...and the target r + gamma * max Q(s',a')\n",
    "    # Note that our target is a matrix, with possible fields not only for the action taken but also for\n",
    "    # the other possible actions. The actions not take the same value as the prediction to not affect them\n",
    "    targets = np.zeros((inputs.shape[0], num_actions))\n",
    "\n",
    "    # We draw states to learn from randomly\n",
    "    for i, idx in enumerate(np.random.randint(0, len_memory, size=inputs.shape[0])):\n",
    "      # Here we load one transition <s, a, r, s'> from memory\n",
    "      state_t, action_t, reward_t, state_tp1 = self.memory[idx][1]\n",
    "      state_t = state_t.astype('float32')\n",
    "      game_over = self.memory[idx][2]\n",
    "\n",
    "      # add the state s to the input\n",
    "      # TODO \n",
    "      '''\n",
    "      修改倒入 state 的方式 input = (state - item) + item_feat\n",
    "      拆掉 model_predict 成 function\n",
    "      '''\n",
    "      inputs[i:i + 1] = state_t\n",
    "\n",
    "      # First we fill the target values with the predictions of the model.\n",
    "      # They will not be affected by training (since the training loss for them is 0)\n",
    "      # TODO\n",
    "      '''\n",
    "      每個 actions 都會被 predict 一個成績/reward\n",
    "      '''\n",
    "      targets[i] = model.predict(state_t)[0]\n",
    "\n",
    "      # if the game ended, the reward is the final reward\n",
    "      if game_over:  # if game_over is True\n",
    "        targets[i, action_t] = reward_t\n",
    "      else:\n",
    "        Q_sa = np.max(model.predict(state_tp1)[0])\n",
    "        # r + gamma * max Q(s',a')\n",
    "        targets[i, action_t] = reward_t + self.discount * Q_sa\n",
    "    return inputs, targets"
   ]
  },
  {
   "cell_type": "code",
   "execution_count": 37,
   "id": "34096412",
   "metadata": {},
   "outputs": [],
   "source": [
    "def get_input(input_state):\n",
    "  # Slice items\n",
    "  items = input_state['cand_item']\n",
    "  input_state = input_state.drop('cand_item')\n",
    "  item_feat = ITEM_DF.loc[items]\n",
    "\n",
    "  # Create new dataframe\n",
    "  stream_item_feat = pd.DataFrame(columns=USER_STREAM_CONTEXT.columns.to_list()+LB_ITEMS, index=item_feat.index)\n",
    "  # Fill in items\n",
    "  stream_item_feat.loc[:, LB_ITEMS] = item_feat\n",
    "  # Fill in other context\n",
    "  stream_item_feat = stream_item_feat.loc[:, USER_STREAM_CONTEXT.columns.to_list()].assign(**input_state)\n",
    "  return stream_item_feat\n",
    "\n",
    "def model_predict_top10(model, input_state):\n",
    "  # Get all items\n",
    "  full_input = get_input(input_state)\n",
    "  # 紀錄所有預測結果\n",
    "  full_input.loc['predict'] = full_input.apply(lambda row: np.argmax(model.predict(row)[0]), axis=1)\n",
    "  return full_input.loc['predict'].nlargest(10)['item_id'].to_list()"
   ]
  },
  {
   "cell_type": "markdown",
   "id": "c80edbaf",
   "metadata": {},
   "source": [
    "### Training Process"
   ]
  },
  {
   "cell_type": "code",
   "execution_count": 24,
   "id": "16054a7a",
   "metadata": {},
   "outputs": [],
   "source": [
    "def train(model, exp_replay, epochs, batch_size, num_episode=1000, verbose=1, reward_set='strict'):\n",
    "  # total_actions = ITEM_DF.shape[0]\n",
    "  total_episodes = len(USER_LIST)\n",
    "  # Reset win counter\n",
    "  win_cnt = 0\n",
    "  win_hist = []\n",
    "\n",
    "  for e in range(epochs):\n",
    "    loss = 0.\n",
    "    # TODO/MAIN: Apply user preference changes as epsilon\n",
    "    # epsilon for exploration - dependent inversely on the training epoch\n",
    "    epsilon = 4 / ((e + 1) ** (1 / 2))\n",
    "\n",
    "    # handling episodes by assigning users from USER_LIST\n",
    "    # Each user represent an Episode\n",
    "    episodes = random.sample(range(total_episodes), num_episode)\n",
    "\n",
    "    print(f'Epoch {e} started.')\n",
    "    # ------------------- Episode (User) -------------------------------\n",
    "    for user_episode in episodes:\n",
    "      # game_over = False\n",
    "      # get episode data by user phone number\n",
    "      user_phone = USER_LIST[user_episode]\n",
    "      user_all_streams = USER_STREAM_CONTEXT.xs(user_phone, level=\"聯絡電話\")\n",
    "      final_stream = LAST_BOUGHT_STREAM.loc[user_phone, '場次']\n",
    "      \n",
    "      # ----------------- Runs (User x All_Stream) ---------------------\n",
    "      for i, stream in enumerate(STREAM_LIST):\n",
    "        game_over = stream == final_stream\n",
    "        \n",
    "        # Get full state: current_state = user_stream + item_stream\n",
    "        # 用上一場紀錄預測下一場直播會購買的商品\n",
    "        current_state = get_full_state(user_all_streams, i)\n",
    "\n",
    "        # --------------- Explore/Exploit Section ----------------------\n",
    "        if np.random.rand() <= epsilon:\n",
    "          # Explore by randomly select 10/n items from candidate_items\n",
    "          # Get all items from the stream\n",
    "          stream_items = ITEM_STREAM_DF[STREAM_LIST[i]][ITEM_STREAM_DF[STREAM_LIST[i]] == 1].index.to_list()\n",
    "          action_ids = random.sample(stream_items, 10)\n",
    "        else:\n",
    "          # Exploit by choosing action from the model's prediction\n",
    "          # TODO Refactor training/predict process\n",
    "          action_ids = model_predict_top10(model, current_state)\n",
    "\n",
    "        # --------------- Get next state & info to store ---------------\n",
    "        reward = get_reward(user_phone, stream, action_ids)\n",
    "        next_state = get_full_state(user_phone, i + 1) \n",
    "\n",
    "        # if reward == 1:\n",
    "        #   win_cnt += 1\n",
    "\n",
    "        # --------------- Calculating Interest Changes -----------------\n",
    "        interest_score = calculate_interest_change(user_phone, i)\n",
    "\n",
    "        # --------------- Store Experience -----------------------------\n",
    "        # TODO Refactor Experience Class\n",
    "        exp_replay.remember(interest_score,\n",
    "                            [current_state.astype('float32'), action_ids, reward, next_state],\n",
    "                            game_over)\n",
    "\n",
    "        # --------------- Load batch of experiences --------------------\n",
    "        inputs, targets = exp_replay.get_batch(model, batch_size=batch_size)\n",
    "        # train model on experiences\n",
    "        batch_loss = model.train_on_batch(inputs, targets)\n",
    "        loss += batch_loss\n",
    "\n",
    "    if verbose > 0:\n",
    "      print(\"Epoch: {:03d}/{:03d} | Loss {:.4f} | Win count {}\".format(e, epochs, loss, win_cnt))\n",
    "    \n",
    "    # Track win history to later check if our model is improving at the game over time.\n",
    "    win_hist.append(win_cnt)\n",
    "  return win_hist"
   ]
  },
  {
   "cell_type": "markdown",
   "id": "79db83e6",
   "metadata": {},
   "source": [
    "### Main Method"
   ]
  },
  {
   "cell_type": "code",
   "execution_count": 25,
   "id": "481cec9d",
   "metadata": {},
   "outputs": [],
   "source": [
    "pd.set_option('mode.chained_assignment', None)\n",
    "import tensorflow as tf\n",
    "from tensorflow import keras\n",
    "from tensorflow.keras.layers import Dense\n",
    "from tensorflow.keras.optimizers import Adam\n",
    "from matplotlib import pyplot as plt\n",
    "\n",
    "# parameters\n",
    "MAX_MEMORY = 1000  # Maximum number of experiences we are storing\n",
    "BATCH_SIZE = 10  # Number of experiences we use for training per batch\n",
    "EPOCH = 500\n",
    "TOTAL_ACTIONS = 2 # 0 = not recommend, 1 = recommend\n",
    "NUM_EPISODE = 100\n",
    "HIDDEN_SIZE = 512"
   ]
  },
  {
   "cell_type": "code",
   "execution_count": 26,
   "id": "880357e2",
   "metadata": {},
   "outputs": [
    {
     "name": "stdout",
     "output_type": "stream",
     "text": [
      "Epoch 0 started.\n"
     ]
    },
    {
     "ename": "TypeError",
     "evalue": "Population must be a sequence or set.  For dicts, use list(d).",
     "output_type": "error",
     "traceback": [
      "\u001b[1;31m---------------------------------------------------------------------------\u001b[0m",
      "\u001b[1;31mTypeError\u001b[0m                                 Traceback (most recent call last)",
      "\u001b[1;32m~\\AppData\\Local\\Temp\\ipykernel_20348\\3288097141.py\u001b[0m in \u001b[0;36m<module>\u001b[1;34m\u001b[0m\n\u001b[0;32m     17\u001b[0m              \u001b[0mnum_episode\u001b[0m\u001b[1;33m=\u001b[0m\u001b[0mNUM_EPISODE\u001b[0m\u001b[1;33m,\u001b[0m\u001b[1;33m\u001b[0m\u001b[1;33m\u001b[0m\u001b[0m\n\u001b[0;32m     18\u001b[0m              \u001b[0mverbose\u001b[0m\u001b[1;33m=\u001b[0m\u001b[1;36m1\u001b[0m\u001b[1;33m,\u001b[0m\u001b[1;33m\u001b[0m\u001b[1;33m\u001b[0m\u001b[0m\n\u001b[1;32m---> 19\u001b[1;33m              reward_set='strict')\n\u001b[0m\u001b[0;32m     20\u001b[0m \u001b[0mplt\u001b[0m\u001b[1;33m.\u001b[0m\u001b[0mplot\u001b[0m\u001b[1;33m(\u001b[0m\u001b[0mrange\u001b[0m\u001b[1;33m(\u001b[0m\u001b[0mEPOCH\u001b[0m\u001b[1;33m)\u001b[0m\u001b[1;33m,\u001b[0m \u001b[0mhist\u001b[0m\u001b[1;33m)\u001b[0m\u001b[1;33m\u001b[0m\u001b[1;33m\u001b[0m\u001b[0m\n",
      "\u001b[1;32m~\\AppData\\Local\\Temp\\ipykernel_20348\\3926259475.py\u001b[0m in \u001b[0;36mtrain\u001b[1;34m(model, exp_replay, epochs, batch_size, num_episode, verbose, reward_set)\u001b[0m\n\u001b[0;32m     37\u001b[0m         \u001b[1;32mif\u001b[0m \u001b[0mnp\u001b[0m\u001b[1;33m.\u001b[0m\u001b[0mrandom\u001b[0m\u001b[1;33m.\u001b[0m\u001b[0mrand\u001b[0m\u001b[1;33m(\u001b[0m\u001b[1;33m)\u001b[0m \u001b[1;33m<=\u001b[0m \u001b[0mepsilon\u001b[0m\u001b[1;33m:\u001b[0m\u001b[1;33m\u001b[0m\u001b[1;33m\u001b[0m\u001b[0m\n\u001b[0;32m     38\u001b[0m           \u001b[1;31m# Explore by randomly select 10/n items from candidate_items\u001b[0m\u001b[1;33m\u001b[0m\u001b[1;33m\u001b[0m\u001b[1;33m\u001b[0m\u001b[0m\n\u001b[1;32m---> 39\u001b[1;33m           \u001b[0maction_ids\u001b[0m \u001b[1;33m=\u001b[0m \u001b[0mrandom\u001b[0m\u001b[1;33m.\u001b[0m\u001b[0msample\u001b[0m\u001b[1;33m(\u001b[0m\u001b[0mstream_items\u001b[0m\u001b[1;33m,\u001b[0m \u001b[1;36m10\u001b[0m\u001b[1;33m)\u001b[0m\u001b[1;33m\u001b[0m\u001b[1;33m\u001b[0m\u001b[0m\n\u001b[0m\u001b[0;32m     40\u001b[0m         \u001b[1;32melse\u001b[0m\u001b[1;33m:\u001b[0m\u001b[1;33m\u001b[0m\u001b[1;33m\u001b[0m\u001b[0m\n\u001b[0;32m     41\u001b[0m           \u001b[1;31m# Exploit by choosing action from the model's prediction\u001b[0m\u001b[1;33m\u001b[0m\u001b[1;33m\u001b[0m\u001b[1;33m\u001b[0m\u001b[0m\n",
      "\u001b[1;32mc:\\Users\\user\\anaconda3\\envs\\joanna\\lib\\random.py\u001b[0m in \u001b[0;36msample\u001b[1;34m(self, population, k)\u001b[0m\n\u001b[0;32m    315\u001b[0m             \u001b[0mpopulation\u001b[0m \u001b[1;33m=\u001b[0m \u001b[0mtuple\u001b[0m\u001b[1;33m(\u001b[0m\u001b[0mpopulation\u001b[0m\u001b[1;33m)\u001b[0m\u001b[1;33m\u001b[0m\u001b[1;33m\u001b[0m\u001b[0m\n\u001b[0;32m    316\u001b[0m         \u001b[1;32mif\u001b[0m \u001b[1;32mnot\u001b[0m \u001b[0misinstance\u001b[0m\u001b[1;33m(\u001b[0m\u001b[0mpopulation\u001b[0m\u001b[1;33m,\u001b[0m \u001b[0m_Sequence\u001b[0m\u001b[1;33m)\u001b[0m\u001b[1;33m:\u001b[0m\u001b[1;33m\u001b[0m\u001b[1;33m\u001b[0m\u001b[0m\n\u001b[1;32m--> 317\u001b[1;33m             \u001b[1;32mraise\u001b[0m \u001b[0mTypeError\u001b[0m\u001b[1;33m(\u001b[0m\u001b[1;34m\"Population must be a sequence or set.  For dicts, use list(d).\"\u001b[0m\u001b[1;33m)\u001b[0m\u001b[1;33m\u001b[0m\u001b[1;33m\u001b[0m\u001b[0m\n\u001b[0m\u001b[0;32m    318\u001b[0m         \u001b[0mrandbelow\u001b[0m \u001b[1;33m=\u001b[0m \u001b[0mself\u001b[0m\u001b[1;33m.\u001b[0m\u001b[0m_randbelow\u001b[0m\u001b[1;33m\u001b[0m\u001b[1;33m\u001b[0m\u001b[0m\n\u001b[0;32m    319\u001b[0m         \u001b[0mn\u001b[0m \u001b[1;33m=\u001b[0m \u001b[0mlen\u001b[0m\u001b[1;33m(\u001b[0m\u001b[0mpopulation\u001b[0m\u001b[1;33m)\u001b[0m\u001b[1;33m\u001b[0m\u001b[1;33m\u001b[0m\u001b[0m\n",
      "\u001b[1;31mTypeError\u001b[0m: Population must be a sequence or set.  For dicts, use list(d)."
     ]
    }
   ],
   "source": [
    "exp_replay = ReplayBuffer(max_memory=MAX_MEMORY)# Our model's architecture parameters\n",
    "input_size = 256 # The input shape for model - this comes from the output shape of the CNN Mobilenet\n",
    "\n",
    "# Setting up the model with keras.\n",
    "model = keras.Sequential()\n",
    "model.add(Dense(HIDDEN_SIZE, input_shape=(input_size,), activation='relu'))\n",
    "model.add(Dense(HIDDEN_SIZE, activation='tanh'))\n",
    "model.add(Dense(TOTAL_ACTIONS))\n",
    "model.compile(Adam(learning_rate=.000001), \"mse\")\n",
    "\n",
    "\n",
    "# Training the model\n",
    "hist = train(model, \n",
    "             exp_replay, \n",
    "             epochs=EPOCH, \n",
    "             batch_size=BATCH_SIZE, \n",
    "             num_episode=NUM_EPISODE, \n",
    "             verbose=1, \n",
    "             reward_set='strict')\n",
    "plt.plot(range(EPOCH), hist)"
   ]
  },
  {
   "cell_type": "code",
   "execution_count": null,
   "id": "3a8bb785",
   "metadata": {},
   "outputs": [],
   "source": []
  },
  {
   "cell_type": "code",
   "execution_count": null,
   "id": "15df2169",
   "metadata": {},
   "outputs": [],
   "source": []
  },
  {
   "cell_type": "code",
   "execution_count": null,
   "id": "5f1b4dc7",
   "metadata": {},
   "outputs": [],
   "source": []
  },
  {
   "cell_type": "code",
   "execution_count": null,
   "id": "7ed386db",
   "metadata": {},
   "outputs": [],
   "source": []
  },
  {
   "cell_type": "code",
   "execution_count": null,
   "id": "cfd710a3",
   "metadata": {},
   "outputs": [],
   "source": []
  },
  {
   "cell_type": "code",
   "execution_count": null,
   "id": "3ec03c9f",
   "metadata": {},
   "outputs": [],
   "source": []
  },
  {
   "cell_type": "code",
   "execution_count": null,
   "id": "dd1f17b1",
   "metadata": {},
   "outputs": [],
   "source": []
  },
  {
   "cell_type": "code",
   "execution_count": null,
   "id": "59d20538",
   "metadata": {},
   "outputs": [],
   "source": []
  },
  {
   "cell_type": "code",
   "execution_count": null,
   "id": "58f8acc5",
   "metadata": {},
   "outputs": [],
   "source": []
  },
  {
   "cell_type": "code",
   "execution_count": null,
   "id": "be51eff2",
   "metadata": {},
   "outputs": [],
   "source": []
  },
  {
   "cell_type": "code",
   "execution_count": null,
   "id": "7f07c5d6",
   "metadata": {},
   "outputs": [],
   "source": []
  },
  {
   "cell_type": "code",
   "execution_count": null,
   "id": "2236b124",
   "metadata": {},
   "outputs": [],
   "source": []
  },
  {
   "cell_type": "code",
   "execution_count": null,
   "id": "240a52e1",
   "metadata": {},
   "outputs": [],
   "source": []
  },
  {
   "cell_type": "code",
   "execution_count": null,
   "id": "a4df95cc",
   "metadata": {},
   "outputs": [],
   "source": []
  },
  {
   "cell_type": "code",
   "execution_count": null,
   "id": "ae295c4d",
   "metadata": {},
   "outputs": [],
   "source": []
  },
  {
   "cell_type": "code",
   "execution_count": null,
   "id": "42738e9e",
   "metadata": {},
   "outputs": [],
   "source": []
  },
  {
   "cell_type": "code",
   "execution_count": null,
   "id": "65adaa38",
   "metadata": {},
   "outputs": [],
   "source": []
  },
  {
   "cell_type": "code",
   "execution_count": null,
   "id": "fe8c9df1",
   "metadata": {},
   "outputs": [],
   "source": []
  }
 ],
 "metadata": {
  "interpreter": {
   "hash": "e5d26d15f81c32561881a39c85bdcf5a2542c694b6b4a6d5e9280707d5ee0206"
  },
  "kernelspec": {
   "display_name": "Python 3.7.12 ('joanna')",
   "language": "python",
   "name": "python3"
  },
  "language_info": {
   "codemirror_mode": {
    "name": "ipython",
    "version": 3
   },
   "file_extension": ".py",
   "mimetype": "text/x-python",
   "name": "python",
   "nbconvert_exporter": "python",
   "pygments_lexer": "ipython3",
   "version": "3.7.12"
  }
 },
 "nbformat": 4,
 "nbformat_minor": 5
}
