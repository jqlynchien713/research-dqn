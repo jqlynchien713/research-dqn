{
 "cells": [
  {
   "cell_type": "markdown",
   "metadata": {},
   "source": [
    "# DDPG"
   ]
  },
  {
   "cell_type": "code",
   "execution_count": 1,
   "metadata": {
    "vscode": {
     "languageId": "python"
    }
   },
   "outputs": [],
   "source": [
    "import pandas as pd\n",
    "import numpy as np\n",
    "import itertools\n",
    "from tqdm.notebook import tqdm\n",
    "import pickle\n",
    "\n",
    "import torch\n",
    "import torch.utils.data as data\n",
    "from torch.utils.data import DataLoader\n",
    "import torch.utils.data.sampler as sampler\n",
    "import torch.nn as nn\n",
    "import torch.nn.functional as F\n",
    "\n",
    "from matplotlib import pyplot as plt\n",
    "from collections import defaultdict\n",
    "import warnings\n",
    "from sklearn.preprocessing import LabelEncoder\n",
    "import random\n",
    "from datetime import datetime\n",
    "import pytz\n",
    "import line_profiler\n",
    "from functools import reduce\n",
    "\n",
    "DEVICE = torch.device(\"cuda\" if torch.cuda.is_available() else \"cpu\")"
   ]
  },
  {
   "cell_type": "markdown",
   "metadata": {},
   "source": [
    "### Fix Random Seeds"
   ]
  },
  {
   "cell_type": "code",
   "execution_count": 2,
   "metadata": {
    "vscode": {
     "languageId": "python"
    }
   },
   "outputs": [],
   "source": [
    "def same_seeds(seed):\n",
    "  torch.manual_seed(seed)\n",
    "  if torch.cuda.is_available():\n",
    "    torch.cuda.manual_seed(seed)\n",
    "    torch.cuda.manual_seed_all(seed)  \n",
    "  np.random.seed(seed)  \n",
    "  torch.backends.cudnn.benchmark = False\n",
    "  torch.backends.cudnn.deterministic = True\n",
    "\n",
    "same_seeds(0)"
   ]
  },
  {
   "cell_type": "markdown",
   "metadata": {},
   "source": [
    "## Prepare Data"
   ]
  },
  {
   "cell_type": "markdown",
   "metadata": {
    "tags": []
   },
   "source": [
    "### Available Files\n",
    "\n",
    "||Title|File Name|\n",
    "|---|-----|---------|\n",
    "|order|Stream group by streamers|`streamer_stream_dict.pkl`|\n",
    "||Stream list|`stream_list.pkl`|\n",
    "|Context|Final user context|`user_context.pkl`|\n",
    "||Streamer context|`streamer.pkl`|\n",
    "||Item context|`item_pca_df.pkl`|\n",
    "|Aux|stream: items list|`stream_item_dict.pkl`|\n",
    "||stream: users list|`stream_users_dict.pkl`|\n",
    "||item list the consumer actually bought|`user_bought_dict.pkl`|\n",
    "|Explore-Diff|PCA based diff vector|`diff_vectors_pca.pkl`|\n",
    "||SVD based diff vector|`diff_vectors_svd.pkl`|\n",
    "||VAE based diff vector|`diff_vectors_vae.pkl`|\n",
    "|Threshold|VAE reconstruction error df|`vae_recons_df.pkl`|"
   ]
  },
  {
   "cell_type": "code",
   "execution_count": 3,
   "metadata": {
    "vscode": {
     "languageId": "python"
    }
   },
   "outputs": [],
   "source": [
    "# STREAMER_STREAM_DICT = pd.read_pickle('../../data/streamer_stream_dict.pkl')\n",
    "STREAM_LIST = pd.read_pickle('../../data/stream_list.pkl')\n",
    "USER_CONTEXT = pd.read_pickle('../../data/user_context.pkl')\n",
    "# STREAMER = pd.read_pickle('../../data/streamer.pkl')\n",
    "ITEM_PCA_DF = pd.read_pickle('../../data/item_pca_df.pkl')\n",
    "STREAM_ITEM_DICT = pd.read_pickle('../../data/stream_item_dict.pkl')\n",
    "USER_BOUGHT_DICT = pd.read_pickle('../../data/user_bought_dict.pkl')\n",
    "STREAM_USER_DICT = pd.read_pickle('../../data/stream_users_dict.pkl')\n",
    "# Current used diff\n",
    "ITEM_DIFF = pd.read_pickle('../../data/item_diff_vectors.pkl')"
   ]
  },
  {
   "cell_type": "code",
   "execution_count": 4,
   "metadata": {},
   "outputs": [],
   "source": [
    "# DIFF_PCA = pd.read_pickle('../../data/diff_vectors_pca.pkl')\n",
    "DIFF_SVD = pd.read_pickle('../../data/diff_vectors_svd.pkl')\n",
    "# DIFF_VAE = pd.read_pickle('../../data/diff_vectors_vae.pkl')\n",
    "# VAE_RECONS_DF = pd.read_pickle('../../data/vae_recons_df.pkl')\n",
    "# VAE_RECONS64_DF = pd.read_pickle('../../data/vae_recons_64_df.pkl')\n",
    "# MUL150_PCA = pd.read_pickle('../../data/mul150_pca_diff.pkl')\n",
    "# MUL150_VAE = pd.read_pickle('../../data/mul150_vae_diff.pkl')\n",
    "# MUL64_PCA = pd.read_pickle('../../data/mul64_pca_diff.pkl')\n",
    "# MUL64_VAE = pd.read_pickle('../../data/mul64_vae_diff.pkl')"
   ]
  },
  {
   "cell_type": "markdown",
   "metadata": {},
   "source": [
    "---"
   ]
  },
  {
   "cell_type": "markdown",
   "metadata": {
    "tags": []
   },
   "source": [
    "## Replay"
   ]
  },
  {
   "cell_type": "code",
   "execution_count": 5,
   "metadata": {
    "vscode": {
     "languageId": "python"
    }
   },
   "outputs": [],
   "source": [
    "class RingBuffer(object):\n",
    "    def __init__(self, maxlen):\n",
    "        self.maxlen = maxlen\n",
    "        self.start = 0\n",
    "        self.length = 0\n",
    "        self.data = [None for _ in range(maxlen)]\n",
    "\n",
    "    def __len__(self):\n",
    "        return self.length\n",
    "\n",
    "    def __getitem__(self, idx):\n",
    "        if idx < 0 or idx >= self.length:\n",
    "            raise KeyError()\n",
    "        return self.data[(self.start + idx) % self.maxlen]\n",
    "\n",
    "    def append(self, v):\n",
    "        if self.length < self.maxlen:\n",
    "            # We have space, simply increase the length.\n",
    "            self.length += 1\n",
    "        elif self.length == self.maxlen:\n",
    "            # No space, \"remove\" the first item.\n",
    "            self.start = (self.start + 1) % self.maxlen\n",
    "        else:\n",
    "            # This should never happen.\n",
    "            raise RuntimeError()\n",
    "        self.data[(self.start + self.length - 1) % self.maxlen] = v\n",
    "\n",
    "class ReplayBuffer:\n",
    "  def __init__(self, limit=10000):\n",
    "    self.limit = limit\n",
    "    # init 4 RingBuffers: states/actions/rewards/ongoing\n",
    "    self.states_buffer = RingBuffer(limit)\n",
    "    self.next_states_buffer = RingBuffer(limit)\n",
    "    self.actions_buffer = RingBuffer(limit)\n",
    "    self.rewards_buffer = RingBuffer(limit)\n",
    "    self.ongoings_buffer = RingBuffer(limit)\n",
    "    \n",
    "  def __len__(self):\n",
    "    assert len(self.states_buffer) == len(self.next_states_buffer) == len(self.actions_buffer) == \\\n",
    "           len(self.rewards_buffer) == len(self.ongoings_buffer)\n",
    "    return len(self.states_buffer)\n",
    "\n",
    "  def remember(self, state, actions, reward, next_state, ongoing):\n",
    "    assert len(self.states_buffer) == len(self.next_states_buffer) == len(self.actions_buffer) == \\\n",
    "           len(self.rewards_buffer) == len(self.ongoings_buffer)\n",
    "    # append each element separately in different list\n",
    "    self.states_buffer.append(state)\n",
    "    self.actions_buffer.append(actions)\n",
    "    self.rewards_buffer.append(reward)\n",
    "    self.next_states_buffer.append(next_state)\n",
    "    self.ongoings_buffer.append(ongoing)\n",
    "    \n",
    "  def get_batch(self, batch_size=100):\n",
    "    assert len(self.states_buffer) == len(self.next_states_buffer) == len(self.actions_buffer) == \\\n",
    "           len(self.rewards_buffer) == len(self.ongoings_buffer)\n",
    "    # same for sample_and_split\n",
    "    states0_batch = []\n",
    "    states1_batch = []\n",
    "    actions_batch = []\n",
    "    rewards_batch = []\n",
    "    ongoings_batch = []\n",
    "    batch_indexs = np.random.randint(0, len(self.states_buffer), size=min(len(self.states_buffer), batch_size))\n",
    "    for i in batch_indexs:\n",
    "      states0_batch.append(USER_CONTEXT.xs(self.states_buffer[i]))\n",
    "      states1_batch.append(USER_CONTEXT.xs(self.next_states_buffer[i]))\n",
    "      actions_batch.append(self.actions_buffer[i])\n",
    "      rewards_batch.append(self.rewards_buffer[i])\n",
    "      ongoings_batch.append(self.ongoings_buffer[i])\n",
    "    assert len(states0_batch) == len(states1_batch) == len(actions_batch) == \\\n",
    "           len(rewards_batch) == len(ongoings_batch)\n",
    "    return np.array(states0_batch), np.array(actions_batch), np.array(rewards_batch), np.array(states1_batch), np.array(ongoings_batch)"
   ]
  },
  {
   "cell_type": "code",
   "execution_count": 6,
   "metadata": {},
   "outputs": [],
   "source": [
    "from abc import ABC, abstractmethod\n",
    "import math\n",
    "\n",
    "class Epsilon(ABC):\n",
    "  @abstractmethod\n",
    "  def clear(self):\n",
    "    pass\n",
    "  \n",
    "  @abstractmethod\n",
    "  def get_epsilon(self, key):\n",
    "    pass\n",
    "  \n",
    "  @abstractmethod\n",
    "  def update_at_step(self, key, data, delta):\n",
    "    pass\n",
    "  \n",
    "  @abstractmethod\n",
    "  def update_at_epoch(self, data):\n",
    "    pass\n",
    "\n",
    "class Decay(Epsilon):\n",
    "  # Ref: Decay(0.5, 0.85)\n",
    "  '''\n",
    "  Epsilon Decay EE method with update/decay at epoch\n",
    "  '''\n",
    "  def __init__(self, initial, epoch_decay=1.0, step_decay=1.0):\n",
    "    self.initial = initial\n",
    "    self.epoch_decay, self.step_decay = epoch_decay, step_decay\n",
    "    self.epsilon = self.initial\n",
    "    \n",
    "  def clear(self):\n",
    "    self.epsilon = self.initial # should be 4 for origin setting\n",
    "    \n",
    "  def get_epsilon(self, key):\n",
    "    return self.epsilon\n",
    "  \n",
    "  def update_at_step(self, key, data, delta):\n",
    "    # origin setting\n",
    "    # pass\n",
    "    # exponentially\n",
    "    i = data[1]\n",
    "    self.epsilon = 4 / ((i + 1) ** (1 / 4))\n",
    "    \n",
    "  def update_at_epoch(self, data):\n",
    "    # origin settings\n",
    "    # epoch = data\n",
    "    # self.epsilon = 4 / ((epoch + 1) ** (1 / 2))\n",
    "    # exponentially\n",
    "    self.epsilon *= self.epoch_decay\n",
    "\n",
    "\n",
    "class VDBE(Epsilon):\n",
    "  # VDBE(0.5, 0.01)\n",
    "  def __init__(self, initial, sigma):\n",
    "    self.initial = initial\n",
    "    self.sigma = sigma\n",
    "\n",
    "  def clear(self):\n",
    "    self.epsilon = defaultdict(lambda: self.initial)\n",
    "\n",
    "  def get_epsilon(self, key):\n",
    "    return self.epsilon[key]\n",
    "  \n",
    "  def update_at_step(self, key, data, delta):\n",
    "    td_error = data[0]\n",
    "    coeff = math.exp(-abs(td_error) / self.sigma)\n",
    "    f = (1.0 - coeff) / (1.0 + coeff)\n",
    "    self.epsilon[key] = delta * f + (1.0 - delta) * self.epsilon[key]\n",
    "  \n",
    "  def update_at_epoch(self, data):\n",
    "    pass"
   ]
  },
  {
   "cell_type": "markdown",
   "metadata": {
    "tags": []
   },
   "source": [
    "## Random Process"
   ]
  },
  {
   "cell_type": "code",
   "execution_count": 7,
   "metadata": {},
   "outputs": [],
   "source": [
    "class RandomProcess(object):\n",
    "    def reset_states(self):\n",
    "        pass\n",
    "\n",
    "class AnnealedGaussianProcess(RandomProcess):\n",
    "    def __init__(self, mu, sigma, sigma_min, n_steps_annealing):\n",
    "        self.mu = mu\n",
    "        self.sigma = sigma\n",
    "        self.n_steps = 0\n",
    "\n",
    "        if sigma_min is not None:\n",
    "            self.m = -float(sigma - sigma_min) / float(n_steps_annealing)\n",
    "            self.c = sigma\n",
    "            self.sigma_min = sigma_min\n",
    "        else:\n",
    "            self.m = 0.\n",
    "            self.c = sigma\n",
    "            self.sigma_min = sigma\n",
    "\n",
    "    @property\n",
    "    def current_sigma(self):\n",
    "        sigma = max(self.sigma_min, self.m * float(self.n_steps) + self.c)\n",
    "        return sigma\n",
    "\n",
    "\n",
    "# Based on http://math.stackexchange.com/questions/1287634/implementing-ornstein-uhlenbeck-in-matlab\n",
    "class OrnsteinUhlenbeckProcess(AnnealedGaussianProcess):\n",
    "    def __init__(self, theta, mu=0., sigma=1., dt=1e-2, x0=None, size=1, sigma_min=None, n_steps_annealing=1000):\n",
    "        super(OrnsteinUhlenbeckProcess, self).__init__(mu=mu, sigma=sigma, sigma_min=sigma_min, n_steps_annealing=n_steps_annealing)\n",
    "        self.theta = theta\n",
    "        self.mu = mu\n",
    "        self.dt = dt\n",
    "        self.x0 = x0\n",
    "        self.size = size\n",
    "        self.reset_states()\n",
    "\n",
    "    def sample(self):\n",
    "        x = self.x_prev + self.theta * (self.mu - self.x_prev) * self.dt + self.current_sigma * np.sqrt(self.dt) * np.random.normal(size=self.size)\n",
    "        self.x_prev = x\n",
    "        self.n_steps += 1\n",
    "        return x\n",
    "\n",
    "    def reset_states(self):\n",
    "        self.x_prev = self.x0 if self.x0 is not None else np.zeros(self.size)"
   ]
  },
  {
   "cell_type": "markdown",
   "metadata": {
    "tags": []
   },
   "source": [
    "## Models"
   ]
  },
  {
   "cell_type": "code",
   "execution_count": 8,
   "metadata": {
    "vscode": {
     "languageId": "python"
    }
   },
   "outputs": [],
   "source": [
    "def fanin_init(size, fanin=None):\n",
    "    fanin = fanin or size[0]\n",
    "    v = 1. / np.sqrt(fanin)\n",
    "    return torch.Tensor(size).uniform_(-v, v)\n",
    "\n",
    "class Actor(nn.Module):\n",
    "    def __init__(self, state_dim, action_dim, mode, hidden1=400, hidden2=300, init_w=3e-3):\n",
    "        super(Actor, self).__init__()\n",
    "        self.mode = mode\n",
    "        self.fc1 = nn.Linear(state_dim, hidden1)\n",
    "        self.fc2 = nn.Linear(hidden1, hidden2)\n",
    "        self.fc3 = nn.Linear(hidden2, action_dim)\n",
    "        self.norm = nn.LayerNorm(hidden1)\n",
    "        self.relu = nn.ReLU()\n",
    "        self.tanh = nn.Tanh()\n",
    "        self.init_weights(init_w)\n",
    "    \n",
    "    def init_weights(self, init_w):\n",
    "        self.fc1.weight.data = fanin_init(self.fc1.weight.data.size())\n",
    "        self.fc2.weight.data = fanin_init(self.fc2.weight.data.size())\n",
    "        self.fc3.weight.data.uniform_(-init_w, init_w)\n",
    "    \n",
    "    def forward(self, x):\n",
    "        out = self.fc1(x)\n",
    "        if self.mode == 'PARAM_NOISE': out = self.norm(out)\n",
    "        out = self.relu(out)\n",
    "        out = self.fc2(out)\n",
    "        out = self.relu(out)\n",
    "        out = self.fc3(out)\n",
    "        out = self.tanh(out)\n",
    "        return out\n",
    "\n",
    "    def add_parameter_noise(self, scalar=.1):\n",
    "        self.fc1.weight.data += torch.randn_like(self.fc1.weight.data) * scalar\n",
    "        self.fc2.weight.data += torch.randn_like(self.fc2.weight.data) * scalar\n",
    "        self.fc3.weight.data += torch.randn_like(self.fc3.weight.data) * scalar\n",
    "\n",
    "\n",
    "class Critic(nn.Module):\n",
    "    def __init__(self, state_dim, action_dim, hidden1=400, hidden2=300, init_w=3e-3):\n",
    "        super(Critic, self).__init__()\n",
    "        self.fc1 = nn.Linear(state_dim, hidden1)\n",
    "        self.fc2 = nn.Linear(hidden1+action_dim, hidden2)\n",
    "        self.fc3 = nn.Linear(hidden2, 1)\n",
    "        self.relu = nn.ReLU()\n",
    "        self.init_weights(init_w)\n",
    "    \n",
    "    def init_weights(self, init_w):\n",
    "        self.fc1.weight.data = fanin_init(self.fc1.weight.data.size())\n",
    "        self.fc2.weight.data = fanin_init(self.fc2.weight.data.size())\n",
    "        self.fc3.weight.data.uniform_(-init_w, init_w)\n",
    "    \n",
    "    def forward(self, xs):\n",
    "        x, a = xs\n",
    "        out = self.fc1(x)\n",
    "        out = self.relu(out)\n",
    "        # debug()\n",
    "        out = self.fc2(torch.cat([out,a],1))\n",
    "        out = self.relu(out)\n",
    "        out = self.fc3(out)\n",
    "        return out"
   ]
  },
  {
   "cell_type": "markdown",
   "metadata": {
    "tags": []
   },
   "source": [
    "## DDPG"
   ]
  },
  {
   "cell_type": "code",
   "execution_count": 9,
   "metadata": {
    "tags": [],
    "vscode": {
     "languageId": "python"
    }
   },
   "outputs": [],
   "source": [
    "def to_tensor(input_df):\n",
    "  return torch.tensor(input_df).to(DEVICE).float()\n",
    "\n",
    "class DDPG(object):\n",
    "  def __init__(self, actor_lr, critic_lr, state_dim, action_dim, mode='baseline',\n",
    "               hidden1=400, hidden2=300, diff_multiplier=1,\n",
    "               top_k=10, max_memory=10000, depsilon=50000, discount=0.99,\n",
    "               tau=0.001, batch_size=100, ou_theta=0.15, ou_mu=0.0, ou_sigma=0.2, \n",
    "               param_noise_scalar=.05, param_noise_scalar_alpha=1.01, desired_distance=.7):\n",
    "    # State & Action dimension\n",
    "    self.state_dim = state_dim\n",
    "    self.action_dim = action_dim\n",
    "    \n",
    "    # Mode settings\n",
    "    # baseline\n",
    "    # diff: diff_pca, diff_svd, diff_vae\n",
    "    # threshold: thres_vae, thres_vdbe\n",
    "    # multiplier: MUL150_PCA, MUL150_VAE, MUL64_PCA, MUL64_VAE\n",
    "    # Parameter noise: PARAM_NOISE\n",
    "    self.mode = mode\n",
    "    self.diff_multiplier = diff_multiplier\n",
    "    \n",
    "    # Param Noise\n",
    "    self.distances = []\n",
    "    self.desired_distance = desired_distance\n",
    "    self.param_noise_scalar = param_noise_scalar\n",
    "    self.param_noise_scalar_alpha = param_noise_scalar_alpha\n",
    "\n",
    "    # Init Actor\n",
    "    self.actor = Actor(state_dim, action_dim, mode, hidden1, hidden2)\n",
    "    self.actor_noised = Actor(state_dim, action_dim, mode, hidden1, hidden2)\n",
    "    self.actor_target = Actor(state_dim, action_dim, mode, hidden1, hidden2)\n",
    "    self.actor_optim = torch.optim.Adam(self.actor.parameters(), lr=actor_lr)\n",
    "    # Init Critic\n",
    "    self.critic = Critic(state_dim, action_dim, hidden1, hidden2)\n",
    "    self.critic_target = Critic(state_dim, action_dim, hidden1, hidden2)\n",
    "    self.critic_optim = torch.optim.Adam(self.critic.parameters(), lr=critic_lr)\n",
    "\n",
    "    # Memory\n",
    "    self.buffer = ReplayBuffer(limit=max_memory)\n",
    "\n",
    "    # Exploration\n",
    "    self.epsilon = 1.0\n",
    "    self.depsilon = 1.0 / depsilon\n",
    "    self.random_process = OrnsteinUhlenbeckProcess(size=action_dim, theta=ou_theta, mu=ou_mu, sigma=ou_sigma)\n",
    "\n",
    "    # Reward related\n",
    "    self.top_k = top_k\n",
    "    \n",
    "    # Loss Function\n",
    "    self.loss_fn = nn.MSELoss()\n",
    "    \n",
    "    # Hyperparameters\n",
    "    self.discount = discount\n",
    "    self.tau = tau\n",
    "    self.batch_size = batch_size\n",
    "\n",
    "    # Network to cuda\n",
    "    self.actor.to(DEVICE)\n",
    "    self.actor_noised.to(DEVICE)\n",
    "    self.critic.to(DEVICE)\n",
    "    self.actor_target.to(DEVICE)\n",
    "    self.critic_target.to(DEVICE)\n",
    "    \n",
    "  def random_action(self):\n",
    "    action = np.random.uniform(-1.,1.,self.action_dim).astype('float32')\n",
    "    self.action = action\n",
    "    return action\n",
    "    \n",
    "  def generate_latent_action(self, state, decay_epsilon=True, vdbe_epsilon=False):\n",
    "    action = self.actor(to_tensor(state))\n",
    "    current_diff = globals()[self.mode.upper()]\n",
    "    '''\n",
    "    Param Noise\n",
    "    '''\n",
    "    with torch.no_grad():\n",
    "      # hard copy the actor to actor_noised\n",
    "      self.actor_noised.load_state_dict(self.actor.state_dict().copy())\n",
    "\n",
    "      # add noise to the copy\n",
    "      self.actor_noised.add_parameter_noise(self.param_noise_scalar)\n",
    "\n",
    "      # get the next action values from the noised actor\n",
    "      action_noised = self.actor_noised(to_tensor(state))\n",
    "\n",
    "      # meassure the distance between the action values from the regular and \n",
    "      # the noised actor to adjust the amount of noise that will be added next round\n",
    "      # if state.name in current_diff.index:\n",
    "      #   distance = \n",
    "      # else:\n",
    "      distance = torch.sqrt(torch.mean(torch.square(action - action_noised))).cpu().detach().numpy()\n",
    "      self.distances.append(distance)\n",
    "\n",
    "      # adjust the amount of noise given to the actor_noised\n",
    "      if distance < self.desired_distance:\n",
    "          self.param_noise_scalar *= self.param_noise_scalar_alpha\n",
    "      else:\n",
    "          self.param_noise_scalar /= self.param_noise_scalar_alpha\n",
    "\n",
    "      # set the noised action as action\n",
    "      action = action_noised\n",
    "    '''\n",
    "    Add the diff vector to action\n",
    "    '''\n",
    "    if state.name in current_diff.index:\n",
    "      # for mode = [diff_pca, diff_svd, diff_vae, MUL150_VAE, MUL64_VAE, ITEM_DIFF]\n",
    "      action += to_tensor(current_diff.loc[state.name]) * self.diff_multiplier * max(self.epsilon, 0)\n",
    "\n",
    "    # else: action += max(self.epsilon, 0) * torch.tensor(self.random_process.sample()).to(DEVICE).float()\n",
    "    action = torch.clamp(action, -1., 1.).cpu().detach().numpy()\n",
    "\n",
    "    if decay_epsilon:\n",
    "      self.epsilon -= self.depsilon\n",
    "    # if vdbe_epsilon:\n",
    "        \n",
    "    self.action = action\n",
    "    return action\n",
    "  \n",
    "  def get_actions_rewards(self):\n",
    "    true_list = USER_BOUGHT_DICT[self.curr_user]\n",
    "    # self.curr_stream_items: candidate items in current stream\n",
    "    actions = ITEM_PCA_DF.iloc[self.curr_stream_items].apply(lambda x: np.dot(x, self.action), axis=1).nlargest(self.top_k).index\n",
    "    res = sum([1 if a in true_list else 0 for a in actions])\n",
    "    return res\n",
    "    \n",
    "  def update_policy(self):\n",
    "    # Sample batch\n",
    "    state_batch, action_batch, reward_batch, \\\n",
    "    next_state_batch, ongoing_batch = self.buffer.get_batch(self.batch_size)\n",
    "    \n",
    "    # Prepare for the target q batch\n",
    "    next_q_values = self.critic_target([\n",
    "        to_tensor(next_state_batch).detach(),\n",
    "        self.actor_target(to_tensor(next_state_batch).detach()),\n",
    "    ])\n",
    "    \n",
    "    # 如果 ongoing 為 True(1) 時，乘以 next_q 會有值\n",
    "    # 但是 ongoing 為 False(0) 時，乘以 next_q 會等於 0\n",
    "    target_q_batch = to_tensor(reward_batch).view(next_q_values.shape) + \\\n",
    "                       self.discount*to_tensor(ongoing_batch).view(next_q_values.shape)*next_q_values.detach()\n",
    "\n",
    "    # Critic update\n",
    "    self.critic_optim.zero_grad()\n",
    "\n",
    "    q_batch = self.critic([ to_tensor(state_batch), to_tensor(action_batch) ])\n",
    "\n",
    "    value_loss = self.loss_fn(q_batch, target_q_batch)\n",
    "    value_loss.backward()\n",
    "    self.critic_optim.step()\n",
    "\n",
    "    # Actor update\n",
    "    self.actor_optim.zero_grad()\n",
    "\n",
    "    policy_loss = -self.critic([\n",
    "        to_tensor(state_batch),\n",
    "        self.actor(to_tensor(state_batch))\n",
    "    ])\n",
    "\n",
    "    policy_loss = policy_loss.mean()\n",
    "    policy_loss.backward()\n",
    "    self.actor_optim.step()\n",
    "\n",
    "    # Target update\n",
    "    self._soft_update(self.actor_target, self.actor)\n",
    "    self._soft_update(self.critic_target, self.critic)\n",
    "    return value_loss, policy_loss\n",
    "    \n",
    "  def _soft_update(self, target, source):\n",
    "    for target_param, param in zip(target.parameters(), source.parameters()):\n",
    "        target_param.data.copy_(\n",
    "            target_param.data * (1.0 - self.tau) + param.data * self.tau\n",
    "        )"
   ]
  },
  {
   "cell_type": "markdown",
   "metadata": {
    "tags": []
   },
   "source": [
    "## Main Method"
   ]
  },
  {
   "cell_type": "code",
   "execution_count": 10,
   "metadata": {},
   "outputs": [],
   "source": [
    "def train(agent, reward_records=[], avg_rewards=[], warmup=100):\n",
    "  agent.actor.train(True)\n",
    "  agent.critic.train(True)\n",
    "  batch_value_loss, batch_policy_loss = 0., 0.\n",
    "  step_value_loss, step_policy_loss = 0., 0.\n",
    "  step = 0\n",
    "  # self.epsilon.clear()\n",
    "\n",
    "  # ------------------- Episode (State) -------------------------------\n",
    "  for stream in tqdm(STREAM_LIST[:4000]):\n",
    "    # self.__user_episode_context()\n",
    "    users = STREAM_USER_DICT[stream]\n",
    "    agent.curr_stream = stream\n",
    "    agent.curr_stream_items = STREAM_ITEM_DICT[stream]\n",
    "    stream_reward = 0\n",
    "    batch_value_loss, batch_policy_loss = 0., 0.\n",
    "\n",
    "    # ----------------- Runs (User under stream) ---------------------\n",
    "    for i, user in enumerate(users):\n",
    "      # update step\n",
    "      step += 1\n",
    "      \n",
    "      # state & ongoing\n",
    "      agent.curr_user = user\n",
    "      state = USER_CONTEXT.loc[(user, stream)]\n",
    "      ongoing = i != len(users) - 1\n",
    "\n",
    "      # --------------- Actor net choose actions ----------------------\n",
    "      # make actor to choose action\n",
    "      # action = latent vector\n",
    "      if step <= warmup:\n",
    "        action = agent.random_action()\n",
    "      else:\n",
    "        action = agent.generate_latent_action(state)\n",
    "          \n",
    "      # --------------- Get next state & info to store ---------------\n",
    "      # Generate reward\n",
    "      reward = agent.get_actions_rewards()\n",
    "\n",
    "      # next_state: next user's state\n",
    "      next_user = users[i + 1] if i + 1 < len(users) else None\n",
    "      # Remember only when reward > 0 or the memory is short\n",
    "      reward_records.append(reward)\n",
    "      stream_reward += reward\n",
    "      if reward > 0 or len(agent.buffer) < 10:\n",
    "        storing_state = (user, stream)\n",
    "        storing_next_state = (next_user, stream) if next_user else storing_state\n",
    "        agent.buffer.remember(storing_state, action, reward, storing_next_state, ongoing)\n",
    "\n",
    "      # --------------- Train on Actor and Critic --------------------\n",
    "      # store pre-training value for td_error\n",
    "      # old_Q = self.q_value()\n",
    "      if step > warmup :\n",
    "        step_value_loss, step_policy_loss = agent.update_policy()\n",
    "      # store post-training value for td_error\n",
    "      # new_Q = self.q_value()\n",
    "      batch_value_loss += step_value_loss\n",
    "      batch_policy_loss += step_policy_loss\n",
    "\n",
    "      # --------------- Update with TD error -------------------------\n",
    "      # self.epsilon.update_at_step(self.asid, [(new_Q - old_Q), self.learn_step_counter], 1/len(self.stream_items))\n",
    "\n",
    "      # --------------- Inspecting result at step -------------------------\n",
    "    ep_avg_reward = round(sum(reward_records)/step, 2)\n",
    "    avg_rewards.append(ep_avg_reward)\n",
    "#     print(f'Stream: {stream}, user_count: {len(users)}, \\\n",
    "# sum_rewards: {round(sum(reward_records), 2)},avg_reward@stream: {round(stream_reward/len(users), 2)}, avg_reward: {ep_avg_reward}, \\\n",
    "# batch_value_loss: {round(float(batch_value_loss)/len(users), 3)}, batch_policy_loss: {round(float(batch_policy_loss)/len(users), 3)} | reward_len: {len(reward_records)}')\n",
    "    print(f'distance_mean: {round(np.mean(agent.distances))}, std: {round(np.std(agent.distances), 3)}')\n",
    "    \n",
    "    if len(reward_records) >= 247581: break"
   ]
  },
  {
   "cell_type": "code",
   "execution_count": null,
   "metadata": {},
   "outputs": [],
   "source": []
  },
  {
   "cell_type": "code",
   "execution_count": 13,
   "metadata": {
    "vscode": {
     "languageId": "python"
    }
   },
   "outputs": [],
   "source": [
    "pd.set_option('mode.chained_assignment', None)\n",
    "\n",
    "actor_lr = 1.0e-3\n",
    "critic_lr = 1.0e-3\n",
    "state_dim = USER_CONTEXT.shape[1]\n",
    "action_dim = ITEM_PCA_DF.shape[1]\n",
    "hidden1 = 400\n",
    "hidden2 = 300\n",
    "diff_multiplier = 2\n",
    "top_k = 10\n",
    "max_memory = 10000\n",
    "depsilon = 50000\n",
    "discount = 0.99\n",
    "tau = 0.001\n",
    "batch_size = 100\n",
    "ou_theta = 0.15\n",
    "ou_mu = 0.0\n",
    "ou_sigma = 0.2\n",
    "param_noise_scalar = 0.05\n",
    "param_noise_scalar_alpha = 1.01\n",
    "desired_distance = 0.7\n",
    "\n",
    "mode = 'diff_svd'\n",
    "\n",
    "warnings.simplefilter(action='ignore', category=FutureWarning)"
   ]
  },
  {
   "cell_type": "markdown",
   "metadata": {},
   "source": [
    "## Execute"
   ]
  },
  {
   "cell_type": "code",
   "execution_count": 14,
   "metadata": {
    "tags": []
   },
   "outputs": [
    {
     "data": {
      "application/vnd.jupyter.widget-view+json": {
       "model_id": "88f4ffe40f264ec18ceb17afef90fca7",
       "version_major": 2,
       "version_minor": 0
      },
      "text/plain": [
       "  0%|          | 0/4000 [00:00<?, ?it/s]"
      ]
     },
     "metadata": {},
     "output_type": "display_data"
    },
    {
     "name": "stderr",
     "output_type": "stream",
     "text": [
      "/usr/local/lib/python3.6/dist-packages/numpy/core/fromnumeric.py:3335: RuntimeWarning: Mean of empty slice.\n",
      "  out=out, **kwargs)\n",
      "/usr/local/lib/python3.6/dist-packages/numpy/core/_methods.py:161: RuntimeWarning: invalid value encountered in double_scalars\n",
      "  ret = ret.dtype.type(ret / rcount)\n",
      "/usr/local/lib/python3.6/dist-packages/numpy/core/_methods.py:217: RuntimeWarning: Degrees of freedom <= 0 for slice\n",
      "  keepdims=keepdims)\n",
      "/usr/local/lib/python3.6/dist-packages/numpy/core/_methods.py:186: RuntimeWarning: invalid value encountered in true_divide\n",
      "  arrmean, rcount, out=arrmean, casting='unsafe', subok=False)\n",
      "/usr/local/lib/python3.6/dist-packages/numpy/core/_methods.py:209: RuntimeWarning: invalid value encountered in double_scalars\n",
      "  ret = ret.dtype.type(ret / rcount)\n"
     ]
    },
    {
     "name": "stdout",
     "output_type": "stream",
     "text": [
      "distance_mean: nan, std: nan\n",
      "distance_mean: 1.0, std: 0.257999986410141\n",
      "distance_mean: 1.0, std: 0.24899999797344208\n"
     ]
    },
    {
     "ename": "KeyboardInterrupt",
     "evalue": "",
     "output_type": "error",
     "traceback": [
      "\u001b[0;31m\u001b[0m",
      "\u001b[0;31mKeyboardInterrupt\u001b[0mTraceback (most recent call last)",
      "\u001b[0;32m<ipython-input-14-684242db0d1e>\u001b[0m in \u001b[0;36m<module>\u001b[0;34m\u001b[0m\n\u001b[1;32m      4\u001b[0m \u001b[0mreward_records\u001b[0m \u001b[0;34m=\u001b[0m \u001b[0;34m[\u001b[0m\u001b[0;34m]\u001b[0m\u001b[0;34m\u001b[0m\u001b[0;34m\u001b[0m\u001b[0m\n\u001b[1;32m      5\u001b[0m \u001b[0mavg_rewards\u001b[0m \u001b[0;34m=\u001b[0m \u001b[0;34m[\u001b[0m\u001b[0;34m]\u001b[0m\u001b[0;34m\u001b[0m\u001b[0;34m\u001b[0m\u001b[0m\n\u001b[0;32m----> 6\u001b[0;31m \u001b[0mtrain\u001b[0m\u001b[0;34m(\u001b[0m\u001b[0mddpg_agent\u001b[0m\u001b[0;34m,\u001b[0m \u001b[0mreward_records\u001b[0m\u001b[0;34m,\u001b[0m \u001b[0mavg_rewards\u001b[0m\u001b[0;34m)\u001b[0m\u001b[0;34m\u001b[0m\u001b[0;34m\u001b[0m\u001b[0m\n\u001b[0m",
      "\u001b[0;32m<ipython-input-10-8dee7e061cbb>\u001b[0m in \u001b[0;36mtrain\u001b[0;34m(agent, reward_records, avg_rewards, warmup)\u001b[0m\n\u001b[1;32m     52\u001b[0m       \u001b[0;31m# old_Q = self.q_value()\u001b[0m\u001b[0;34m\u001b[0m\u001b[0;34m\u001b[0m\u001b[0;34m\u001b[0m\u001b[0m\n\u001b[1;32m     53\u001b[0m       \u001b[0;32mif\u001b[0m \u001b[0mstep\u001b[0m \u001b[0;34m>\u001b[0m \u001b[0mwarmup\u001b[0m \u001b[0;34m:\u001b[0m\u001b[0;34m\u001b[0m\u001b[0;34m\u001b[0m\u001b[0m\n\u001b[0;32m---> 54\u001b[0;31m         \u001b[0mstep_value_loss\u001b[0m\u001b[0;34m,\u001b[0m \u001b[0mstep_policy_loss\u001b[0m \u001b[0;34m=\u001b[0m \u001b[0magent\u001b[0m\u001b[0;34m.\u001b[0m\u001b[0mupdate_policy\u001b[0m\u001b[0;34m(\u001b[0m\u001b[0;34m)\u001b[0m\u001b[0;34m\u001b[0m\u001b[0;34m\u001b[0m\u001b[0m\n\u001b[0m\u001b[1;32m     55\u001b[0m       \u001b[0;31m# store post-training value for td_error\u001b[0m\u001b[0;34m\u001b[0m\u001b[0;34m\u001b[0m\u001b[0;34m\u001b[0m\u001b[0m\n\u001b[1;32m     56\u001b[0m       \u001b[0;31m# new_Q = self.q_value()\u001b[0m\u001b[0;34m\u001b[0m\u001b[0;34m\u001b[0m\u001b[0;34m\u001b[0m\u001b[0m\n",
      "\u001b[0;32m<ipython-input-9-d183ecf209f2>\u001b[0m in \u001b[0;36mupdate_policy\u001b[0;34m(self)\u001b[0m\n\u001b[1;32m    127\u001b[0m     \u001b[0;31m# Sample batch\u001b[0m\u001b[0;34m\u001b[0m\u001b[0;34m\u001b[0m\u001b[0;34m\u001b[0m\u001b[0m\n\u001b[1;32m    128\u001b[0m     \u001b[0mstate_batch\u001b[0m\u001b[0;34m,\u001b[0m \u001b[0maction_batch\u001b[0m\u001b[0;34m,\u001b[0m \u001b[0mreward_batch\u001b[0m\u001b[0;34m,\u001b[0m\u001b[0;31m \u001b[0m\u001b[0;31m\\\u001b[0m\u001b[0;34m\u001b[0m\u001b[0;34m\u001b[0m\u001b[0m\n\u001b[0;32m--> 129\u001b[0;31m     \u001b[0mnext_state_batch\u001b[0m\u001b[0;34m,\u001b[0m \u001b[0mongoing_batch\u001b[0m \u001b[0;34m=\u001b[0m \u001b[0mself\u001b[0m\u001b[0;34m.\u001b[0m\u001b[0mbuffer\u001b[0m\u001b[0;34m.\u001b[0m\u001b[0mget_batch\u001b[0m\u001b[0;34m(\u001b[0m\u001b[0mself\u001b[0m\u001b[0;34m.\u001b[0m\u001b[0mbatch_size\u001b[0m\u001b[0;34m)\u001b[0m\u001b[0;34m\u001b[0m\u001b[0;34m\u001b[0m\u001b[0m\n\u001b[0m\u001b[1;32m    130\u001b[0m \u001b[0;34m\u001b[0m\u001b[0m\n\u001b[1;32m    131\u001b[0m     \u001b[0;31m# Prepare for the target q batch\u001b[0m\u001b[0;34m\u001b[0m\u001b[0;34m\u001b[0m\u001b[0;34m\u001b[0m\u001b[0m\n",
      "\u001b[0;32m<ipython-input-5-a0bda88d93f5>\u001b[0m in \u001b[0;36mget_batch\u001b[0;34m(self, batch_size)\u001b[0m\n\u001b[1;32m     63\u001b[0m     \u001b[0;32mfor\u001b[0m \u001b[0mi\u001b[0m \u001b[0;32min\u001b[0m \u001b[0mbatch_indexs\u001b[0m\u001b[0;34m:\u001b[0m\u001b[0;34m\u001b[0m\u001b[0;34m\u001b[0m\u001b[0m\n\u001b[1;32m     64\u001b[0m       \u001b[0mstates0_batch\u001b[0m\u001b[0;34m.\u001b[0m\u001b[0mappend\u001b[0m\u001b[0;34m(\u001b[0m\u001b[0mUSER_CONTEXT\u001b[0m\u001b[0;34m.\u001b[0m\u001b[0mxs\u001b[0m\u001b[0;34m(\u001b[0m\u001b[0mself\u001b[0m\u001b[0;34m.\u001b[0m\u001b[0mstates_buffer\u001b[0m\u001b[0;34m[\u001b[0m\u001b[0mi\u001b[0m\u001b[0;34m]\u001b[0m\u001b[0;34m)\u001b[0m\u001b[0;34m)\u001b[0m\u001b[0;34m\u001b[0m\u001b[0;34m\u001b[0m\u001b[0m\n\u001b[0;32m---> 65\u001b[0;31m       \u001b[0mstates1_batch\u001b[0m\u001b[0;34m.\u001b[0m\u001b[0mappend\u001b[0m\u001b[0;34m(\u001b[0m\u001b[0mUSER_CONTEXT\u001b[0m\u001b[0;34m.\u001b[0m\u001b[0mxs\u001b[0m\u001b[0;34m(\u001b[0m\u001b[0mself\u001b[0m\u001b[0;34m.\u001b[0m\u001b[0mnext_states_buffer\u001b[0m\u001b[0;34m[\u001b[0m\u001b[0mi\u001b[0m\u001b[0;34m]\u001b[0m\u001b[0;34m)\u001b[0m\u001b[0;34m)\u001b[0m\u001b[0;34m\u001b[0m\u001b[0;34m\u001b[0m\u001b[0m\n\u001b[0m\u001b[1;32m     66\u001b[0m       \u001b[0mactions_batch\u001b[0m\u001b[0;34m.\u001b[0m\u001b[0mappend\u001b[0m\u001b[0;34m(\u001b[0m\u001b[0mself\u001b[0m\u001b[0;34m.\u001b[0m\u001b[0mactions_buffer\u001b[0m\u001b[0;34m[\u001b[0m\u001b[0mi\u001b[0m\u001b[0;34m]\u001b[0m\u001b[0;34m)\u001b[0m\u001b[0;34m\u001b[0m\u001b[0;34m\u001b[0m\u001b[0m\n\u001b[1;32m     67\u001b[0m       \u001b[0mrewards_batch\u001b[0m\u001b[0;34m.\u001b[0m\u001b[0mappend\u001b[0m\u001b[0;34m(\u001b[0m\u001b[0mself\u001b[0m\u001b[0;34m.\u001b[0m\u001b[0mrewards_buffer\u001b[0m\u001b[0;34m[\u001b[0m\u001b[0mi\u001b[0m\u001b[0;34m]\u001b[0m\u001b[0;34m)\u001b[0m\u001b[0;34m\u001b[0m\u001b[0;34m\u001b[0m\u001b[0m\n",
      "\u001b[0;32m/usr/local/lib/python3.6/dist-packages/pandas/core/generic.py\u001b[0m in \u001b[0;36mxs\u001b[0;34m(self, key, axis, level, drop_level)\u001b[0m\n\u001b[1;32m   3489\u001b[0m         \u001b[0mindex\u001b[0m \u001b[0;34m=\u001b[0m \u001b[0mself\u001b[0m\u001b[0;34m.\u001b[0m\u001b[0mindex\u001b[0m\u001b[0;34m\u001b[0m\u001b[0;34m\u001b[0m\u001b[0m\n\u001b[1;32m   3490\u001b[0m         \u001b[0;32mif\u001b[0m \u001b[0misinstance\u001b[0m\u001b[0;34m(\u001b[0m\u001b[0mindex\u001b[0m\u001b[0;34m,\u001b[0m \u001b[0mMultiIndex\u001b[0m\u001b[0;34m)\u001b[0m\u001b[0;34m:\u001b[0m\u001b[0;34m\u001b[0m\u001b[0;34m\u001b[0m\u001b[0m\n\u001b[0;32m-> 3491\u001b[0;31m             \u001b[0mloc\u001b[0m\u001b[0;34m,\u001b[0m \u001b[0mnew_index\u001b[0m \u001b[0;34m=\u001b[0m \u001b[0mself\u001b[0m\u001b[0;34m.\u001b[0m\u001b[0mindex\u001b[0m\u001b[0;34m.\u001b[0m\u001b[0mget_loc_level\u001b[0m\u001b[0;34m(\u001b[0m\u001b[0mkey\u001b[0m\u001b[0;34m,\u001b[0m \u001b[0mdrop_level\u001b[0m\u001b[0;34m=\u001b[0m\u001b[0mdrop_level\u001b[0m\u001b[0;34m)\u001b[0m\u001b[0;34m\u001b[0m\u001b[0;34m\u001b[0m\u001b[0m\n\u001b[0m\u001b[1;32m   3492\u001b[0m         \u001b[0;32melse\u001b[0m\u001b[0;34m:\u001b[0m\u001b[0;34m\u001b[0m\u001b[0;34m\u001b[0m\u001b[0m\n\u001b[1;32m   3493\u001b[0m             \u001b[0mloc\u001b[0m \u001b[0;34m=\u001b[0m \u001b[0mself\u001b[0m\u001b[0;34m.\u001b[0m\u001b[0mindex\u001b[0m\u001b[0;34m.\u001b[0m\u001b[0mget_loc\u001b[0m\u001b[0;34m(\u001b[0m\u001b[0mkey\u001b[0m\u001b[0;34m)\u001b[0m\u001b[0;34m\u001b[0m\u001b[0;34m\u001b[0m\u001b[0m\n",
      "\u001b[0;32m/usr/local/lib/python3.6/dist-packages/pandas/core/indexes/multi.py\u001b[0m in \u001b[0;36mget_loc_level\u001b[0;34m(self, key, level, drop_level)\u001b[0m\n\u001b[1;32m   2851\u001b[0m                     \u001b[0;31m# Complete key in unique index -> standard get_loc\u001b[0m\u001b[0;34m\u001b[0m\u001b[0;34m\u001b[0m\u001b[0;34m\u001b[0m\u001b[0m\n\u001b[1;32m   2852\u001b[0m                     \u001b[0;32mtry\u001b[0m\u001b[0;34m:\u001b[0m\u001b[0;34m\u001b[0m\u001b[0;34m\u001b[0m\u001b[0m\n\u001b[0;32m-> 2853\u001b[0;31m                         \u001b[0;32mreturn\u001b[0m \u001b[0;34m(\u001b[0m\u001b[0mself\u001b[0m\u001b[0;34m.\u001b[0m\u001b[0m_engine\u001b[0m\u001b[0;34m.\u001b[0m\u001b[0mget_loc\u001b[0m\u001b[0;34m(\u001b[0m\u001b[0mkey\u001b[0m\u001b[0;34m)\u001b[0m\u001b[0;34m,\u001b[0m \u001b[0;32mNone\u001b[0m\u001b[0;34m)\u001b[0m\u001b[0;34m\u001b[0m\u001b[0;34m\u001b[0m\u001b[0m\n\u001b[0m\u001b[1;32m   2854\u001b[0m                     \u001b[0;32mexcept\u001b[0m \u001b[0mKeyError\u001b[0m \u001b[0;32mas\u001b[0m \u001b[0me\u001b[0m\u001b[0;34m:\u001b[0m\u001b[0;34m\u001b[0m\u001b[0;34m\u001b[0m\u001b[0m\n\u001b[1;32m   2855\u001b[0m                         \u001b[0;32mraise\u001b[0m \u001b[0mKeyError\u001b[0m\u001b[0;34m(\u001b[0m\u001b[0mkey\u001b[0m\u001b[0;34m)\u001b[0m \u001b[0;32mfrom\u001b[0m \u001b[0me\u001b[0m\u001b[0;34m\u001b[0m\u001b[0;34m\u001b[0m\u001b[0m\n",
      "\u001b[0;32mpandas/_libs/index.pyx\u001b[0m in \u001b[0;36mpandas._libs.index.BaseMultiIndexCodesEngine.get_loc\u001b[0;34m()\u001b[0m\n",
      "\u001b[0;32m/usr/local/lib/python3.6/dist-packages/pandas/core/indexes/base.py\u001b[0m in \u001b[0;36mget_loc\u001b[0;34m(self, key, method, tolerance)\u001b[0m\n\u001b[1;32m   2852\u001b[0m     \u001b[0;31m# Indexing Methods\u001b[0m\u001b[0;34m\u001b[0m\u001b[0;34m\u001b[0m\u001b[0;34m\u001b[0m\u001b[0m\n\u001b[1;32m   2853\u001b[0m \u001b[0;34m\u001b[0m\u001b[0m\n\u001b[0;32m-> 2854\u001b[0;31m     \u001b[0;32mdef\u001b[0m \u001b[0mget_loc\u001b[0m\u001b[0;34m(\u001b[0m\u001b[0mself\u001b[0m\u001b[0;34m,\u001b[0m \u001b[0mkey\u001b[0m\u001b[0;34m,\u001b[0m \u001b[0mmethod\u001b[0m\u001b[0;34m=\u001b[0m\u001b[0;32mNone\u001b[0m\u001b[0;34m,\u001b[0m \u001b[0mtolerance\u001b[0m\u001b[0;34m=\u001b[0m\u001b[0;32mNone\u001b[0m\u001b[0;34m)\u001b[0m\u001b[0;34m:\u001b[0m\u001b[0;34m\u001b[0m\u001b[0;34m\u001b[0m\u001b[0m\n\u001b[0m\u001b[1;32m   2855\u001b[0m         \"\"\"\n\u001b[1;32m   2856\u001b[0m         \u001b[0mGet\u001b[0m \u001b[0minteger\u001b[0m \u001b[0mlocation\u001b[0m\u001b[0;34m,\u001b[0m \u001b[0mslice\u001b[0m \u001b[0;32mor\u001b[0m \u001b[0mboolean\u001b[0m \u001b[0mmask\u001b[0m \u001b[0;32mfor\u001b[0m \u001b[0mrequested\u001b[0m \u001b[0mlabel\u001b[0m\u001b[0;34m.\u001b[0m\u001b[0;34m\u001b[0m\u001b[0;34m\u001b[0m\u001b[0m\n",
      "\u001b[0;31mKeyboardInterrupt\u001b[0m: "
     ]
    }
   ],
   "source": [
    "ddpg_agent = DDPG(actor_lr, critic_lr, state_dim, action_dim, mode, hidden1, hidden2, diff_multiplier,\n",
    "                  top_k, max_memory, depsilon, discount, tau, batch_size, ou_theta, ou_mu, ou_sigma, \n",
    "                  param_noise_scalar, param_noise_scalar_alpha, desired_distance)\n",
    "reward_records = []\n",
    "avg_rewards = []\n",
    "train(ddpg_agent, reward_records, avg_rewards)"
   ]
  },
  {
   "cell_type": "code",
   "execution_count": null,
   "metadata": {},
   "outputs": [],
   "source": [
    "mode"
   ]
  },
  {
   "cell_type": "markdown",
   "metadata": {
    "tags": []
   },
   "source": [
    "---\n",
    "## Save Result & Model"
   ]
  },
  {
   "cell_type": "code",
   "execution_count": 16,
   "metadata": {},
   "outputs": [
    {
     "data": {
      "text/plain": [
       "True"
      ]
     },
     "execution_count": 16,
     "metadata": {},
     "output_type": "execute_result"
    }
   ],
   "source": [
    "diff_items = {'mode': f'param_{mode}_0605', 'reward_records': reward_records, 'avg_rewards': avg_rewards}\n",
    "\n",
    "with open(f'results/param_{mode}_0605.pkl', 'wb') as handle:\n",
    "    pickle.dump(diff_items, handle, protocol=pickle.HIGHEST_PROTOCOL)\n",
    "\n",
    "torch.save(ddpg_agent, f'models/param_{mode}_0605.pth')\n",
    "\n",
    "model = torch.load(f'models/param_{mode}_0605.pth')\n",
    "\n",
    "model.depsilon == ddpg_agent.depsilon"
   ]
  },
  {
   "cell_type": "code",
   "execution_count": null,
   "metadata": {},
   "outputs": [],
   "source": []
  },
  {
   "cell_type": "code",
   "execution_count": null,
   "metadata": {},
   "outputs": [],
   "source": []
  },
  {
   "cell_type": "code",
   "execution_count": null,
   "metadata": {},
   "outputs": [],
   "source": []
  },
  {
   "cell_type": "code",
   "execution_count": null,
   "metadata": {},
   "outputs": [],
   "source": []
  },
  {
   "cell_type": "code",
   "execution_count": null,
   "metadata": {},
   "outputs": [],
   "source": []
  },
  {
   "cell_type": "code",
   "execution_count": null,
   "metadata": {},
   "outputs": [],
   "source": []
  },
  {
   "cell_type": "markdown",
   "metadata": {},
   "source": [
    "---\n",
    "## Effect of Diff Vector"
   ]
  },
  {
   "cell_type": "code",
   "execution_count": 109,
   "metadata": {},
   "outputs": [],
   "source": [
    "item_names = pd.read_pickle('item_names.pkl')"
   ]
  },
  {
   "cell_type": "code",
   "execution_count": 117,
   "metadata": {},
   "outputs": [],
   "source": [
    "def distance(ddpg_agent, point, actions):\n",
    "  res = 0\n",
    "  item = ITEM_PCA_DF.iloc[point]\n",
    "  for i in range(ddpg_agent.action_dim):\n",
    "    res += (actions[i] - item.loc[f'i{i}']) ** 2\n",
    "  return res"
   ]
  },
  {
   "cell_type": "code",
   "execution_count": 130,
   "metadata": {},
   "outputs": [],
   "source": [
    "user = '1258157967712334'\n",
    "stream = 7245\n",
    "state = USER_CONTEXT.loc[user, stream]\n",
    "diff = ITEM_DIFF.loc[user, stream]\n",
    "action_with_diff = ddpg_agent.generate_latent_action(state, decay_epsilon=True, vdbe_epsilon=False)\n",
    "action_without_diff = action_with_diff - diff\n",
    "curr_stream_items = STREAM_ITEM_DICT[stream]\n",
    "curr_stream_items.sort(key=lambda p: ddpg_agent._distance(p))\n",
    "actions_with_diff = curr_stream_items[:min(ddpg_agent.top_k, len(curr_stream_items) - 1)]\n",
    "\n",
    "curr_stream_items.sort(key=lambda p: distance(ddpg_agent, p, action_without_diff))\n",
    "actions_without_diff = curr_stream_items[:min(ddpg_agent.top_k, len(curr_stream_items) - 1)]"
   ]
  },
  {
   "cell_type": "code",
   "execution_count": 131,
   "metadata": {},
   "outputs": [
    {
     "data": {
      "text/plain": [
       "([33884, 21463, 33885, 33886, 25414, 33918, 33937, 21450, 3945, 4380],\n",
       " [3945, 33886, 33918, 33915, 21463, 33937, 4380, 33892, 25414, 25364])"
      ]
     },
     "execution_count": 131,
     "metadata": {},
     "output_type": "execute_result"
    }
   ],
   "source": [
    "actions_with_diff, actions_without_diff"
   ]
  },
  {
   "cell_type": "code",
   "execution_count": 143,
   "metadata": {},
   "outputs": [],
   "source": [
    "actions_emb =  ITEM_PCA_DF.iloc[actions_with_diff + actions_without_diff]"
   ]
  },
  {
   "cell_type": "code",
   "execution_count": 147,
   "metadata": {},
   "outputs": [
    {
     "data": {
      "text/plain": [
       "[33884,\n",
       " 21463,\n",
       " 33885,\n",
       " 33886,\n",
       " 25414,\n",
       " 33918,\n",
       " 33937,\n",
       " 21450,\n",
       " 3945,\n",
       " 4380,\n",
       " 3945,\n",
       " 33886,\n",
       " 33918,\n",
       " 33915,\n",
       " 21463,\n",
       " 33937,\n",
       " 4380,\n",
       " 33892,\n",
       " 25414,\n",
       " 25364]"
      ]
     },
     "execution_count": 147,
     "metadata": {},
     "output_type": "execute_result"
    }
   ],
   "source": []
  },
  {
   "cell_type": "code",
   "execution_count": 149,
   "metadata": {},
   "outputs": [],
   "source": [
    "from sklearn.decomposition import PCA\n",
    "\n",
    "pca = PCA(n_components=2)\n",
    "action_pca = pca.fit_transform(actions_emb)\n",
    "\n",
    "action_pca_df = pd.DataFrame(action_pca, index=actions_with_diff + actions_without_diff)"
   ]
  },
  {
   "cell_type": "code",
   "execution_count": 156,
   "metadata": {},
   "outputs": [
    {
     "data": {
      "text/plain": [
       "(20, 2)"
      ]
     },
     "execution_count": 156,
     "metadata": {},
     "output_type": "execute_result"
    }
   ],
   "source": [
    "action_pca_df.shape"
   ]
  },
  {
   "cell_type": "code",
   "execution_count": 161,
   "metadata": {},
   "outputs": [
    {
     "data": {
      "text/plain": [
       "<matplotlib.legend.Legend at 0x7f4f97961b38>"
      ]
     },
     "execution_count": 161,
     "metadata": {},
     "output_type": "execute_result"
    },
    {
     "data": {
      "image/png": "[encoded data removed]",
      "text/plain": [
       "<Figure size 432x288 with 1 Axes>"
      ]
     },
     "metadata": {
      "needs_background": "light"
     },
     "output_type": "display_data"
    }
   ],
   "source": [
    "# 绘制降维后的数据\n",
    "plt.scatter(action_pca_df.loc[actions_with_diff, 0], action_pca_df.loc[actions_with_diff, 1], label='diff')\n",
    "plt.scatter(action_pca_df.loc[actions_without_diff, 0], action_pca_df.loc[actions_without_diff, 1], label='no diff')\n",
    "plt.xlabel('Principal Component 1')\n",
    "plt.ylabel('Principal Component 2')\n",
    "plt.title('PCA - 2D Feature Representation')\n",
    "plt.legend()"
   ]
  },
  {
   "cell_type": "code",
   "execution_count": 163,
   "metadata": {},
   "outputs": [],
   "source": [
    "pca = PCA(n_components=3)\n",
    "action_pca = pca.fit_transform(actions_emb)\n",
    "\n",
    "action_pca_df = pd.DataFrame(action_pca, index=actions_with_diff + actions_without_diff)"
   ]
  },
  {
   "cell_type": "code",
   "execution_count": 166,
   "metadata": {},
   "outputs": [
    {
     "data": {
      "image/png": "[encoded data removed]",
      "text/plain": [
       "<Figure size 720x576 with 1 Axes>"
      ]
     },
     "metadata": {
      "needs_background": "light"
     },
     "output_type": "display_data"
    }
   ],
   "source": [
    "from mpl_toolkits.mplot3d import Axes3D\n",
    "fig = plt.figure(figsize=(10, 8))\n",
    "ax = fig.add_subplot(111, projection='3d')\n",
    "ax.scatter(action_pca_df.loc[actions_with_diff, 0], action_pca_df.loc[actions_with_diff, 1], action_pca_df.loc[actions_with_diff, 2])\n",
    "ax.scatter(action_pca_df.loc[actions_without_diff, 0], action_pca_df.loc[actions_without_diff, 1], action_pca_df.loc[actions_without_diff, 2])\n",
    "ax.set_xlabel('Principal Component 1')\n",
    "ax.set_ylabel('Principal Component 2')\n",
    "ax.set_zlabel('Principal Component 3')\n",
    "ax.set_title('PCA - 3D Feature Representation')\n",
    "plt.show()"
   ]
  },
  {
   "cell_type": "code",
   "execution_count": null,
   "metadata": {},
   "outputs": [],
   "source": []
  },
  {
   "cell_type": "code",
   "execution_count": null,
   "metadata": {},
   "outputs": [],
   "source": []
  },
  {
   "cell_type": "code",
   "execution_count": null,
   "metadata": {},
   "outputs": [],
   "source": []
  },
  {
   "cell_type": "code",
   "execution_count": 133,
   "metadata": {},
   "outputs": [
    {
     "name": "stdout",
     "output_type": "stream",
     "text": [
      "薑黃維生素c b群\n",
      "tommy滿版傘 藍\n",
      "istkunst圓笑臉大學t 藍\n",
      "gucci 復古金頭 0593\n",
      "istkunst聯名nice ghost club米白色大學t\n",
      "all natural仙人掌修護面膜\n",
      "法拉利手錶 模型車組\n",
      "ea耀眼金銀三眼錶\n",
      "韓國elishacoy康普茶保濕精華\n",
      "coach外圈鑽簡約錶 金\n"
     ]
    }
   ],
   "source": [
    "for a in actions_without_diff:\n",
    "  print(item_names[a])\n",
    "\n",
    "# '多功能泡麵碗', '廚房重油汙泡沫清潔劑', '亞羅椿煥采眼霜'"
   ]
  },
  {
   "cell_type": "code",
   "execution_count": 132,
   "metadata": {},
   "outputs": [
    {
     "name": "stdout",
     "output_type": "stream",
     "text": [
      "nike swoosh 腰包\n",
      "istkunst聯名nice ghost club米白色大學t\n",
      "tommy立領科技布外套 黑520 xl號\n",
      "tommy滿版傘 藍\n",
      "韓國elishacoy康普茶保濕精華\n",
      "istkunst圓笑臉大學t 藍\n",
      "all natural仙人掌修護面膜\n",
      "istkunst聯名nice ghost club藍色帽t\n",
      "薑黃維生素c b群\n",
      "法拉利手錶 模型車組\n"
     ]
    }
   ],
   "source": [
    "for a in actions_with_diff:\n",
    "  print(item_names[a])"
   ]
  },
  {
   "cell_type": "code",
   "execution_count": null,
   "metadata": {},
   "outputs": [],
   "source": []
  }
 ],
 "metadata": {
  "kernelspec": {
   "display_name": "Python 3",
   "language": "python",
   "name": "python3"
  },
  "language_info": {
   "codemirror_mode": {
    "name": "ipython",
    "version": 3
   },
   "file_extension": ".py",
   "mimetype": "text/x-python",
   "name": "python",
   "nbconvert_exporter": "python",
   "pygments_lexer": "ipython3",
   "version": "3.6.9"
  }
 },
 "nbformat": 4,
 "nbformat_minor": 4
}
