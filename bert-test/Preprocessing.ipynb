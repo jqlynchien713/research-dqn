{
 "cells": [
  {
   "cell_type": "markdown",
   "metadata": {},
   "source": [
    "# BERT Baseline with All Streamers Data"
   ]
  },
  {
   "cell_type": "code",
   "execution_count": 8,
   "metadata": {},
   "outputs": [],
   "source": [
    "import pandas as pd\n",
    "import numpy as np\n",
    "from sklearn.preprocessing import LabelEncoder\n",
    "import random\n",
    "import itertools\n",
    "from tqdm.notebook import tqdm\n",
    "import pickle\n",
    "tqdm.pandas()\n",
    "\n",
    "# ORIGIN_DATA = pd.read_pickle('../../data/new_txn.pkl')\n",
    "# BERT = np.load('../../data/jambo_iname2embedding.npy', allow_pickle=True)[None][0]"
   ]
  },
  {
   "cell_type": "code",
   "execution_count": 24,
   "metadata": {},
   "outputs": [],
   "source": [
    "# 測試少量資料\n",
    "ORIGIN_DATA = pd.read_pickle('../../data/new_txn.pkl')\n",
    "DATA = ORIGIN_DATA.reset_index(drop=True)"
   ]
  },
  {
   "cell_type": "markdown",
   "metadata": {
    "tags": []
   },
   "source": [
    "## Preprocessing & Storage"
   ]
  },
  {
   "cell_type": "code",
   "execution_count": 25,
   "metadata": {
    "tags": []
   },
   "outputs": [
    {
     "name": "stdout",
     "output_type": "stream",
     "text": [
      "CPU times: user 7.9 s, sys: 1.13 s, total: 9.03 s\n",
      "Wall time: 9.02 s\n"
     ]
    }
   ],
   "source": [
    "%%time\n",
    "'''\n",
    "Make Stream Indexer\n",
    "'''\n",
    "DATA['stream'] = DATA['user_id'].astype(str) + DATA['場次'].astype(str)\n",
    "\n",
    "# Set stream_id in time order\n",
    "sorted_streams = DATA.sort_values(by=['下單日期'])['stream'].reset_index(drop=True).unique()\n",
    "stream_dict = { x: i for i, x in enumerate(sorted_streams) }\n",
    "\n",
    "DATA['stream'] = DATA['stream'].map(stream_dict)"
   ]
  },
  {
   "cell_type": "code",
   "execution_count": 26,
   "metadata": {},
   "outputs": [
    {
     "name": "stdout",
     "output_type": "stream",
     "text": [
      "CPU times: user 15.8 s, sys: 816 ms, total: 16.6 s\n",
      "Wall time: 16.6 s\n"
     ]
    }
   ],
   "source": [
    "%%time\n",
    "'''\n",
    "THRESHOLDS\n",
    "1. Users bought threshold: could be 9/15/25/1(consider all)\n",
    "2. Stream buyer threshold: could be 2/25/73/209\n",
    "   -> 避免 Feature 即為正確答案\n",
    "'''\n",
    "buy_threshold = 9\n",
    "stream_threshold = 1\n",
    "\n",
    "user_count = DATA.groupby(['asid']).count()\n",
    "uid = user_count['下單日期'].loc[user_count['下單日期'] > buy_threshold].index\n",
    "DATA = DATA.loc[DATA['asid'].isin(uid)]\n",
    "\n",
    "data_groupby_stream = DATA.groupby(['stream'])\n",
    "g_s_count = data_groupby_stream.count()\n",
    "available_streams = g_s_count.loc[g_s_count['訂單編號'] > stream_threshold].index\n",
    "DATA = DATA.loc[DATA['stream'].isin(available_streams)]"
   ]
  },
  {
   "cell_type": "code",
   "execution_count": 27,
   "metadata": {},
   "outputs": [
    {
     "name": "stdout",
     "output_type": "stream",
     "text": [
      "CPU times: user 32.7 s, sys: 68 ms, total: 32.7 s\n",
      "Wall time: 32.6 s\n"
     ]
    },
    {
     "name": "stderr",
     "output_type": "stream",
     "text": [
      "/usr/local/lib/python3.6/dist-packages/ipykernel_launcher.py:4: SettingWithCopyWarning: \n",
      "A value is trying to be set on a copy of a slice from a DataFrame.\n",
      "Try using .loc[row_indexer,col_indexer] = value instead\n",
      "\n",
      "See the caveats in the documentation: https://pandas.pydata.org/pandas-docs/stable/user_guide/indexing.html#returning-a-view-versus-a-copy\n",
      "  after removing the cwd from sys.path.\n",
      "/usr/local/lib/python3.6/dist-packages/pandas/core/frame.py:4308: SettingWithCopyWarning: \n",
      "A value is trying to be set on a copy of a slice from a DataFrame\n",
      "\n",
      "See the caveats in the documentation: https://pandas.pydata.org/pandas-docs/stable/user_guide/indexing.html#returning-a-view-versus-a-copy\n",
      "  errors=errors,\n"
     ]
    }
   ],
   "source": [
    "%%time\n",
    "'''\n",
    "period & item_id\n",
    "'''\n",
    "DATA['period'] = DATA['下單日期'].astype(str).apply(lambda x: x[:7])\n",
    "DATA.rename(columns = {'商品id': 'item_id'}, inplace=True)"
   ]
  },
  {
   "cell_type": "code",
   "execution_count": 28,
   "metadata": {},
   "outputs": [
    {
     "name": "stderr",
     "output_type": "stream",
     "text": [
      "/usr/local/lib/python3.6/dist-packages/ipykernel_launcher.py:8: SettingWithCopyWarning: \n",
      "A value is trying to be set on a copy of a slice from a DataFrame.\n",
      "Try using .loc[row_indexer,col_indexer] = value instead\n",
      "\n",
      "See the caveats in the documentation: https://pandas.pydata.org/pandas-docs/stable/user_guide/indexing.html#returning-a-view-versus-a-copy\n",
      "  \n",
      "/usr/local/lib/python3.6/dist-packages/ipykernel_launcher.py:9: SettingWithCopyWarning: \n",
      "A value is trying to be set on a copy of a slice from a DataFrame.\n",
      "Try using .loc[row_indexer,col_indexer] = value instead\n",
      "\n",
      "See the caveats in the documentation: https://pandas.pydata.org/pandas-docs/stable/user_guide/indexing.html#returning-a-view-versus-a-copy\n",
      "  if __name__ == '__main__':\n",
      "/usr/local/lib/python3.6/dist-packages/ipykernel_launcher.py:10: SettingWithCopyWarning: \n",
      "A value is trying to be set on a copy of a slice from a DataFrame.\n",
      "Try using .loc[row_indexer,col_indexer] = value instead\n",
      "\n",
      "See the caveats in the documentation: https://pandas.pydata.org/pandas-docs/stable/user_guide/indexing.html#returning-a-view-versus-a-copy\n",
      "  # Remove the CWD from sys.path while we load stuff.\n"
     ]
    },
    {
     "name": "stdout",
     "output_type": "stream",
     "text": [
      "CPU times: user 9.27 s, sys: 1.04 s, total: 10.3 s\n",
      "Wall time: 10.3 s\n"
     ]
    }
   ],
   "source": [
    "%%time\n",
    "'''\n",
    "One Hot Encoding\n",
    "* 處理 shipment, payment\n",
    "* 要先做 label encoding 才能做 one hot encoding\n",
    "'''\n",
    "le = LabelEncoder()\n",
    "\n",
    "DATA['shipment'] = le.fit_transform(DATA['運送方式'])\n",
    "DATA['payment'] = le.fit_transform(DATA['付款方式'])\n",
    "DATA['streamer_id'] = le.fit_transform(DATA['user_id'])\n",
    "DATA = pd.get_dummies(DATA,\n",
    "                      prefix=['shipment', 'payment', 'streamer'],\n",
    "                      columns=['shipment', 'payment', 'streamer_id'])"
   ]
  },
  {
   "cell_type": "code",
   "execution_count": 29,
   "metadata": {},
   "outputs": [
    {
     "name": "stdout",
     "output_type": "stream",
     "text": [
      "CPU times: user 12.3 s, sys: 2.12 s, total: 14.4 s\n",
      "Wall time: 14.4 s\n"
     ]
    }
   ],
   "source": [
    "%%time\n",
    "'''\n",
    "USER Features \n",
    "Generate USER_STREAM_CONTEXT\n",
    "'''\n",
    "data_groupby_user_stream = DATA.groupby(['asid', 'stream'])\n",
    "\n",
    "\n",
    "# Get group by sum\n",
    "USER_STREAM_CONTEXT = data_groupby_user_stream.sum()\n",
    "USER_STREAM_CONTEXT = USER_STREAM_CONTEXT[['shipment_0', 'shipment_1', 'shipment_2', 'shipment_3', \n",
    "                                           'shipment_4', 'shipment_5', 'shipment_6', 'payment_0', \n",
    "                                           'payment_1', 'payment_2', 'payment_3', 'payment_4', 'payment_5',\n",
    "                                           'payment_6', 'payment_7', 'payment_8', 'streamer_0', 'streamer_1',\n",
    "                                           'streamer_2', 'streamer_3', 'streamer_4', 'streamer_5', \n",
    "                                           'streamer_6', 'streamer_7', 'streamer_8']]\n",
    "\n",
    "# Get group by count & mean\n",
    "u_s_count = data_groupby_user_stream.count()\n",
    "u_s_avg = data_groupby_user_stream.mean()\n",
    "\n",
    "# Assign seleted values to USER_STREAM_CONTEXT\n",
    "USER_STREAM_CONTEXT[['channel_name', 'user_id', 'item_id', '訂單編號', '專屬折扣']] = u_s_count[['channel_name', 'user_id', 'item_id', '訂單編號', '專屬折扣']]\n",
    "USER_STREAM_CONTEXT[['運費', '總金額', '數量', '單價']] = u_s_avg[['運費', '總金額', '數量', '單價']]\n",
    "\n",
    "# Rename columns\n",
    "USER_STREAM_CONTEXT.rename(columns={'user_id': 'streamer_id',\n",
    "                                    'channel_name': 'channel_cnt',\n",
    "                                    '訂單編號': 'order_cnt',\n",
    "                                    'item_id': 'item_var_cnt',\n",
    "                                    '運費': 'shipment_fee',\n",
    "                                    '專屬折扣': 'discount',\n",
    "                                    '總金額': 'total_price',\n",
    "                                    '單價': 'avg_item_price',\n",
    "                                    '數量': 'avg_item_cnt'\n",
    "                                   },\n",
    "                           inplace=True)"
   ]
  },
  {
   "cell_type": "code",
   "execution_count": 8,
   "metadata": {},
   "outputs": [
    {
     "data": {
      "application/vnd.jupyter.widget-view+json": {
       "model_id": "c2de142c9cd040c886652429932f667b",
       "version_major": 2,
       "version_minor": 0
      },
      "text/plain": [
       "  0%|          | 0/162189 [00:00<?, ?it/s]"
      ]
     },
     "metadata": {},
     "output_type": "display_data"
    },
    {
     "name": "stdout",
     "output_type": "stream",
     "text": [
      "CPU times: user 48.4 s, sys: 207 ms, total: 48.6 s\n",
      "Wall time: 48.6 s\n"
     ]
    }
   ],
   "source": [
    "%%time\n",
    "'''\n",
    "USER_STREAM_MDB: user bought history average embedding (by stream) through items.unique.index\n",
    "* BERT_INDEX: [item_name] -> item_idx\n",
    "* item_name_embedding: [item_idx] -> item_embedding\n",
    "* user_stream_buy_list: (buyer, stream) -> [items]\n",
    "'''\n",
    "# Append item embeddings according to items list's order & convert to np array\n",
    "item_names = DATA['item_name'].unique().tolist()\n",
    "ITEM_EMB_BY_IDX = []\n",
    "for iname in tqdm(item_names):\n",
    "  ITEM_EMB_BY_IDX.append(BERT[iname])\n",
    "ITEM_EMB_BY_IDX = np.array(ITEM_EMB_BY_IDX)\n",
    "\n",
    "# Map item name to item index\n",
    "BERT_INDEX = {name:i for i, name in enumerate(item_names)}\n",
    "\n",
    "# Item names grouped by asid & stream\n",
    "user_stream_buy_list = DATA.groupby(['asid', 'stream'])['item_name'].apply(list)"
   ]
  },
  {
   "cell_type": "code",
   "execution_count": 9,
   "metadata": {},
   "outputs": [
    {
     "data": {
      "application/vnd.jupyter.widget-view+json": {
       "model_id": "c4f7cc3696b34cfea3eff749a09e8a94",
       "version_major": 2,
       "version_minor": 0
      },
      "text/plain": [
       "  0%|          | 0/79207 [00:00<?, ?it/s]"
      ]
     },
     "metadata": {},
     "output_type": "display_data"
    }
   ],
   "source": [
    "'''\n",
    "Calculate user cumulated stream embedding\n",
    "* user_stream_order_dict: { User: [stream list in order] }\n",
    "* buy list: [asid, streams]\n",
    "* 需求：可以選擇要「給予權重」或「直接平均」\n",
    "'''\n",
    "user_stream_order = DATA[['asid', 'stream']].groupby(['asid'])['stream'].apply(set)\n",
    "USER_LIST = DATA['asid'].unique().tolist()\n",
    "# test asid: ['1000057940522534']\n",
    "# test streams: {3397, 3415, 3815, 3865, 4365, 4478, 4563, 5028}\n",
    "\n",
    "# AVG\n",
    "FINAL_EMB = {}\n",
    "for asid in tqdm(USER_LIST):\n",
    "  # find all the stream user attended and sort them in time order\n",
    "  streamlist = list(user_stream_order[asid])\n",
    "  streamlist.sort()\n",
    "  # find items bought in each stream\n",
    "  buylist = [user_stream_buy_list[asid, stream] for stream in streamlist]\n",
    "  # cumulated items bought in each stream\n",
    "  cumulative_buylist = [sum(buylist[:i], []) for i in range(1, len(buylist) + 1)]\n",
    "  # map { stream: cumulate_items } to a dictionary\n",
    "  cumulative_dict = dict(zip(streamlist, cumulative_buylist))\n",
    "  # calculate average embedding and put them into FINAL_EMB\n",
    "  # FOR EACH STREAM\n",
    "  for k in cumulative_dict.keys():\n",
    "    # get all items' name from stream\n",
    "    i_list = cumulative_dict[k]\n",
    "    # get items' BERT_INDEX for retrived items\n",
    "    all_buy_item_index = [BERT_INDEX[item] for item in i_list]\n",
    "    # get their embeddings and calculate mean\n",
    "    user_emb = ITEM_EMB_BY_IDX[all_buy_item_index].mean(axis=0)\n",
    "    # put them into the FINAL_EMB as previous set format\n",
    "    FINAL_EMB[(asid, k)] = user_emb"
   ]
  },
  {
   "cell_type": "code",
   "execution_count": 10,
   "metadata": {
    "collapsed": true,
    "jupyter": {
     "outputs_hidden": true
    },
    "tags": []
   },
   "outputs": [
    {
     "ename": "ValueError",
     "evalue": "The truth value of an array with more than one element is ambiguous. Use a.any() or a.all()",
     "output_type": "error",
     "traceback": [
      "\u001b[0;31m\u001b[0m",
      "\u001b[0;31mValueError\u001b[0mTraceback (most recent call last)",
      "\u001b[0;32m<ipython-input-10-9d4aeb8e5c70>\u001b[0m in \u001b[0;36m<module>\u001b[0;34m\u001b[0m\n\u001b[1;32m      5\u001b[0m     \u001b[0mb\u001b[0m \u001b[0;34m=\u001b[0m \u001b[0mpickle\u001b[0m\u001b[0;34m.\u001b[0m\u001b[0mload\u001b[0m\u001b[0;34m(\u001b[0m\u001b[0mhandle\u001b[0m\u001b[0;34m)\u001b[0m\u001b[0;34m\u001b[0m\u001b[0;34m\u001b[0m\u001b[0m\n\u001b[1;32m      6\u001b[0m \u001b[0;34m\u001b[0m\u001b[0m\n\u001b[0;32m----> 7\u001b[0;31m \u001b[0mprint\u001b[0m\u001b[0;34m(\u001b[0m\u001b[0mFINAL_EMB\u001b[0m \u001b[0;34m==\u001b[0m \u001b[0mb\u001b[0m\u001b[0;34m)\u001b[0m\u001b[0;34m\u001b[0m\u001b[0;34m\u001b[0m\u001b[0m\n\u001b[0m",
      "\u001b[0;31mValueError\u001b[0m: The truth value of an array with more than one element is ambiguous. Use a.any() or a.all()"
     ]
    }
   ],
   "source": [
    "%%time\n",
    "# store \n",
    "with open('cumulative_item_emb.pkl', 'wb') as handle:\n",
    "    pickle.dump(FINAL_EMB, handle, protocol=pickle.HIGHEST_PROTOCOL)\n",
    "\n",
    "# load\n",
    "with open('cumulative_item_emb.pkl', 'rb') as handle:\n",
    "    b = pickle.load(handle)"
   ]
  },
  {
   "cell_type": "code",
   "execution_count": 10,
   "metadata": {
    "tags": []
   },
   "outputs": [
    {
     "name": "stdout",
     "output_type": "stream",
     "text": [
      "CPU times: user 51.9 s, sys: 1.43 s, total: 53.3 s\n",
      "Wall time: 53.3 s\n"
     ]
    }
   ],
   "source": [
    "%%time\n",
    "'''\n",
    "ITEM Features\n",
    "1. Attach item embeddings to DATA\n",
    "2. Reset ITEM_DF's index\n",
    "'''\n",
    "LB_BERT = [f'bert_{x}' for x in range(768)] # constant\n",
    "\n",
    "# Generate ITEM_DF for DATA\n",
    "ITEM_FEAT = pd.DataFrame.from_dict(BERT, orient='index').astype('float32') # decrease processing time"
   ]
  },
  {
   "cell_type": "code",
   "execution_count": 9,
   "metadata": {
    "tags": []
   },
   "outputs": [],
   "source": [
    "'''\n",
    "ITEM_STREAM_DICT: 直播 id 對應到的商品列表\n",
    "REAL_BOUGHT_DF: 計算 reward 用\n",
    "LAST_BOUGHT_STREAM: 作為 game_over\n",
    "'''\n",
    "# Constant: all stream list\n",
    "STREAM_LIST = DATA.stream.unique()\n",
    "\n",
    "# [Reward]\n",
    "REAL_BOUGHT_DF = DATA.loc[:, ['asid', 'stream', 'item_id']]\n",
    "\n",
    "# [Action]\n",
    "LAST_BOUGHT_STREAM = USER_STREAM_CONTEXT.reset_index().groupby('asid', as_index=False).last().loc[:, ['asid', 'stream']].set_index('asid')"
   ]
  },
  {
   "cell_type": "code",
   "execution_count": null,
   "metadata": {},
   "outputs": [],
   "source": []
  },
  {
   "cell_type": "code",
   "execution_count": null,
   "metadata": {},
   "outputs": [],
   "source": []
  },
  {
   "cell_type": "code",
   "execution_count": 10,
   "metadata": {
    "tags": []
   },
   "outputs": [
    {
     "data": {
      "application/vnd.jupyter.widget-view+json": {
       "model_id": "12c69c55c17648038e920009d0dc0538",
       "version_major": 2,
       "version_minor": 0
      },
      "text/plain": [
       "  0%|          | 0/7701 [00:00<?, ?it/s]"
      ]
     },
     "metadata": {},
     "output_type": "display_data"
    },
    {
     "name": "stdout",
     "output_type": "stream",
     "text": [
      "CPU times: user 12.7 s, sys: 2.18 s, total: 14.8 s\n",
      "Wall time: 14.8 s\n"
     ]
    }
   ],
   "source": [
    "%%time\n",
    "'''\n",
    "STREAM Features:\n",
    "* STREAM_FEAT: avg_price, avg_sum, count order #\n",
    "* STREAM_ITEM_EMB: [stream] -> avg item embedding\n",
    "'''\n",
    "data_gb_stream = DATA.groupby(['stream'])\n",
    "STREAM_FEAT = data_gb_stream.mean()[['單價', '總金額']]\n",
    "STREAM_FEAT[['count']] = data_gb_stream.count()[['item_name']]\n",
    "STREAM_FEAT.rename(columns={'單價':'avg_price', '總金額':'avg_sum'}, inplace=True)\n",
    "\n",
    "# Item names grouped by stream\n",
    "stream_item_list = data_gb_stream['item_name'].apply(list)\n",
    "\n",
    "STREAM_ITEM_EMB = {}\n",
    "for stream in tqdm(stream_item_list.index):\n",
    "  # Find each stream's items\n",
    "  item_list = stream_item_list[stream]\n",
    "  # Find these items' indeces\n",
    "  all_stream_item_index = [BERT_INDEX[item] for item in item_list]\n",
    "  # Use the indeces found above to locate BERT embeddings & calculate mean\n",
    "  stream_emb = ITEM_EMB_BY_IDX[all_stream_item_index].mean(axis=0)\n",
    "  # Put result into dict\n",
    "  STREAM_ITEM_EMB[stream] = stream_emb"
   ]
  },
  {
   "cell_type": "code",
   "execution_count": 29,
   "metadata": {},
   "outputs": [
    {
     "data": {
      "application/vnd.jupyter.widget-view+json": {
       "model_id": "c4e64848288546a08c3ff1831bf254ec",
       "version_major": 2,
       "version_minor": 0
      },
      "text/plain": [
       "  0%|          | 0/7701 [00:00<?, ?it/s]"
      ]
     },
     "metadata": {},
     "output_type": "display_data"
    }
   ],
   "source": [
    "'''\n",
    "Stream item list\n",
    "stream: item_id_from_uniq\n",
    "'''\n",
    "STREAM_ITEM_LIST = {}\n",
    "for stream in tqdm(stream_item_list.index):\n",
    "  # Find each stream's items\n",
    "  item_list = stream_item_list[stream]\n",
    "  # Find these items' indeces\n",
    "  all_stream_item_index = [BERT_INDEX[item] for item in item_list]\n",
    "  # Put result into dict\n",
    "  STREAM_ITEM_LIST[stream] = all_stream_item_index\n",
    "\n",
    "with open('stream_item_dict.pkl', 'wb') as handle:\n",
    "    pickle.dump(STREAM_ITEM_LIST, handle, protocol=pickle.HIGHEST_PROTOCOL)"
   ]
  },
  {
   "cell_type": "code",
   "execution_count": 130,
   "metadata": {},
   "outputs": [
    {
     "name": "stdout",
     "output_type": "stream",
     "text": [
      "111549\n",
      "4902\n"
     ]
    },
    {
     "data": {
      "text/plain": [
       "14096"
      ]
     },
     "execution_count": 130,
     "metadata": {},
     "output_type": "execute_result"
    }
   ],
   "source": [
    "STREAM_ITEM_DICT = pd.read_pickle('stream_item_dict.pkl')\n",
    "for x in STREAM_ITEM_DICT.values():\n",
    "  if len(x)==111549:\n",
    "    print(len(x))\n",
    "    print(len(set(x)))\n",
    "\n",
    "for k, v in STREAM_ITEM_DICT.items():\n",
    "  STREAM_ITEM_DICT[k] = list(set(v))\n",
    "\n",
    "a=[len(x) for x in STREAM_ITEM_DICT.values()]\n",
    "max(a)"
   ]
  },
  {
   "cell_type": "code",
   "execution_count": 131,
   "metadata": {},
   "outputs": [],
   "source": [
    "with open('stream_item_dict.pkl', 'wb') as handle:\n",
    "    pickle.dump(STREAM_ITEM_DICT, handle, protocol=pickle.HIGHEST_PROTOCOL)"
   ]
  },
  {
   "cell_type": "code",
   "execution_count": null,
   "metadata": {},
   "outputs": [],
   "source": []
  },
  {
   "cell_type": "code",
   "execution_count": null,
   "metadata": {},
   "outputs": [],
   "source": []
  },
  {
   "cell_type": "code",
   "execution_count": null,
   "metadata": {},
   "outputs": [],
   "source": []
  },
  {
   "cell_type": "code",
   "execution_count": 13,
   "metadata": {},
   "outputs": [
    {
     "name": "stdout",
     "output_type": "stream",
     "text": [
      "CPU times: user 35.8 ms, sys: 36 ms, total: 71.7 ms\n",
      "Wall time: 70.7 ms\n"
     ]
    }
   ],
   "source": [
    "%%time\n",
    "# store \n",
    "with open('stream_emb.pkl', 'wb') as handle:\n",
    "    pickle.dump(STREAM_ITEM_EMB, handle, protocol=pickle.HIGHEST_PROTOCOL)"
   ]
  },
  {
   "cell_type": "code",
   "execution_count": 18,
   "metadata": {},
   "outputs": [],
   "source": [
    "USER_STREAM_CONTEXT.to_pickle('user_stream_context.pkl')\n",
    "STREAM_FEAT.to_pickle('stream_feat.pkl')"
   ]
  },
  {
   "cell_type": "code",
   "execution_count": 21,
   "metadata": {},
   "outputs": [],
   "source": [
    "np.save('item_emb_by_idx.npy', ITEM_EMB_BY_IDX, allow_pickle=True)"
   ]
  },
  {
   "cell_type": "code",
   "execution_count": null,
   "metadata": {},
   "outputs": [],
   "source": []
  },
  {
   "cell_type": "code",
   "execution_count": null,
   "metadata": {},
   "outputs": [],
   "source": [
    "'''\n",
    "Data to use(exported)\n",
    "1. cumulative_item_emb\n",
    "2. stream_item_emb\n",
    "3. user_stream_context\n",
    "4. stream_feat\n",
    "5. item_emb\n",
    "6. stream_item_list\n",
    "'''"
   ]
  },
  {
   "cell_type": "code",
   "execution_count": null,
   "metadata": {},
   "outputs": [],
   "source": []
  },
  {
   "cell_type": "code",
   "execution_count": null,
   "metadata": {},
   "outputs": [],
   "source": []
  },
  {
   "cell_type": "code",
   "execution_count": 9,
   "metadata": {},
   "outputs": [],
   "source": [
    "CML_ITEM_EMB = pd.read_pickle('cumulative_item_emb.pkl')\n",
    "USER_STREAM_CONTEXT = pd.read_pickle('user_stream_context.pkl')"
   ]
  },
  {
   "cell_type": "code",
   "execution_count": 10,
   "metadata": {},
   "outputs": [
    {
     "name": "stdout",
     "output_type": "stream",
     "text": [
      "CPU times: user 1.06 s, sys: 6.26 ms, total: 1.06 s\n",
      "Wall time: 1.06 s\n"
     ]
    }
   ],
   "source": [
    "%%time\n",
    "bert_emb = list(map(lambda x: CML_ITEM_EMB[x], USER_STREAM_CONTEXT.index.tolist()))"
   ]
  },
  {
   "cell_type": "code",
   "execution_count": 11,
   "metadata": {},
   "outputs": [
    {
     "name": "stdout",
     "output_type": "stream",
     "text": [
      "CPU times: user 408 ms, sys: 15.8 ms, total: 424 ms\n",
      "Wall time: 422 ms\n"
     ]
    }
   ],
   "source": [
    "%%time\n",
    "emb_dict = {key: emb for key, emb in zip(USER_STREAM_CONTEXT.index, bert_emb)}"
   ]
  },
  {
   "cell_type": "code",
   "execution_count": 12,
   "metadata": {},
   "outputs": [
    {
     "data": {
      "text/plain": [
       "0      0.439118\n",
       "1      0.324274\n",
       "2     -0.210958\n",
       "3      0.009634\n",
       "4     -0.085988\n",
       "         ...   \n",
       "763    0.463184\n",
       "764   -0.119197\n",
       "765   -0.523377\n",
       "766    0.051746\n",
       "767    0.031374\n",
       "Length: 768, dtype: float64"
      ]
     },
     "execution_count": 12,
     "metadata": {},
     "output_type": "execute_result"
    }
   ],
   "source": [
    "pd.Series(emb_dict[('1000057940522534', 3397)])"
   ]
  },
  {
   "cell_type": "code",
   "execution_count": 13,
   "metadata": {},
   "outputs": [
    {
     "data": {
      "application/vnd.jupyter.widget-view+json": {
       "model_id": "65eb21a0417045a2be68dbead3a4137b",
       "version_major": 2,
       "version_minor": 0
      },
      "text/plain": [
       "  0%|          | 0/1397141 [00:00<?, ?it/s]"
      ]
     },
     "metadata": {},
     "output_type": "display_data"
    },
    {
     "name": "stdout",
     "output_type": "stream",
     "text": [
      "CPU times: user 1min 38s, sys: 1.07 s, total: 1min 39s\n",
      "Wall time: 1min 39s\n"
     ]
    },
    {
     "data": {
      "text/plain": [
       "True"
      ]
     },
     "execution_count": 13,
     "metadata": {},
     "output_type": "execute_result"
    }
   ],
   "source": [
    "%%time\n",
    "embseries_dict = {}\n",
    "for key, item in tqdm(emb_dict.items()):\n",
    "  embseries_dict[key] = pd.Series(item)\n",
    "len(embseries_dict) == len(emb_dict)"
   ]
  },
  {
   "cell_type": "code",
   "execution_count": 14,
   "metadata": {},
   "outputs": [],
   "source": [
    "def apply_emb(row):\n",
    "  return embseries_dict[row.name]"
   ]
  },
  {
   "cell_type": "code",
   "execution_count": 15,
   "metadata": {},
   "outputs": [
    {
     "data": {
      "application/vnd.jupyter.widget-view+json": {
       "model_id": "8f0118309b8e4dd0b716204247436871",
       "version_major": 2,
       "version_minor": 0
      },
      "text/plain": [
       "  0%|          | 0/1397141 [00:00<?, ?it/s]"
      ]
     },
     "metadata": {},
     "output_type": "display_data"
    },
    {
     "name": "stdout",
     "output_type": "stream",
     "text": [
      "CPU times: user 2min 18s, sys: 5.91 s, total: 2min 23s\n",
      "Wall time: 2min 23s\n"
     ]
    }
   ],
   "source": [
    "%%time\n",
    "tqdm.pandas()\n",
    "\n",
    "US_CONTEXT_EMB = USER_STREAM_CONTEXT.progress_apply(lambda x: apply_emb(x), axis=1)"
   ]
  },
  {
   "cell_type": "code",
   "execution_count": null,
   "metadata": {},
   "outputs": [],
   "source": []
  },
  {
   "cell_type": "code",
   "execution_count": null,
   "metadata": {},
   "outputs": [],
   "source": []
  },
  {
   "cell_type": "code",
   "execution_count": null,
   "metadata": {},
   "outputs": [],
   "source": []
  },
  {
   "cell_type": "code",
   "execution_count": 51,
   "metadata": {
    "tags": []
   },
   "outputs": [
    {
     "data": {
      "application/vnd.jupyter.widget-view+json": {
       "model_id": "7310d9a2ee8f4678b0b0821fa7d6e3af",
       "version_major": 2,
       "version_minor": 0
      },
      "text/plain": [
       "  0%|          | 0/106 [00:00<?, ?it/s]"
      ]
     },
     "metadata": {},
     "output_type": "display_data"
    }
   ],
   "source": [
    "FINAL_USER_REPS = USER_STREAM_CONTEXT.merge(pca_result_df, left_index=True, right_index=True).progress_apply(lambda x: x)"
   ]
  },
  {
   "cell_type": "code",
   "execution_count": 52,
   "metadata": {},
   "outputs": [
    {
     "data": {
      "text/html": [
       "<div>\n",
       "<style scoped>\n",
       "    .dataframe tbody tr th:only-of-type {\n",
       "        vertical-align: middle;\n",
       "    }\n",
       "\n",
       "    .dataframe tbody tr th {\n",
       "        vertical-align: top;\n",
       "    }\n",
       "\n",
       "    .dataframe thead th {\n",
       "        text-align: right;\n",
       "    }\n",
       "</style>\n",
       "<table border=\"1\" class=\"dataframe\">\n",
       "  <thead>\n",
       "    <tr style=\"text-align: right;\">\n",
       "      <th></th>\n",
       "      <th></th>\n",
       "      <th>shipment_0</th>\n",
       "      <th>shipment_1</th>\n",
       "      <th>shipment_2</th>\n",
       "      <th>shipment_3</th>\n",
       "      <th>shipment_4</th>\n",
       "      <th>shipment_5</th>\n",
       "      <th>shipment_6</th>\n",
       "      <th>payment_0</th>\n",
       "      <th>payment_1</th>\n",
       "      <th>payment_2</th>\n",
       "      <th>...</th>\n",
       "      <th>62</th>\n",
       "      <th>63</th>\n",
       "      <th>64</th>\n",
       "      <th>65</th>\n",
       "      <th>66</th>\n",
       "      <th>67</th>\n",
       "      <th>68</th>\n",
       "      <th>69</th>\n",
       "      <th>70</th>\n",
       "      <th>71</th>\n",
       "    </tr>\n",
       "    <tr>\n",
       "      <th>asid</th>\n",
       "      <th>stream</th>\n",
       "      <th></th>\n",
       "      <th></th>\n",
       "      <th></th>\n",
       "      <th></th>\n",
       "      <th></th>\n",
       "      <th></th>\n",
       "      <th></th>\n",
       "      <th></th>\n",
       "      <th></th>\n",
       "      <th></th>\n",
       "      <th></th>\n",
       "      <th></th>\n",
       "      <th></th>\n",
       "      <th></th>\n",
       "      <th></th>\n",
       "      <th></th>\n",
       "      <th></th>\n",
       "      <th></th>\n",
       "      <th></th>\n",
       "      <th></th>\n",
       "      <th></th>\n",
       "    </tr>\n",
       "  </thead>\n",
       "  <tbody>\n",
       "    <tr>\n",
       "      <th rowspan=\"5\" valign=\"top\">1000057940522534</th>\n",
       "      <th>3397</th>\n",
       "      <td>0.0</td>\n",
       "      <td>0.0</td>\n",
       "      <td>0.0</td>\n",
       "      <td>5.0</td>\n",
       "      <td>0.0</td>\n",
       "      <td>0.0</td>\n",
       "      <td>0.0</td>\n",
       "      <td>0.0</td>\n",
       "      <td>0.0</td>\n",
       "      <td>0.0</td>\n",
       "      <td>...</td>\n",
       "      <td>-0.226923</td>\n",
       "      <td>-0.023793</td>\n",
       "      <td>0.097819</td>\n",
       "      <td>0.076645</td>\n",
       "      <td>-0.086067</td>\n",
       "      <td>0.056075</td>\n",
       "      <td>-0.021750</td>\n",
       "      <td>-0.077739</td>\n",
       "      <td>0.001086</td>\n",
       "      <td>0.142896</td>\n",
       "    </tr>\n",
       "    <tr>\n",
       "      <th>3415</th>\n",
       "      <td>0.0</td>\n",
       "      <td>0.0</td>\n",
       "      <td>0.0</td>\n",
       "      <td>3.0</td>\n",
       "      <td>0.0</td>\n",
       "      <td>0.0</td>\n",
       "      <td>0.0</td>\n",
       "      <td>0.0</td>\n",
       "      <td>0.0</td>\n",
       "      <td>0.0</td>\n",
       "      <td>...</td>\n",
       "      <td>-0.188778</td>\n",
       "      <td>-0.018168</td>\n",
       "      <td>0.129445</td>\n",
       "      <td>0.035196</td>\n",
       "      <td>-0.008215</td>\n",
       "      <td>0.109817</td>\n",
       "      <td>-0.016976</td>\n",
       "      <td>-0.036295</td>\n",
       "      <td>-0.016112</td>\n",
       "      <td>0.159417</td>\n",
       "    </tr>\n",
       "    <tr>\n",
       "      <th>3815</th>\n",
       "      <td>0.0</td>\n",
       "      <td>0.0</td>\n",
       "      <td>0.0</td>\n",
       "      <td>2.0</td>\n",
       "      <td>0.0</td>\n",
       "      <td>0.0</td>\n",
       "      <td>0.0</td>\n",
       "      <td>0.0</td>\n",
       "      <td>0.0</td>\n",
       "      <td>0.0</td>\n",
       "      <td>...</td>\n",
       "      <td>-0.148792</td>\n",
       "      <td>-0.058619</td>\n",
       "      <td>0.135795</td>\n",
       "      <td>0.030554</td>\n",
       "      <td>0.017151</td>\n",
       "      <td>0.064890</td>\n",
       "      <td>-0.053256</td>\n",
       "      <td>-0.075686</td>\n",
       "      <td>0.051011</td>\n",
       "      <td>0.127770</td>\n",
       "    </tr>\n",
       "    <tr>\n",
       "      <th>3865</th>\n",
       "      <td>0.0</td>\n",
       "      <td>0.0</td>\n",
       "      <td>0.0</td>\n",
       "      <td>5.0</td>\n",
       "      <td>0.0</td>\n",
       "      <td>0.0</td>\n",
       "      <td>0.0</td>\n",
       "      <td>0.0</td>\n",
       "      <td>0.0</td>\n",
       "      <td>0.0</td>\n",
       "      <td>...</td>\n",
       "      <td>-0.078685</td>\n",
       "      <td>-0.025832</td>\n",
       "      <td>0.072014</td>\n",
       "      <td>0.040277</td>\n",
       "      <td>-0.031398</td>\n",
       "      <td>0.019185</td>\n",
       "      <td>-0.041385</td>\n",
       "      <td>-0.033859</td>\n",
       "      <td>0.014410</td>\n",
       "      <td>0.036543</td>\n",
       "    </tr>\n",
       "    <tr>\n",
       "      <th>4365</th>\n",
       "      <td>0.0</td>\n",
       "      <td>0.0</td>\n",
       "      <td>0.0</td>\n",
       "      <td>3.0</td>\n",
       "      <td>0.0</td>\n",
       "      <td>0.0</td>\n",
       "      <td>0.0</td>\n",
       "      <td>0.0</td>\n",
       "      <td>0.0</td>\n",
       "      <td>0.0</td>\n",
       "      <td>...</td>\n",
       "      <td>-0.042089</td>\n",
       "      <td>-0.023229</td>\n",
       "      <td>0.013479</td>\n",
       "      <td>0.055754</td>\n",
       "      <td>-0.050892</td>\n",
       "      <td>-0.034108</td>\n",
       "      <td>-0.059237</td>\n",
       "      <td>-0.014447</td>\n",
       "      <td>0.029270</td>\n",
       "      <td>0.057605</td>\n",
       "    </tr>\n",
       "    <tr>\n",
       "      <th>...</th>\n",
       "      <th>...</th>\n",
       "      <td>...</td>\n",
       "      <td>...</td>\n",
       "      <td>...</td>\n",
       "      <td>...</td>\n",
       "      <td>...</td>\n",
       "      <td>...</td>\n",
       "      <td>...</td>\n",
       "      <td>...</td>\n",
       "      <td>...</td>\n",
       "      <td>...</td>\n",
       "      <td>...</td>\n",
       "      <td>...</td>\n",
       "      <td>...</td>\n",
       "      <td>...</td>\n",
       "      <td>...</td>\n",
       "      <td>...</td>\n",
       "      <td>...</td>\n",
       "      <td>...</td>\n",
       "      <td>...</td>\n",
       "      <td>...</td>\n",
       "      <td>...</td>\n",
       "    </tr>\n",
       "    <tr>\n",
       "      <th>Uff4d074f674ad9495764995e51d905ee</th>\n",
       "      <th>2513</th>\n",
       "      <td>0.0</td>\n",
       "      <td>0.0</td>\n",
       "      <td>0.0</td>\n",
       "      <td>3.0</td>\n",
       "      <td>0.0</td>\n",
       "      <td>0.0</td>\n",
       "      <td>0.0</td>\n",
       "      <td>0.0</td>\n",
       "      <td>0.0</td>\n",
       "      <td>0.0</td>\n",
       "      <td>...</td>\n",
       "      <td>-0.109353</td>\n",
       "      <td>0.038188</td>\n",
       "      <td>-0.072533</td>\n",
       "      <td>0.028384</td>\n",
       "      <td>-0.103012</td>\n",
       "      <td>0.012392</td>\n",
       "      <td>-0.062531</td>\n",
       "      <td>0.081521</td>\n",
       "      <td>0.081521</td>\n",
       "      <td>0.015362</td>\n",
       "    </tr>\n",
       "    <tr>\n",
       "      <th rowspan=\"4\" valign=\"top\">Uffb50137571903b41efcbb49829729a7</th>\n",
       "      <th>421</th>\n",
       "      <td>0.0</td>\n",
       "      <td>0.0</td>\n",
       "      <td>0.0</td>\n",
       "      <td>2.0</td>\n",
       "      <td>0.0</td>\n",
       "      <td>0.0</td>\n",
       "      <td>0.0</td>\n",
       "      <td>0.0</td>\n",
       "      <td>0.0</td>\n",
       "      <td>0.0</td>\n",
       "      <td>...</td>\n",
       "      <td>-0.195958</td>\n",
       "      <td>0.205667</td>\n",
       "      <td>-0.013517</td>\n",
       "      <td>-0.069474</td>\n",
       "      <td>-0.192567</td>\n",
       "      <td>0.155405</td>\n",
       "      <td>0.080961</td>\n",
       "      <td>0.009437</td>\n",
       "      <td>-0.073593</td>\n",
       "      <td>-0.002562</td>\n",
       "    </tr>\n",
       "    <tr>\n",
       "      <th>452</th>\n",
       "      <td>0.0</td>\n",
       "      <td>0.0</td>\n",
       "      <td>0.0</td>\n",
       "      <td>1.0</td>\n",
       "      <td>0.0</td>\n",
       "      <td>0.0</td>\n",
       "      <td>0.0</td>\n",
       "      <td>0.0</td>\n",
       "      <td>0.0</td>\n",
       "      <td>0.0</td>\n",
       "      <td>...</td>\n",
       "      <td>-0.219794</td>\n",
       "      <td>0.064392</td>\n",
       "      <td>-0.016722</td>\n",
       "      <td>-0.110519</td>\n",
       "      <td>-0.081218</td>\n",
       "      <td>0.108010</td>\n",
       "      <td>0.071465</td>\n",
       "      <td>-0.055860</td>\n",
       "      <td>-0.120355</td>\n",
       "      <td>0.099880</td>\n",
       "    </tr>\n",
       "    <tr>\n",
       "      <th>798</th>\n",
       "      <td>0.0</td>\n",
       "      <td>0.0</td>\n",
       "      <td>0.0</td>\n",
       "      <td>3.0</td>\n",
       "      <td>0.0</td>\n",
       "      <td>0.0</td>\n",
       "      <td>0.0</td>\n",
       "      <td>0.0</td>\n",
       "      <td>0.0</td>\n",
       "      <td>0.0</td>\n",
       "      <td>...</td>\n",
       "      <td>-0.075989</td>\n",
       "      <td>-0.025974</td>\n",
       "      <td>0.007801</td>\n",
       "      <td>-0.007427</td>\n",
       "      <td>-0.149929</td>\n",
       "      <td>0.099405</td>\n",
       "      <td>0.117219</td>\n",
       "      <td>-0.103673</td>\n",
       "      <td>-0.132960</td>\n",
       "      <td>-0.057087</td>\n",
       "    </tr>\n",
       "    <tr>\n",
       "      <th>923</th>\n",
       "      <td>0.0</td>\n",
       "      <td>0.0</td>\n",
       "      <td>0.0</td>\n",
       "      <td>4.0</td>\n",
       "      <td>0.0</td>\n",
       "      <td>0.0</td>\n",
       "      <td>0.0</td>\n",
       "      <td>0.0</td>\n",
       "      <td>0.0</td>\n",
       "      <td>0.0</td>\n",
       "      <td>...</td>\n",
       "      <td>-0.148011</td>\n",
       "      <td>0.033644</td>\n",
       "      <td>0.020714</td>\n",
       "      <td>-0.008358</td>\n",
       "      <td>-0.083812</td>\n",
       "      <td>0.052220</td>\n",
       "      <td>0.045917</td>\n",
       "      <td>-0.107139</td>\n",
       "      <td>-0.044742</td>\n",
       "      <td>-0.022917</td>\n",
       "    </tr>\n",
       "  </tbody>\n",
       "</table>\n",
       "<p>1397141 rows × 106 columns</p>\n",
       "</div>"
      ],
      "text/plain": [
       "                                          shipment_0  shipment_1  shipment_2  \\\n",
       "asid                              stream                                       \n",
       "1000057940522534                  3397           0.0         0.0         0.0   \n",
       "                                  3415           0.0         0.0         0.0   \n",
       "                                  3815           0.0         0.0         0.0   \n",
       "                                  3865           0.0         0.0         0.0   \n",
       "                                  4365           0.0         0.0         0.0   \n",
       "...                                              ...         ...         ...   \n",
       "Uff4d074f674ad9495764995e51d905ee 2513           0.0         0.0         0.0   \n",
       "Uffb50137571903b41efcbb49829729a7 421            0.0         0.0         0.0   \n",
       "                                  452            0.0         0.0         0.0   \n",
       "                                  798            0.0         0.0         0.0   \n",
       "                                  923            0.0         0.0         0.0   \n",
       "\n",
       "                                          shipment_3  shipment_4  shipment_5  \\\n",
       "asid                              stream                                       \n",
       "1000057940522534                  3397           5.0         0.0         0.0   \n",
       "                                  3415           3.0         0.0         0.0   \n",
       "                                  3815           2.0         0.0         0.0   \n",
       "                                  3865           5.0         0.0         0.0   \n",
       "                                  4365           3.0         0.0         0.0   \n",
       "...                                              ...         ...         ...   \n",
       "Uff4d074f674ad9495764995e51d905ee 2513           3.0         0.0         0.0   \n",
       "Uffb50137571903b41efcbb49829729a7 421            2.0         0.0         0.0   \n",
       "                                  452            1.0         0.0         0.0   \n",
       "                                  798            3.0         0.0         0.0   \n",
       "                                  923            4.0         0.0         0.0   \n",
       "\n",
       "                                          shipment_6  payment_0  payment_1  \\\n",
       "asid                              stream                                     \n",
       "1000057940522534                  3397           0.0        0.0        0.0   \n",
       "                                  3415           0.0        0.0        0.0   \n",
       "                                  3815           0.0        0.0        0.0   \n",
       "                                  3865           0.0        0.0        0.0   \n",
       "                                  4365           0.0        0.0        0.0   \n",
       "...                                              ...        ...        ...   \n",
       "Uff4d074f674ad9495764995e51d905ee 2513           0.0        0.0        0.0   \n",
       "Uffb50137571903b41efcbb49829729a7 421            0.0        0.0        0.0   \n",
       "                                  452            0.0        0.0        0.0   \n",
       "                                  798            0.0        0.0        0.0   \n",
       "                                  923            0.0        0.0        0.0   \n",
       "\n",
       "                                          payment_2  ...        62        63  \\\n",
       "asid                              stream             ...                       \n",
       "1000057940522534                  3397          0.0  ... -0.226923 -0.023793   \n",
       "                                  3415          0.0  ... -0.188778 -0.018168   \n",
       "                                  3815          0.0  ... -0.148792 -0.058619   \n",
       "                                  3865          0.0  ... -0.078685 -0.025832   \n",
       "                                  4365          0.0  ... -0.042089 -0.023229   \n",
       "...                                             ...  ...       ...       ...   \n",
       "Uff4d074f674ad9495764995e51d905ee 2513          0.0  ... -0.109353  0.038188   \n",
       "Uffb50137571903b41efcbb49829729a7 421           0.0  ... -0.195958  0.205667   \n",
       "                                  452           0.0  ... -0.219794  0.064392   \n",
       "                                  798           0.0  ... -0.075989 -0.025974   \n",
       "                                  923           0.0  ... -0.148011  0.033644   \n",
       "\n",
       "                                                64        65        66  \\\n",
       "asid                              stream                                 \n",
       "1000057940522534                  3397    0.097819  0.076645 -0.086067   \n",
       "                                  3415    0.129445  0.035196 -0.008215   \n",
       "                                  3815    0.135795  0.030554  0.017151   \n",
       "                                  3865    0.072014  0.040277 -0.031398   \n",
       "                                  4365    0.013479  0.055754 -0.050892   \n",
       "...                                            ...       ...       ...   \n",
       "Uff4d074f674ad9495764995e51d905ee 2513   -0.072533  0.028384 -0.103012   \n",
       "Uffb50137571903b41efcbb49829729a7 421    -0.013517 -0.069474 -0.192567   \n",
       "                                  452    -0.016722 -0.110519 -0.081218   \n",
       "                                  798     0.007801 -0.007427 -0.149929   \n",
       "                                  923     0.020714 -0.008358 -0.083812   \n",
       "\n",
       "                                                67        68        69  \\\n",
       "asid                              stream                                 \n",
       "1000057940522534                  3397    0.056075 -0.021750 -0.077739   \n",
       "                                  3415    0.109817 -0.016976 -0.036295   \n",
       "                                  3815    0.064890 -0.053256 -0.075686   \n",
       "                                  3865    0.019185 -0.041385 -0.033859   \n",
       "                                  4365   -0.034108 -0.059237 -0.014447   \n",
       "...                                            ...       ...       ...   \n",
       "Uff4d074f674ad9495764995e51d905ee 2513    0.012392 -0.062531  0.081521   \n",
       "Uffb50137571903b41efcbb49829729a7 421     0.155405  0.080961  0.009437   \n",
       "                                  452     0.108010  0.071465 -0.055860   \n",
       "                                  798     0.099405  0.117219 -0.103673   \n",
       "                                  923     0.052220  0.045917 -0.107139   \n",
       "\n",
       "                                                70        71  \n",
       "asid                              stream                      \n",
       "1000057940522534                  3397    0.001086  0.142896  \n",
       "                                  3415   -0.016112  0.159417  \n",
       "                                  3815    0.051011  0.127770  \n",
       "                                  3865    0.014410  0.036543  \n",
       "                                  4365    0.029270  0.057605  \n",
       "...                                            ...       ...  \n",
       "Uff4d074f674ad9495764995e51d905ee 2513    0.081521  0.015362  \n",
       "Uffb50137571903b41efcbb49829729a7 421    -0.073593 -0.002562  \n",
       "                                  452    -0.120355  0.099880  \n",
       "                                  798    -0.132960 -0.057087  \n",
       "                                  923    -0.044742 -0.022917  \n",
       "\n",
       "[1397141 rows x 106 columns]"
      ]
     },
     "execution_count": 52,
     "metadata": {},
     "output_type": "execute_result"
    }
   ],
   "source": [
    "FINAL_USER_REPS"
   ]
  },
  {
   "cell_type": "code",
   "execution_count": 53,
   "metadata": {},
   "outputs": [],
   "source": [
    "FINAL_USER_REPS.to_pickle('final_user_reps.pkl')"
   ]
  },
  {
   "cell_type": "code",
   "execution_count": null,
   "metadata": {
    "slideshow": {
     "slide_type": "slide"
    },
    "tags": []
   },
   "outputs": [],
   "source": []
  },
  {
   "cell_type": "code",
   "execution_count": null,
   "metadata": {},
   "outputs": [],
   "source": []
  },
  {
   "cell_type": "code",
   "execution_count": null,
   "metadata": {},
   "outputs": [],
   "source": []
  },
  {
   "cell_type": "code",
   "execution_count": null,
   "metadata": {},
   "outputs": [],
   "source": []
  },
  {
   "cell_type": "code",
   "execution_count": null,
   "metadata": {},
   "outputs": [],
   "source": []
  },
  {
   "cell_type": "code",
   "execution_count": 57,
   "metadata": {},
   "outputs": [],
   "source": [
    "STREAM_EMB = pd.read_pickle('stream_emb.pkl')\n",
    "STREAM_FEAT = pd.read_pickle('stream_feat.pkl')"
   ]
  },
  {
   "cell_type": "code",
   "execution_count": 58,
   "metadata": {},
   "outputs": [
    {
     "data": {
      "text/html": [
       "<div>\n",
       "<style scoped>\n",
       "    .dataframe tbody tr th:only-of-type {\n",
       "        vertical-align: middle;\n",
       "    }\n",
       "\n",
       "    .dataframe tbody tr th {\n",
       "        vertical-align: top;\n",
       "    }\n",
       "\n",
       "    .dataframe thead th {\n",
       "        text-align: right;\n",
       "    }\n",
       "</style>\n",
       "<table border=\"1\" class=\"dataframe\">\n",
       "  <thead>\n",
       "    <tr style=\"text-align: right;\">\n",
       "      <th></th>\n",
       "      <th>avg_price</th>\n",
       "      <th>avg_sum</th>\n",
       "      <th>count</th>\n",
       "    </tr>\n",
       "    <tr>\n",
       "      <th>stream</th>\n",
       "      <th></th>\n",
       "      <th></th>\n",
       "      <th></th>\n",
       "    </tr>\n",
       "  </thead>\n",
       "  <tbody>\n",
       "    <tr>\n",
       "      <th>0</th>\n",
       "      <td>983.406250</td>\n",
       "      <td>1126.656250</td>\n",
       "      <td>64</td>\n",
       "    </tr>\n",
       "    <tr>\n",
       "      <th>1</th>\n",
       "      <td>1318.228769</td>\n",
       "      <td>1340.232236</td>\n",
       "      <td>577</td>\n",
       "    </tr>\n",
       "    <tr>\n",
       "      <th>2</th>\n",
       "      <td>1020.481748</td>\n",
       "      <td>1035.088377</td>\n",
       "      <td>4164</td>\n",
       "    </tr>\n",
       "    <tr>\n",
       "      <th>3</th>\n",
       "      <td>1026.761905</td>\n",
       "      <td>1026.761905</td>\n",
       "      <td>21</td>\n",
       "    </tr>\n",
       "    <tr>\n",
       "      <th>4</th>\n",
       "      <td>1128.032258</td>\n",
       "      <td>1128.032258</td>\n",
       "      <td>31</td>\n",
       "    </tr>\n",
       "  </tbody>\n",
       "</table>\n",
       "</div>"
      ],
      "text/plain": [
       "          avg_price      avg_sum  count\n",
       "stream                                 \n",
       "0        983.406250  1126.656250     64\n",
       "1       1318.228769  1340.232236    577\n",
       "2       1020.481748  1035.088377   4164\n",
       "3       1026.761905  1026.761905     21\n",
       "4       1128.032258  1128.032258     31"
      ]
     },
     "execution_count": 58,
     "metadata": {},
     "output_type": "execute_result"
    }
   ],
   "source": [
    "STREAM_FEAT.head()"
   ]
  },
  {
   "cell_type": "code",
   "execution_count": 59,
   "metadata": {},
   "outputs": [],
   "source": [
    "def apply_stream(row):\n",
    "  return pd.Series(STREAM_EMB[row.name])"
   ]
  },
  {
   "cell_type": "code",
   "execution_count": 60,
   "metadata": {},
   "outputs": [
    {
     "data": {
      "application/vnd.jupyter.widget-view+json": {
       "model_id": "db2d546783d64c9091be61c546c30a6d",
       "version_major": 2,
       "version_minor": 0
      },
      "text/plain": [
       "  0%|          | 0/7701 [00:00<?, ?it/s]"
      ]
     },
     "metadata": {},
     "output_type": "display_data"
    },
    {
     "name": "stdout",
     "output_type": "stream",
     "text": [
      "CPU times: user 1.32 s, sys: 11 ms, total: 1.33 s\n",
      "Wall time: 1.43 s\n"
     ]
    },
    {
     "data": {
      "text/plain": [
       "pandas.core.frame.DataFrame"
      ]
     },
     "execution_count": 60,
     "metadata": {},
     "output_type": "execute_result"
    }
   ],
   "source": [
    "%%time\n",
    "tqdm.pandas()\n",
    "STREAM_EMB_DF = STREAM_FEAT.progress_apply(lambda x: apply_stream(x), axis=1)\n",
    "type(STREAM_EMB_DF)"
   ]
  },
  {
   "cell_type": "code",
   "execution_count": 67,
   "metadata": {},
   "outputs": [
    {
     "data": {
      "application/vnd.jupyter.widget-view+json": {
       "model_id": "36cf419b2250454e94c406c6ae5bb1be",
       "version_major": 2,
       "version_minor": 0
      },
      "text/plain": [
       "  0%|          | 0/75 [00:00<?, ?it/s]"
      ]
     },
     "metadata": {},
     "output_type": "display_data"
    }
   ],
   "source": [
    "FINAL_STREAM_REPS = STREAM_FEAT.merge(pca_result_df, left_index=True, right_index=True).progress_apply(lambda x: x)"
   ]
  },
  {
   "cell_type": "code",
   "execution_count": 68,
   "metadata": {},
   "outputs": [],
   "source": [
    "FINAL_STREAM_REPS.to_pickle('final_stream_reps.pkl')"
   ]
  },
  {
   "cell_type": "code",
   "execution_count": null,
   "metadata": {},
   "outputs": [],
   "source": []
  },
  {
   "cell_type": "code",
   "execution_count": null,
   "metadata": {},
   "outputs": [],
   "source": []
  },
  {
   "cell_type": "code",
   "execution_count": null,
   "metadata": {},
   "outputs": [],
   "source": []
  },
  {
   "cell_type": "code",
   "execution_count": 2,
   "metadata": {
    "collapsed": true,
    "jupyter": {
     "outputs_hidden": true
    },
    "tags": []
   },
   "outputs": [
    {
     "ename": "NameError",
     "evalue": "name 'DATA' is not defined",
     "output_type": "error",
     "traceback": [
      "\u001b[0;31m\u001b[0m",
      "\u001b[0;31mNameError\u001b[0mTraceback (most recent call last)",
      "\u001b[0;32m<ipython-input-2-fa515d0d7895>\u001b[0m in \u001b[0;36m<module>\u001b[0;34m\u001b[0m\n\u001b[0;32m----> 1\u001b[0;31m \u001b[0mitem_names\u001b[0m \u001b[0;34m=\u001b[0m \u001b[0mDATA\u001b[0m\u001b[0;34m[\u001b[0m\u001b[0;34m'item_name'\u001b[0m\u001b[0;34m]\u001b[0m\u001b[0;34m.\u001b[0m\u001b[0munique\u001b[0m\u001b[0;34m(\u001b[0m\u001b[0;34m)\u001b[0m\u001b[0;34m.\u001b[0m\u001b[0mtolist\u001b[0m\u001b[0;34m(\u001b[0m\u001b[0;34m)\u001b[0m\u001b[0;34m\u001b[0m\u001b[0;34m\u001b[0m\u001b[0m\n\u001b[0m\u001b[1;32m      2\u001b[0m \u001b[0mitem_names\u001b[0m \u001b[0;34m=\u001b[0m \u001b[0;34m{\u001b[0m\u001b[0ma\u001b[0m\u001b[0;34m:\u001b[0m \u001b[0mb\u001b[0m \u001b[0;32mfor\u001b[0m \u001b[0ma\u001b[0m\u001b[0;34m,\u001b[0m \u001b[0mb\u001b[0m \u001b[0;32min\u001b[0m \u001b[0mzip\u001b[0m\u001b[0;34m(\u001b[0m\u001b[0mitem_names\u001b[0m\u001b[0;34m,\u001b[0m \u001b[0mrange\u001b[0m\u001b[0;34m(\u001b[0m\u001b[0mlen\u001b[0m\u001b[0;34m(\u001b[0m\u001b[0mitem_names\u001b[0m\u001b[0;34m)\u001b[0m\u001b[0;34m)\u001b[0m\u001b[0;34m)\u001b[0m\u001b[0;34m}\u001b[0m\u001b[0;34m\u001b[0m\u001b[0;34m\u001b[0m\u001b[0m\n",
      "\u001b[0;31mNameError\u001b[0m: name 'DATA' is not defined"
     ]
    }
   ],
   "source": [
    "item_names = DATA['item_name'].unique().tolist()\n",
    "item_names = {a: b for a, b in zip(item_names, range(len(item_names)))}"
   ]
  },
  {
   "cell_type": "code",
   "execution_count": 35,
   "metadata": {},
   "outputs": [
    {
     "data": {
      "application/vnd.jupyter.widget-view+json": {
       "model_id": "1ccd1ec4cd284d23a7018549d13ae6ac",
       "version_major": 2,
       "version_minor": 0
      },
      "text/plain": [
       "  0%|          | 0/5297432 [00:00<?, ?it/s]"
      ]
     },
     "metadata": {},
     "output_type": "display_data"
    }
   ],
   "source": [
    "DATA['unique_item'] = DATA['item_name'].apply(lambda x: item_names[x]).progress_apply(lambda x: x)"
   ]
  },
  {
   "cell_type": "code",
   "execution_count": 47,
   "metadata": {},
   "outputs": [
    {
     "data": {
      "application/vnd.jupyter.widget-view+json": {
       "model_id": "5656aa02c13e4e29bb6698cfb756b08f",
       "version_major": 2,
       "version_minor": 0
      },
      "text/plain": [
       "  0%|          | 0/79207 [00:00<?, ?it/s]"
      ]
     },
     "metadata": {},
     "output_type": "display_data"
    }
   ],
   "source": [
    "# {k: list(v) for k, v in df.groupby('Column1')['Column3']}\n",
    "\n",
    "item_gb_asid = DATA[['asid', 'unique_item']].groupby('asid')['unique_item']\n",
    "bought_dict = {k: list(v) for k, v in tqdm(item_gb_asid)}"
   ]
  },
  {
   "cell_type": "code",
   "execution_count": 49,
   "metadata": {},
   "outputs": [],
   "source": [
    "# bought_dict\n",
    "with open('bought_dict.pkl', 'wb') as handle:\n",
    "    pickle.dump(bought_dict, handle, protocol=pickle.HIGHEST_PROTOCOL)"
   ]
  },
  {
   "cell_type": "code",
   "execution_count": null,
   "metadata": {},
   "outputs": [],
   "source": []
  },
  {
   "cell_type": "code",
   "execution_count": null,
   "metadata": {},
   "outputs": [],
   "source": []
  },
  {
   "cell_type": "code",
   "execution_count": null,
   "metadata": {},
   "outputs": [],
   "source": []
  },
  {
   "cell_type": "code",
   "execution_count": null,
   "metadata": {},
   "outputs": [],
   "source": []
  },
  {
   "cell_type": "code",
   "execution_count": null,
   "metadata": {},
   "outputs": [],
   "source": []
  },
  {
   "cell_type": "code",
   "execution_count": 2,
   "metadata": {},
   "outputs": [],
   "source": [
    "FINAL_USER_REPS = pd.read_pickle('final_user_reps.pkl')\n",
    "FINAL_STREAM_REPS = pd.read_pickle('final_stream_reps.pkl')"
   ]
  },
  {
   "cell_type": "code",
   "execution_count": 3,
   "metadata": {},
   "outputs": [],
   "source": [
    "FINAL_STREAM_REPS.rename(columns={a: f's{a}' for a in range(768)}, inplace=True)"
   ]
  },
  {
   "cell_type": "code",
   "execution_count": 4,
   "metadata": {},
   "outputs": [
    {
     "data": {
      "application/vnd.jupyter.widget-view+json": {
       "model_id": "1c7d722c8dcf40c48e4bba498b9426d7",
       "version_major": 2,
       "version_minor": 0
      },
      "text/plain": [
       "  0%|          | 0/1397141 [00:00<?, ?it/s]"
      ]
     },
     "metadata": {},
     "output_type": "display_data"
    }
   ],
   "source": [
    "stream2context = FINAL_USER_REPS.progress_apply(lambda x:FINAL_STREAM_REPS.loc[x.name[1]], axis=1)"
   ]
  },
  {
   "cell_type": "code",
   "execution_count": null,
   "metadata": {},
   "outputs": [],
   "source": [
    "# final_context = FINAL_USER_REPS.merge(stream2context, left_index=True, right_index=True).progress_apply(lambda x: x)"
   ]
  },
  {
   "cell_type": "code",
   "execution_count": null,
   "metadata": {},
   "outputs": [],
   "source": [
    "final_context"
   ]
  },
  {
   "cell_type": "code",
   "execution_count": 6,
   "metadata": {},
   "outputs": [],
   "source": [
    "stream2context.to_pickle('stream2context.pkl')"
   ]
  },
  {
   "cell_type": "code",
   "execution_count": null,
   "metadata": {},
   "outputs": [],
   "source": []
  },
  {
   "cell_type": "code",
   "execution_count": null,
   "metadata": {},
   "outputs": [],
   "source": []
  },
  {
   "cell_type": "code",
   "execution_count": null,
   "metadata": {},
   "outputs": [],
   "source": []
  },
  {
   "cell_type": "markdown",
   "metadata": {},
   "source": [
    "## PCA Section"
   ]
  },
  {
   "cell_type": "code",
   "execution_count": 4,
   "metadata": {},
   "outputs": [],
   "source": [
    "import matplotlib.pyplot as plt\n",
    "from sklearn.decomposition import PCA"
   ]
  },
  {
   "cell_type": "code",
   "execution_count": 86,
   "metadata": {},
   "outputs": [
    {
     "name": "stdout",
     "output_type": "stream",
     "text": [
      "CPU times: user 46.1 s, sys: 9.67 s, total: 55.8 s\n",
      "Wall time: 8.6 s\n"
     ]
    }
   ],
   "source": [
    "%%time\n",
    "pca = PCA(n_components=160)\n",
    "# pca.fit(FINAL_USER_REPS)\n",
    "pca_result = pca.fit_transform(BERT_BY_IDX_DF)"
   ]
  },
  {
   "cell_type": "code",
   "execution_count": 87,
   "metadata": {},
   "outputs": [
    {
     "data": {
      "text/plain": [
       "[<matplotlib.lines.Line2D at 0x7f31c0fa95f8>]"
      ]
     },
     "execution_count": 87,
     "metadata": {},
     "output_type": "execute_result"
    },
    {
     "data": {
      "image/png": "[encoded data removed]",
      "text/plain": [
       "<Figure size 2160x360 with 1 Axes>"
      ]
     },
     "metadata": {
      "needs_background": "light"
     },
     "output_type": "display_data"
    }
   ],
   "source": [
    "plt.figure(figsize=(30, 5))\n",
    "plt.plot(pca.explained_variance_ratio_.cumsum())"
   ]
  },
  {
   "cell_type": "code",
   "execution_count": 88,
   "metadata": {},
   "outputs": [
    {
     "data": {
      "text/plain": [
       "array([0.23235699, 0.27888568, 0.32108146, 0.36019194, 0.38865406,\n",
       "       0.41259664, 0.43482426, 0.45557659, 0.47442493, 0.49248823,\n",
       "       0.50940735, 0.52414924, 0.53738673, 0.5503636 , 0.56281927,\n",
       "       0.57411302, 0.58508419, 0.59556202, 0.60549186, 0.61488728,\n",
       "       0.62368536, 0.63241505, 0.64077364, 0.64869206, 0.65625395,\n",
       "       0.66340363, 0.67016264, 0.67684682, 0.68342308, 0.68982427,\n",
       "       0.69591373, 0.70177245, 0.70745776, 0.71308361, 0.71835786,\n",
       "       0.72348363, 0.72845481, 0.73341521, 0.73828654, 0.7429236 ,\n",
       "       0.74746643, 0.75199728, 0.75634688, 0.76053745, 0.7647065 ,\n",
       "       0.76875271, 0.77277046, 0.77669348, 0.78049072, 0.78424563,\n",
       "       0.78789825, 0.7915259 , 0.79503519, 0.79842651, 0.80174152,\n",
       "       0.80500246, 0.80817124, 0.81123592, 0.81427998, 0.81729248,\n",
       "       0.82022417, 0.82308503, 0.82588598, 0.8286129 , 0.83127082,\n",
       "       0.83387304, 0.83645155, 0.83893122, 0.84133959, 0.8436935 ,\n",
       "       0.84600313, 0.84830434, 0.85054965, 0.85272869, 0.85487435,\n",
       "       0.85697483, 0.85904675, 0.86107706, 0.86304542, 0.86497943,\n",
       "       0.86688165, 0.86874986, 0.87056743, 0.87234921, 0.87411324,\n",
       "       0.87583889, 0.87755568, 0.87925285, 0.88090575, 0.88252599,\n",
       "       0.8841261 , 0.88568698, 0.88723064, 0.88874281, 0.89019885,\n",
       "       0.89165145, 0.89307581, 0.89448009, 0.89584466, 0.89720634,\n",
       "       0.89854555, 0.89986957, 0.90116527, 0.9024586 , 0.90371187,\n",
       "       0.9049523 , 0.90617651, 0.90739101, 0.90857948, 0.90975964,\n",
       "       0.91091349, 0.91204507, 0.91316431, 0.91427085, 0.91536552,\n",
       "       0.91643973, 0.91751241, 0.91855836, 0.91958953, 0.92060883,\n",
       "       0.92162757, 0.92262426, 0.92359303, 0.92453951, 0.92547958,\n",
       "       0.9264162 , 0.92733239, 0.92823579, 0.92911869, 0.92998161,\n",
       "       0.93082691, 0.93166793, 0.93249509, 0.9333007 , 0.93409907,\n",
       "       0.93488577, 0.9356675 , 0.93643355, 0.93719335, 0.93793885,\n",
       "       0.93866848, 0.9393916 , 0.94009905, 0.94080116, 0.94149491,\n",
       "       0.94218101, 0.94285338, 0.94350789, 0.94415923, 0.94480141,\n",
       "       0.94543882, 0.94606726, 0.94669027, 0.94730344, 0.94790831,\n",
       "       0.94849804, 0.94908181, 0.94964821, 0.95020425, 0.95075583])"
      ]
     },
     "execution_count": 88,
     "metadata": {},
     "output_type": "execute_result"
    }
   ],
   "source": [
    "pca.explained_variance_ratio_.cumsum()"
   ]
  },
  {
   "cell_type": "code",
   "execution_count": 89,
   "metadata": {},
   "outputs": [],
   "source": [
    "pca_result_df = pd.DataFrame(pca_result, index=BERT_BY_IDX_DF.index)"
   ]
  },
  {
   "cell_type": "code",
   "execution_count": 91,
   "metadata": {
    "tags": []
   },
   "outputs": [],
   "source": [
    "pca_result_df.to_pickle('bert_by_idx_pca.pkl')"
   ]
  },
  {
   "cell_type": "code",
   "execution_count": null,
   "metadata": {},
   "outputs": [],
   "source": []
  },
  {
   "cell_type": "code",
   "execution_count": null,
   "metadata": {},
   "outputs": [],
   "source": []
  },
  {
   "cell_type": "code",
   "execution_count": null,
   "metadata": {},
   "outputs": [],
   "source": []
  },
  {
   "cell_type": "code",
   "execution_count": null,
   "metadata": {},
   "outputs": [],
   "source": []
  },
  {
   "cell_type": "code",
   "execution_count": null,
   "metadata": {},
   "outputs": [],
   "source": []
  },
  {
   "cell_type": "code",
   "execution_count": 92,
   "metadata": {},
   "outputs": [],
   "source": [
    "final_user_reps = pd.read_pickle('final_user_reps.pkl')\n",
    "final_stream_reps = pd.read_pickle('final_stream_reps.pkl')"
   ]
  },
  {
   "cell_type": "code",
   "execution_count": 95,
   "metadata": {},
   "outputs": [],
   "source": [
    "final_user_reps.rename(columns={a:f'u{a}' for a in range(72)}, inplace=True)"
   ]
  },
  {
   "cell_type": "code",
   "execution_count": 96,
   "metadata": {},
   "outputs": [],
   "source": [
    "final_stream_reps.rename(columns={a:f's{a}' for a in range(72)}, inplace=True)"
   ]
  },
  {
   "cell_type": "code",
   "execution_count": 101,
   "metadata": {
    "tags": []
   },
   "outputs": [],
   "source": [
    "new_cols = pd.concat([final_user_reps.xs(('1000057940522534', 3397)), final_stream_reps.loc[3397]]).index.tolist()"
   ]
  },
  {
   "cell_type": "code",
   "execution_count": 102,
   "metadata": {
    "tags": []
   },
   "outputs": [],
   "source": [
    "test_context = pd.DataFrame(index=final_user_reps.index, columns=new_cols)"
   ]
  },
  {
   "cell_type": "code",
   "execution_count": 104,
   "metadata": {
    "collapsed": true,
    "jupyter": {
     "outputs_hidden": true
    },
    "tags": []
   },
   "outputs": [
    {
     "data": {
      "application/vnd.jupyter.widget-view+json": {
       "model_id": "9570f702cf74436ead704221a9c9fce2",
       "version_major": 2,
       "version_minor": 0
      },
      "text/plain": [
       "  0%|          | 0/1397141 [00:00<?, ?it/s]"
      ]
     },
     "metadata": {},
     "output_type": "display_data"
    },
    {
     "ename": "KeyboardInterrupt",
     "evalue": "",
     "output_type": "error",
     "traceback": [
      "\u001b[0;31m\u001b[0m",
      "\u001b[0;31mKeyboardInterrupt\u001b[0mTraceback (most recent call last)",
      "\u001b[0;32m<ipython-input-104-c9d30e7d2eec>\u001b[0m in \u001b[0;36m<module>\u001b[0;34m\u001b[0m\n\u001b[1;32m      1\u001b[0m \u001b[0;31m# (1000057940522534, 3397)\u001b[0m\u001b[0;34m\u001b[0m\u001b[0;34m\u001b[0m\u001b[0;34m\u001b[0m\u001b[0m\n\u001b[1;32m      2\u001b[0m \u001b[0;32mfor\u001b[0m \u001b[0masid\u001b[0m\u001b[0;34m,\u001b[0m \u001b[0mstream\u001b[0m \u001b[0;32min\u001b[0m \u001b[0mtqdm\u001b[0m\u001b[0;34m(\u001b[0m\u001b[0mFINAL_USER_REPS\u001b[0m\u001b[0;34m.\u001b[0m\u001b[0mindex\u001b[0m\u001b[0;34m)\u001b[0m\u001b[0;34m:\u001b[0m\u001b[0;34m\u001b[0m\u001b[0;34m\u001b[0m\u001b[0m\n\u001b[0;32m----> 3\u001b[0;31m   \u001b[0mcc\u001b[0m \u001b[0;34m=\u001b[0m \u001b[0mpd\u001b[0m\u001b[0;34m.\u001b[0m\u001b[0mconcat\u001b[0m\u001b[0;34m(\u001b[0m\u001b[0;34m[\u001b[0m\u001b[0mFINAL_USER_REPS\u001b[0m\u001b[0;34m.\u001b[0m\u001b[0mxs\u001b[0m\u001b[0;34m(\u001b[0m\u001b[0;34m(\u001b[0m\u001b[0masid\u001b[0m\u001b[0;34m,\u001b[0m \u001b[0mstream\u001b[0m\u001b[0;34m)\u001b[0m\u001b[0;34m)\u001b[0m\u001b[0;34m,\u001b[0m \u001b[0mfinal_stream_reps\u001b[0m\u001b[0;34m.\u001b[0m\u001b[0mloc\u001b[0m\u001b[0;34m[\u001b[0m\u001b[0mstream\u001b[0m\u001b[0;34m]\u001b[0m\u001b[0;34m]\u001b[0m\u001b[0;34m)\u001b[0m\u001b[0;34m\u001b[0m\u001b[0;34m\u001b[0m\u001b[0m\n\u001b[0m\u001b[1;32m      4\u001b[0m   \u001b[0mtest_context\u001b[0m\u001b[0;34m.\u001b[0m\u001b[0mloc\u001b[0m\u001b[0;34m[\u001b[0m\u001b[0;34m(\u001b[0m\u001b[0masid\u001b[0m\u001b[0;34m,\u001b[0m \u001b[0mstream\u001b[0m\u001b[0;34m)\u001b[0m\u001b[0;34m]\u001b[0m \u001b[0;34m=\u001b[0m \u001b[0mcc\u001b[0m\u001b[0;34m\u001b[0m\u001b[0;34m\u001b[0m\u001b[0m\n",
      "\u001b[0;32m/usr/local/lib/python3.6/dist-packages/pandas/core/reshape/concat.py\u001b[0m in \u001b[0;36mconcat\u001b[0;34m(objs, axis, join, ignore_index, keys, levels, names, verify_integrity, sort, copy)\u001b[0m\n\u001b[1;32m    282\u001b[0m         \u001b[0mverify_integrity\u001b[0m\u001b[0;34m=\u001b[0m\u001b[0mverify_integrity\u001b[0m\u001b[0;34m,\u001b[0m\u001b[0;34m\u001b[0m\u001b[0;34m\u001b[0m\u001b[0m\n\u001b[1;32m    283\u001b[0m         \u001b[0mcopy\u001b[0m\u001b[0;34m=\u001b[0m\u001b[0mcopy\u001b[0m\u001b[0;34m,\u001b[0m\u001b[0;34m\u001b[0m\u001b[0;34m\u001b[0m\u001b[0m\n\u001b[0;32m--> 284\u001b[0;31m         \u001b[0msort\u001b[0m\u001b[0;34m=\u001b[0m\u001b[0msort\u001b[0m\u001b[0;34m,\u001b[0m\u001b[0;34m\u001b[0m\u001b[0;34m\u001b[0m\u001b[0m\n\u001b[0m\u001b[1;32m    285\u001b[0m     )\n\u001b[1;32m    286\u001b[0m \u001b[0;34m\u001b[0m\u001b[0m\n",
      "\u001b[0;32m/usr/local/lib/python3.6/dist-packages/pandas/core/reshape/concat.py\u001b[0m in \u001b[0;36m__init__\u001b[0;34m(self, objs, axis, join, keys, levels, names, ignore_index, verify_integrity, copy, sort)\u001b[0m\n\u001b[1;32m    452\u001b[0m         \u001b[0mself\u001b[0m\u001b[0;34m.\u001b[0m\u001b[0mcopy\u001b[0m \u001b[0;34m=\u001b[0m \u001b[0mcopy\u001b[0m\u001b[0;34m\u001b[0m\u001b[0;34m\u001b[0m\u001b[0m\n\u001b[1;32m    453\u001b[0m \u001b[0;34m\u001b[0m\u001b[0m\n\u001b[0;32m--> 454\u001b[0;31m         \u001b[0mself\u001b[0m\u001b[0;34m.\u001b[0m\u001b[0mnew_axes\u001b[0m \u001b[0;34m=\u001b[0m \u001b[0mself\u001b[0m\u001b[0;34m.\u001b[0m\u001b[0m_get_new_axes\u001b[0m\u001b[0;34m(\u001b[0m\u001b[0;34m)\u001b[0m\u001b[0;34m\u001b[0m\u001b[0;34m\u001b[0m\u001b[0m\n\u001b[0m\u001b[1;32m    455\u001b[0m \u001b[0;34m\u001b[0m\u001b[0m\n\u001b[1;32m    456\u001b[0m     \u001b[0;32mdef\u001b[0m \u001b[0mget_result\u001b[0m\u001b[0;34m(\u001b[0m\u001b[0mself\u001b[0m\u001b[0;34m)\u001b[0m\u001b[0;34m:\u001b[0m\u001b[0;34m\u001b[0m\u001b[0;34m\u001b[0m\u001b[0m\n",
      "\u001b[0;32m/usr/local/lib/python3.6/dist-packages/pandas/core/reshape/concat.py\u001b[0m in \u001b[0;36m_get_new_axes\u001b[0;34m(self)\u001b[0m\n\u001b[1;32m    519\u001b[0m         return [\n\u001b[1;32m    520\u001b[0m             \u001b[0mself\u001b[0m\u001b[0;34m.\u001b[0m\u001b[0m_get_concat_axis\u001b[0m\u001b[0;34m(\u001b[0m\u001b[0;34m)\u001b[0m \u001b[0;32mif\u001b[0m \u001b[0mi\u001b[0m \u001b[0;34m==\u001b[0m \u001b[0mself\u001b[0m\u001b[0;34m.\u001b[0m\u001b[0mbm_axis\u001b[0m \u001b[0;32melse\u001b[0m \u001b[0mself\u001b[0m\u001b[0;34m.\u001b[0m\u001b[0m_get_comb_axis\u001b[0m\u001b[0;34m(\u001b[0m\u001b[0mi\u001b[0m\u001b[0;34m)\u001b[0m\u001b[0;34m\u001b[0m\u001b[0;34m\u001b[0m\u001b[0m\n\u001b[0;32m--> 521\u001b[0;31m             \u001b[0;32mfor\u001b[0m \u001b[0mi\u001b[0m \u001b[0;32min\u001b[0m \u001b[0mrange\u001b[0m\u001b[0;34m(\u001b[0m\u001b[0mndim\u001b[0m\u001b[0;34m)\u001b[0m\u001b[0;34m\u001b[0m\u001b[0;34m\u001b[0m\u001b[0m\n\u001b[0m\u001b[1;32m    522\u001b[0m         ]\n\u001b[1;32m    523\u001b[0m \u001b[0;34m\u001b[0m\u001b[0m\n",
      "\u001b[0;32m/usr/local/lib/python3.6/dist-packages/pandas/core/reshape/concat.py\u001b[0m in \u001b[0;36m<listcomp>\u001b[0;34m(.0)\u001b[0m\n\u001b[1;32m    519\u001b[0m         return [\n\u001b[1;32m    520\u001b[0m             \u001b[0mself\u001b[0m\u001b[0;34m.\u001b[0m\u001b[0m_get_concat_axis\u001b[0m\u001b[0;34m(\u001b[0m\u001b[0;34m)\u001b[0m \u001b[0;32mif\u001b[0m \u001b[0mi\u001b[0m \u001b[0;34m==\u001b[0m \u001b[0mself\u001b[0m\u001b[0;34m.\u001b[0m\u001b[0mbm_axis\u001b[0m \u001b[0;32melse\u001b[0m \u001b[0mself\u001b[0m\u001b[0;34m.\u001b[0m\u001b[0m_get_comb_axis\u001b[0m\u001b[0;34m(\u001b[0m\u001b[0mi\u001b[0m\u001b[0;34m)\u001b[0m\u001b[0;34m\u001b[0m\u001b[0;34m\u001b[0m\u001b[0m\n\u001b[0;32m--> 521\u001b[0;31m             \u001b[0;32mfor\u001b[0m \u001b[0mi\u001b[0m \u001b[0;32min\u001b[0m \u001b[0mrange\u001b[0m\u001b[0;34m(\u001b[0m\u001b[0mndim\u001b[0m\u001b[0;34m)\u001b[0m\u001b[0;34m\u001b[0m\u001b[0;34m\u001b[0m\u001b[0m\n\u001b[0m\u001b[1;32m    522\u001b[0m         ]\n\u001b[1;32m    523\u001b[0m \u001b[0;34m\u001b[0m\u001b[0m\n",
      "\u001b[0;32m/usr/local/lib/python3.6/dist-packages/pandas/core/reshape/concat.py\u001b[0m in \u001b[0;36m_get_concat_axis\u001b[0;34m(self)\u001b[0m\n\u001b[1;32m    572\u001b[0m \u001b[0;34m\u001b[0m\u001b[0m\n\u001b[1;32m    573\u001b[0m         \u001b[0;32mif\u001b[0m \u001b[0mself\u001b[0m\u001b[0;34m.\u001b[0m\u001b[0mkeys\u001b[0m \u001b[0;32mis\u001b[0m \u001b[0;32mNone\u001b[0m\u001b[0;34m:\u001b[0m\u001b[0;34m\u001b[0m\u001b[0;34m\u001b[0m\u001b[0m\n\u001b[0;32m--> 574\u001b[0;31m             \u001b[0mconcat_axis\u001b[0m \u001b[0;34m=\u001b[0m \u001b[0m_concat_indexes\u001b[0m\u001b[0;34m(\u001b[0m\u001b[0mindexes\u001b[0m\u001b[0;34m)\u001b[0m\u001b[0;34m\u001b[0m\u001b[0;34m\u001b[0m\u001b[0m\n\u001b[0m\u001b[1;32m    575\u001b[0m         \u001b[0;32melse\u001b[0m\u001b[0;34m:\u001b[0m\u001b[0;34m\u001b[0m\u001b[0;34m\u001b[0m\u001b[0m\n\u001b[1;32m    576\u001b[0m             concat_axis = _make_concat_multiindex(\n",
      "\u001b[0;32m/usr/local/lib/python3.6/dist-packages/pandas/core/reshape/concat.py\u001b[0m in \u001b[0;36m_concat_indexes\u001b[0;34m(indexes)\u001b[0m\n\u001b[1;32m    590\u001b[0m \u001b[0;34m\u001b[0m\u001b[0m\n\u001b[1;32m    591\u001b[0m \u001b[0;32mdef\u001b[0m \u001b[0m_concat_indexes\u001b[0m\u001b[0;34m(\u001b[0m\u001b[0mindexes\u001b[0m\u001b[0;34m)\u001b[0m \u001b[0;34m->\u001b[0m \u001b[0mIndex\u001b[0m\u001b[0;34m:\u001b[0m\u001b[0;34m\u001b[0m\u001b[0;34m\u001b[0m\u001b[0m\n\u001b[0;32m--> 592\u001b[0;31m     \u001b[0;32mreturn\u001b[0m \u001b[0mindexes\u001b[0m\u001b[0;34m[\u001b[0m\u001b[0;36m0\u001b[0m\u001b[0;34m]\u001b[0m\u001b[0;34m.\u001b[0m\u001b[0mappend\u001b[0m\u001b[0;34m(\u001b[0m\u001b[0mindexes\u001b[0m\u001b[0;34m[\u001b[0m\u001b[0;36m1\u001b[0m\u001b[0;34m:\u001b[0m\u001b[0;34m]\u001b[0m\u001b[0;34m)\u001b[0m\u001b[0;34m\u001b[0m\u001b[0;34m\u001b[0m\u001b[0m\n\u001b[0m\u001b[1;32m    593\u001b[0m \u001b[0;34m\u001b[0m\u001b[0m\n\u001b[1;32m    594\u001b[0m \u001b[0;34m\u001b[0m\u001b[0m\n",
      "\u001b[0;32m/usr/local/lib/python3.6/dist-packages/pandas/core/indexes/base.py\u001b[0m in \u001b[0;36mappend\u001b[0;34m(self, other)\u001b[0m\n\u001b[1;32m   4160\u001b[0m         \u001b[0mname\u001b[0m \u001b[0;34m=\u001b[0m \u001b[0;32mNone\u001b[0m \u001b[0;32mif\u001b[0m \u001b[0mlen\u001b[0m\u001b[0;34m(\u001b[0m\u001b[0mnames\u001b[0m\u001b[0;34m)\u001b[0m \u001b[0;34m>\u001b[0m \u001b[0;36m1\u001b[0m \u001b[0;32melse\u001b[0m \u001b[0mself\u001b[0m\u001b[0;34m.\u001b[0m\u001b[0mname\u001b[0m\u001b[0;34m\u001b[0m\u001b[0;34m\u001b[0m\u001b[0m\n\u001b[1;32m   4161\u001b[0m \u001b[0;34m\u001b[0m\u001b[0m\n\u001b[0;32m-> 4162\u001b[0;31m         \u001b[0;32mreturn\u001b[0m \u001b[0mself\u001b[0m\u001b[0;34m.\u001b[0m\u001b[0m_concat\u001b[0m\u001b[0;34m(\u001b[0m\u001b[0mto_concat\u001b[0m\u001b[0;34m,\u001b[0m \u001b[0mname\u001b[0m\u001b[0;34m)\u001b[0m\u001b[0;34m\u001b[0m\u001b[0;34m\u001b[0m\u001b[0m\n\u001b[0m\u001b[1;32m   4163\u001b[0m \u001b[0;34m\u001b[0m\u001b[0m\n\u001b[1;32m   4164\u001b[0m     \u001b[0;32mdef\u001b[0m \u001b[0m_concat\u001b[0m\u001b[0;34m(\u001b[0m\u001b[0mself\u001b[0m\u001b[0;34m,\u001b[0m \u001b[0mto_concat\u001b[0m\u001b[0;34m,\u001b[0m \u001b[0mname\u001b[0m\u001b[0;34m)\u001b[0m\u001b[0;34m:\u001b[0m\u001b[0;34m\u001b[0m\u001b[0;34m\u001b[0m\u001b[0m\n",
      "\u001b[0;32m/usr/local/lib/python3.6/dist-packages/pandas/core/indexes/base.py\u001b[0m in \u001b[0;36m_concat\u001b[0;34m(self, to_concat, name)\u001b[0m\n\u001b[1;32m   4169\u001b[0m \u001b[0;34m\u001b[0m\u001b[0m\n\u001b[1;32m   4170\u001b[0m         \u001b[0mresult\u001b[0m \u001b[0;34m=\u001b[0m \u001b[0m_concat\u001b[0m\u001b[0;34m.\u001b[0m\u001b[0mconcat_compat\u001b[0m\u001b[0;34m(\u001b[0m\u001b[0mto_concat\u001b[0m\u001b[0;34m)\u001b[0m\u001b[0;34m\u001b[0m\u001b[0;34m\u001b[0m\u001b[0m\n\u001b[0;32m-> 4171\u001b[0;31m         \u001b[0;32mreturn\u001b[0m \u001b[0mIndex\u001b[0m\u001b[0;34m(\u001b[0m\u001b[0mresult\u001b[0m\u001b[0;34m,\u001b[0m \u001b[0mname\u001b[0m\u001b[0;34m=\u001b[0m\u001b[0mname\u001b[0m\u001b[0;34m)\u001b[0m\u001b[0;34m\u001b[0m\u001b[0;34m\u001b[0m\u001b[0m\n\u001b[0m\u001b[1;32m   4172\u001b[0m \u001b[0;34m\u001b[0m\u001b[0m\n\u001b[1;32m   4173\u001b[0m     \u001b[0;32mdef\u001b[0m \u001b[0mputmask\u001b[0m\u001b[0;34m(\u001b[0m\u001b[0mself\u001b[0m\u001b[0;34m,\u001b[0m \u001b[0mmask\u001b[0m\u001b[0;34m,\u001b[0m \u001b[0mvalue\u001b[0m\u001b[0;34m)\u001b[0m\u001b[0;34m:\u001b[0m\u001b[0;34m\u001b[0m\u001b[0;34m\u001b[0m\u001b[0m\n",
      "\u001b[0;32m/usr/local/lib/python3.6/dist-packages/pandas/core/indexes/base.py\u001b[0m in \u001b[0;36m__new__\u001b[0;34m(cls, data, dtype, copy, name, tupleize_cols, **kwargs)\u001b[0m\n\u001b[1;32m    391\u001b[0m                 \u001b[0msubarr\u001b[0m \u001b[0;34m=\u001b[0m \u001b[0mdata\u001b[0m\u001b[0;34m.\u001b[0m\u001b[0mastype\u001b[0m\u001b[0;34m(\u001b[0m\u001b[0;34m\"object\"\u001b[0m\u001b[0;34m)\u001b[0m\u001b[0;34m\u001b[0m\u001b[0;34m\u001b[0m\u001b[0m\n\u001b[1;32m    392\u001b[0m             \u001b[0;32melse\u001b[0m\u001b[0;34m:\u001b[0m\u001b[0;34m\u001b[0m\u001b[0;34m\u001b[0m\u001b[0m\n\u001b[0;32m--> 393\u001b[0;31m                 \u001b[0msubarr\u001b[0m \u001b[0;34m=\u001b[0m \u001b[0mcom\u001b[0m\u001b[0;34m.\u001b[0m\u001b[0masarray_tuplesafe\u001b[0m\u001b[0;34m(\u001b[0m\u001b[0mdata\u001b[0m\u001b[0;34m,\u001b[0m \u001b[0mdtype\u001b[0m\u001b[0;34m=\u001b[0m\u001b[0mobject\u001b[0m\u001b[0;34m)\u001b[0m\u001b[0;34m\u001b[0m\u001b[0;34m\u001b[0m\u001b[0m\n\u001b[0m\u001b[1;32m    394\u001b[0m \u001b[0;34m\u001b[0m\u001b[0m\n\u001b[1;32m    395\u001b[0m             \u001b[0;31m# asarray_tuplesafe does not always copy underlying data,\u001b[0m\u001b[0;34m\u001b[0m\u001b[0;34m\u001b[0m\u001b[0;34m\u001b[0m\u001b[0m\n",
      "\u001b[0;32m/usr/local/lib/python3.6/dist-packages/pandas/core/common.py\u001b[0m in \u001b[0;36masarray_tuplesafe\u001b[0;34m(values, dtype)\u001b[0m\n\u001b[1;32m    220\u001b[0m     \u001b[0;32mif\u001b[0m \u001b[0;32mnot\u001b[0m \u001b[0;34m(\u001b[0m\u001b[0misinstance\u001b[0m\u001b[0;34m(\u001b[0m\u001b[0mvalues\u001b[0m\u001b[0;34m,\u001b[0m \u001b[0;34m(\u001b[0m\u001b[0mlist\u001b[0m\u001b[0;34m,\u001b[0m \u001b[0mtuple\u001b[0m\u001b[0;34m)\u001b[0m\u001b[0;34m)\u001b[0m \u001b[0;32mor\u001b[0m \u001b[0mhasattr\u001b[0m\u001b[0;34m(\u001b[0m\u001b[0mvalues\u001b[0m\u001b[0;34m,\u001b[0m \u001b[0;34m\"__array__\"\u001b[0m\u001b[0;34m)\u001b[0m\u001b[0;34m)\u001b[0m\u001b[0;34m:\u001b[0m\u001b[0;34m\u001b[0m\u001b[0;34m\u001b[0m\u001b[0m\n\u001b[1;32m    221\u001b[0m         \u001b[0mvalues\u001b[0m \u001b[0;34m=\u001b[0m \u001b[0mlist\u001b[0m\u001b[0;34m(\u001b[0m\u001b[0mvalues\u001b[0m\u001b[0;34m)\u001b[0m\u001b[0;34m\u001b[0m\u001b[0;34m\u001b[0m\u001b[0m\n\u001b[0;32m--> 222\u001b[0;31m     \u001b[0;32melif\u001b[0m \u001b[0misinstance\u001b[0m\u001b[0;34m(\u001b[0m\u001b[0mvalues\u001b[0m\u001b[0;34m,\u001b[0m \u001b[0mABCIndexClass\u001b[0m\u001b[0;34m)\u001b[0m\u001b[0;34m:\u001b[0m\u001b[0;34m\u001b[0m\u001b[0;34m\u001b[0m\u001b[0m\n\u001b[0m\u001b[1;32m    223\u001b[0m         \u001b[0;32mreturn\u001b[0m \u001b[0mvalues\u001b[0m\u001b[0;34m.\u001b[0m\u001b[0m_values\u001b[0m\u001b[0;34m\u001b[0m\u001b[0;34m\u001b[0m\u001b[0m\n\u001b[1;32m    224\u001b[0m \u001b[0;34m\u001b[0m\u001b[0m\n",
      "\u001b[0;31mKeyboardInterrupt\u001b[0m: "
     ]
    }
   ],
   "source": [
    "# (1000057940522534, 3397)\n",
    "for asid, stream in tqdm(FINAL_USER_REPS.index):\n",
    "  cc = pd.concat([final_user_reps.xs((asid, stream)), final_stream_reps.loc[stream]])\n",
    "  test_context.loc[(asid, stream)] = cc"
   ]
  },
  {
   "cell_type": "code",
   "execution_count": 110,
   "metadata": {},
   "outputs": [
    {
     "data": {
      "application/vnd.jupyter.widget-view+json": {
       "model_id": "881a971b0c2e4aadbe0eee5aeae6baae",
       "version_major": 2,
       "version_minor": 0
      },
      "text/plain": [
       "  0%|          | 0/1397141 [00:00<?, ?it/s]"
      ]
     },
     "metadata": {},
     "output_type": "display_data"
    }
   ],
   "source": [
    "stream2merge = final_user_reps.progress_apply(lambda x: final_stream_reps.loc[x.name[1]], axis=1)"
   ]
  },
  {
   "cell_type": "code",
   "execution_count": 113,
   "metadata": {},
   "outputs": [
    {
     "data": {
      "application/vnd.jupyter.widget-view+json": {
       "model_id": "b17acc8a41ec4dbd9c2edfdc59cfc4b1",
       "version_major": 2,
       "version_minor": 0
      },
      "text/plain": [
       "  0%|          | 0/181 [00:00<?, ?it/s]"
      ]
     },
     "metadata": {},
     "output_type": "display_data"
    }
   ],
   "source": [
    "final_context = final_user_reps.merge(stream2merge, left_index=True, right_index=True).progress_apply(lambda x: x)"
   ]
  },
  {
   "cell_type": "code",
   "execution_count": 118,
   "metadata": {
    "tags": []
   },
   "outputs": [],
   "source": [
    "final_context.to_pickle('final_context.pkl')"
   ]
  },
  {
   "cell_type": "code",
   "execution_count": null,
   "metadata": {},
   "outputs": [],
   "source": []
  },
  {
   "cell_type": "code",
   "execution_count": null,
   "metadata": {},
   "outputs": [],
   "source": []
  },
  {
   "cell_type": "code",
   "execution_count": 103,
   "metadata": {},
   "outputs": [
    {
     "data": {
      "text/plain": [
       "(1397141, 181)"
      ]
     },
     "execution_count": 103,
     "metadata": {},
     "output_type": "execute_result"
    }
   ],
   "source": [
    "test_context.shape"
   ]
  },
  {
   "cell_type": "code",
   "execution_count": null,
   "metadata": {},
   "outputs": [],
   "source": [
    "test_context.to_pickle('test_context.pkl')"
   ]
  },
  {
   "cell_type": "code",
   "execution_count": 3,
   "metadata": {},
   "outputs": [
    {
     "ename": "EOFError",
     "evalue": "Ran out of input",
     "output_type": "error",
     "traceback": [
      "\u001b[0;31m\u001b[0m",
      "\u001b[0;31mEOFError\u001b[0mTraceback (most recent call last)",
      "\u001b[0;32m<ipython-input-3-b1551d302711>\u001b[0m in \u001b[0;36m<module>\u001b[0;34m\u001b[0m\n\u001b[0;32m----> 1\u001b[0;31m \u001b[0mtest_context\u001b[0m \u001b[0;34m=\u001b[0m \u001b[0mpd\u001b[0m\u001b[0;34m.\u001b[0m\u001b[0mread_pickle\u001b[0m\u001b[0;34m(\u001b[0m\u001b[0;34m'test_context.pkl'\u001b[0m\u001b[0;34m)\u001b[0m\u001b[0;34m\u001b[0m\u001b[0;34m\u001b[0m\u001b[0m\n\u001b[0m",
      "\u001b[0;32m/usr/local/lib/python3.6/dist-packages/pandas/io/pickle.py\u001b[0m in \u001b[0;36mread_pickle\u001b[0;34m(filepath_or_buffer, compression)\u001b[0m\n\u001b[1;32m    180\u001b[0m                 \u001b[0;31m# We want to silence any warnings about, e.g. moved modules.\u001b[0m\u001b[0;34m\u001b[0m\u001b[0;34m\u001b[0m\u001b[0;34m\u001b[0m\u001b[0m\n\u001b[1;32m    181\u001b[0m                 \u001b[0mwarnings\u001b[0m\u001b[0;34m.\u001b[0m\u001b[0msimplefilter\u001b[0m\u001b[0;34m(\u001b[0m\u001b[0;34m\"ignore\"\u001b[0m\u001b[0;34m,\u001b[0m \u001b[0mWarning\u001b[0m\u001b[0;34m)\u001b[0m\u001b[0;34m\u001b[0m\u001b[0;34m\u001b[0m\u001b[0m\n\u001b[0;32m--> 182\u001b[0;31m                 \u001b[0;32mreturn\u001b[0m \u001b[0mpickle\u001b[0m\u001b[0;34m.\u001b[0m\u001b[0mload\u001b[0m\u001b[0;34m(\u001b[0m\u001b[0mf\u001b[0m\u001b[0;34m)\u001b[0m\u001b[0;34m\u001b[0m\u001b[0;34m\u001b[0m\u001b[0m\n\u001b[0m\u001b[1;32m    183\u001b[0m         \u001b[0;32mexcept\u001b[0m \u001b[0mexcs_to_catch\u001b[0m\u001b[0;34m:\u001b[0m\u001b[0;34m\u001b[0m\u001b[0;34m\u001b[0m\u001b[0m\n\u001b[1;32m    184\u001b[0m             \u001b[0;31m# e.g.\u001b[0m\u001b[0;34m\u001b[0m\u001b[0;34m\u001b[0m\u001b[0;34m\u001b[0m\u001b[0m\n",
      "\u001b[0;31mEOFError\u001b[0m: Ran out of input"
     ]
    }
   ],
   "source": [
    "test_context = pd.read_pickle('test_context.pkl')\n"
   ]
  },
  {
   "cell_type": "code",
   "execution_count": null,
   "metadata": {},
   "outputs": [],
   "source": []
  },
  {
   "cell_type": "code",
   "execution_count": null,
   "metadata": {},
   "outputs": [],
   "source": []
  },
  {
   "cell_type": "code",
   "execution_count": null,
   "metadata": {},
   "outputs": [],
   "source": []
  },
  {
   "cell_type": "code",
   "execution_count": null,
   "metadata": {},
   "outputs": [],
   "source": []
  },
  {
   "cell_type": "code",
   "execution_count": 69,
   "metadata": {},
   "outputs": [
    {
     "data": {
      "text/plain": [
       "pandas.core.frame.DataFrame"
      ]
     },
     "execution_count": 69,
     "metadata": {},
     "output_type": "execute_result"
    }
   ],
   "source": [
    "BERT_BY_IDX_DF = pd.read_pickle('bert_by_idx_df.pkl')\n",
    "type(BERT_BY_IDX_DF)"
   ]
  },
  {
   "cell_type": "code",
   "execution_count": 70,
   "metadata": {},
   "outputs": [
    {
     "data": {
      "text/plain": [
       "(162189, 768)"
      ]
     },
     "execution_count": 70,
     "metadata": {},
     "output_type": "execute_result"
    }
   ],
   "source": [
    "BERT_BY_IDX_DF.shape"
   ]
  },
  {
   "cell_type": "code",
   "execution_count": null,
   "metadata": {},
   "outputs": [],
   "source": []
  },
  {
   "cell_type": "code",
   "execution_count": null,
   "metadata": {},
   "outputs": [],
   "source": []
  },
  {
   "cell_type": "code",
   "execution_count": 135,
   "metadata": {},
   "outputs": [
    {
     "name": "stdout",
     "output_type": "stream",
     "text": [
      "('1000057940522534', 3397)\n"
     ]
    }
   ],
   "source": [
    "CONTEXT_REPS = pd.read_pickle('final_context.pkl')\n",
    "for x in CONTEXT_REPS.index:\n",
    "  print(x)\n",
    "  break\n",
    "  "
   ]
  },
  {
   "cell_type": "code",
   "execution_count": null,
   "metadata": {},
   "outputs": [],
   "source": []
  },
  {
   "cell_type": "code",
   "execution_count": null,
   "metadata": {},
   "outputs": [],
   "source": []
  },
  {
   "cell_type": "code",
   "execution_count": null,
   "metadata": {},
   "outputs": [],
   "source": []
  },
  {
   "cell_type": "code",
   "execution_count": null,
   "metadata": {},
   "outputs": [],
   "source": []
  },
  {
   "cell_type": "code",
   "execution_count": null,
   "metadata": {},
   "outputs": [],
   "source": []
  },
  {
   "cell_type": "code",
   "execution_count": null,
   "metadata": {},
   "outputs": [],
   "source": []
  }
 ],
 "metadata": {
  "kernelspec": {
   "display_name": "Python 3",
   "language": "python",
   "name": "python3"
  },
  "language_info": {
   "codemirror_mode": {
    "name": "ipython",
    "version": 3
   },
   "file_extension": ".py",
   "mimetype": "text/x-python",
   "name": "python",
   "nbconvert_exporter": "python",
   "pygments_lexer": "ipython3",
   "version": "3.6.9"
  }
 },
 "nbformat": 4,
 "nbformat_minor": 4
}
