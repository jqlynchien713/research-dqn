{
 "cells": [
  {
   "cell_type": "markdown",
   "id": "6773750d-ddd4-498e-b706-ca0dab6fb47b",
   "metadata": {},
   "source": [
    "# Try Dataset with All Streamers"
   ]
  },
  {
   "cell_type": "markdown",
   "id": "c9e2a605-b675-4d21-92ee-7f9d9a35a1c4",
   "metadata": {},
   "source": [
    "## Preprocessing"
   ]
  },
  {
   "cell_type": "code",
   "execution_count": 74,
   "id": "d4538f0a-dedd-421e-a816-56b19145d7d2",
   "metadata": {},
   "outputs": [],
   "source": [
    "data = pd.read_pickle('../../data/txn.pkl')"
   ]
  },
  {
   "cell_type": "code",
   "execution_count": 76,
   "id": "bdc4c0a1-8f91-4e97-88c0-e8d337348064",
   "metadata": {},
   "outputs": [
    {
     "data": {
      "text/plain": [
       "Index(['訂單編號', '下單日期', '時間戳記', 'psid', 'asid', 'user_id', 'channel_name',\n",
       "       '商品id', '商品名稱', '樣式', '規格', '單價', '數量', '折扣', '總金額', '付款單號', '專屬折扣',\n",
       "       '運費', '收款金額', '付款方式', '運送方式', '寄送地址', '場次', 'date'],\n",
       "      dtype='object')"
      ]
     },
     "execution_count": 76,
     "metadata": {},
     "output_type": "execute_result"
    }
   ],
   "source": [
    "data.columns"
   ]
  },
  {
   "cell_type": "code",
   "execution_count": 77,
   "id": "ca76d2d3-e2dc-410c-ab98-4a2cdce2d98a",
   "metadata": {},
   "outputs": [
    {
     "data": {
      "text/html": [
       "<div>\n",
       "<style scoped>\n",
       "    .dataframe tbody tr th:only-of-type {\n",
       "        vertical-align: middle;\n",
       "    }\n",
       "\n",
       "    .dataframe tbody tr th {\n",
       "        vertical-align: top;\n",
       "    }\n",
       "\n",
       "    .dataframe thead th {\n",
       "        text-align: right;\n",
       "    }\n",
       "</style>\n",
       "<table border=\"1\" class=\"dataframe\">\n",
       "  <thead>\n",
       "    <tr style=\"text-align: right;\">\n",
       "      <th></th>\n",
       "      <th>訂單編號</th>\n",
       "      <th>下單日期</th>\n",
       "      <th>時間戳記</th>\n",
       "      <th>psid</th>\n",
       "      <th>asid</th>\n",
       "      <th>user_id</th>\n",
       "      <th>channel_name</th>\n",
       "      <th>商品id</th>\n",
       "      <th>商品名稱</th>\n",
       "      <th>樣式</th>\n",
       "      <th>...</th>\n",
       "      <th>總金額</th>\n",
       "      <th>付款單號</th>\n",
       "      <th>專屬折扣</th>\n",
       "      <th>運費</th>\n",
       "      <th>收款金額</th>\n",
       "      <th>付款方式</th>\n",
       "      <th>運送方式</th>\n",
       "      <th>寄送地址</th>\n",
       "      <th>場次</th>\n",
       "      <th>date</th>\n",
       "    </tr>\n",
       "  </thead>\n",
       "  <tbody>\n",
       "    <tr>\n",
       "      <th>0</th>\n",
       "      <td>BD220301-86612477</td>\n",
       "      <td>2022-03-01</td>\n",
       "      <td>00:04:56</td>\n",
       "      <td>2144742712282981</td>\n",
       "      <td>2912039312151026</td>\n",
       "      <td>10891</td>\n",
       "      <td>邦成-自倉（C倉出貨付款全開）</td>\n",
       "      <td>6492974</td>\n",
       "      <td>（免運）(闆)公主 0228 A01-(限+1)(免運)(3件)100%石墨烯遠紅外線棉被(...</td>\n",
       "      <td>NaN</td>\n",
       "      <td>...</td>\n",
       "      <td>7500</td>\n",
       "      <td>PA220301-15817276</td>\n",
       "      <td>0</td>\n",
       "      <td>0</td>\n",
       "      <td>14044</td>\n",
       "      <td>LINE Pay</td>\n",
       "      <td>一般宅配</td>\n",
       "      <td>桃園市蘆竹區大興十四街77號</td>\n",
       "      <td>20220228(公主x深-重播0221 888C倉晚上A1)-原</td>\n",
       "      <td>2022-03-01</td>\n",
       "    </tr>\n",
       "    <tr>\n",
       "      <th>1</th>\n",
       "      <td>BD220301-86612495</td>\n",
       "      <td>2022-03-01</td>\n",
       "      <td>00:05:00</td>\n",
       "      <td>4880729621967911</td>\n",
       "      <td>1681086192072457</td>\n",
       "      <td>10891</td>\n",
       "      <td>邦成-自倉（C倉出貨付款全開）</td>\n",
       "      <td>6493322</td>\n",
       "      <td>大師兄 0228 A01-金屬玻璃調味瓶*1</td>\n",
       "      <td>NaN</td>\n",
       "      <td>...</td>\n",
       "      <td>29</td>\n",
       "      <td>PA220301-15831018</td>\n",
       "      <td>0</td>\n",
       "      <td>150</td>\n",
       "      <td>2048</td>\n",
       "      <td>貨到付款</td>\n",
       "      <td>一般宅配</td>\n",
       "      <td>新北市樹林區俊英街155巷43弄15號4樓之3</td>\n",
       "      <td>20220228(大師兄xC倉深夜場1)-儒/川/駿</td>\n",
       "      <td>2022-03-01</td>\n",
       "    </tr>\n",
       "    <tr>\n",
       "      <th>2</th>\n",
       "      <td>BD220301-86612507</td>\n",
       "      <td>2022-03-01</td>\n",
       "      <td>00:05:00</td>\n",
       "      <td>3861530257224160</td>\n",
       "      <td>2836025813335298</td>\n",
       "      <td>10891</td>\n",
       "      <td>邦成-自倉（C倉出貨付款全開）</td>\n",
       "      <td>6493322</td>\n",
       "      <td>大師兄 0228 A01-金屬玻璃調味瓶*1</td>\n",
       "      <td>NaN</td>\n",
       "      <td>...</td>\n",
       "      <td>58</td>\n",
       "      <td>PA220301-15815246</td>\n",
       "      <td>0</td>\n",
       "      <td>0</td>\n",
       "      <td>595</td>\n",
       "      <td>自取</td>\n",
       "      <td>一般宅配</td>\n",
       "      <td>自取點-B倉</td>\n",
       "      <td>20220228(大師兄xC倉深夜場1)-儒/川/駿</td>\n",
       "      <td>2022-03-01</td>\n",
       "    </tr>\n",
       "    <tr>\n",
       "      <th>3</th>\n",
       "      <td>BD220301-86612510</td>\n",
       "      <td>2022-03-01</td>\n",
       "      <td>00:05:00</td>\n",
       "      <td>3521679651227760</td>\n",
       "      <td>3120032084685049</td>\n",
       "      <td>10891</td>\n",
       "      <td>邦成-自倉（C倉出貨付款全開）</td>\n",
       "      <td>6493322</td>\n",
       "      <td>大師兄 0228 A01-金屬玻璃調味瓶*1</td>\n",
       "      <td>NaN</td>\n",
       "      <td>...</td>\n",
       "      <td>174</td>\n",
       "      <td>PA220303-15883127</td>\n",
       "      <td>0</td>\n",
       "      <td>0</td>\n",
       "      <td>14664</td>\n",
       "      <td>匯款</td>\n",
       "      <td>一般宅配</td>\n",
       "      <td>南投縣竹山鎮大同街111號</td>\n",
       "      <td>20220228(大師兄xC倉深夜場1)-儒/川/駿</td>\n",
       "      <td>2022-03-03</td>\n",
       "    </tr>\n",
       "    <tr>\n",
       "      <th>4</th>\n",
       "      <td>BD220301-86612516</td>\n",
       "      <td>2022-03-01</td>\n",
       "      <td>00:05:02</td>\n",
       "      <td>2542831359072575</td>\n",
       "      <td>3383335041684491</td>\n",
       "      <td>10891</td>\n",
       "      <td>邦成-自倉（C倉出貨付款全開）</td>\n",
       "      <td>6478836</td>\n",
       "      <td>888 0227 A18-(5盒)BRE 療肺草暢呼吸飲(8包/盒)*5</td>\n",
       "      <td>NaN</td>\n",
       "      <td>...</td>\n",
       "      <td>987</td>\n",
       "      <td>PA220303-15877459</td>\n",
       "      <td>0</td>\n",
       "      <td>0</td>\n",
       "      <td>3866</td>\n",
       "      <td>自取</td>\n",
       "      <td>一般宅配</td>\n",
       "      <td>自取點-B倉</td>\n",
       "      <td>20220227(888xC倉下午場1)-玲/哲/砡</td>\n",
       "      <td>2022-03-03</td>\n",
       "    </tr>\n",
       "  </tbody>\n",
       "</table>\n",
       "<p>5 rows × 24 columns</p>\n",
       "</div>"
      ],
      "text/plain": [
       "                訂單編號       下單日期      時間戳記              psid              asid  \\\n",
       "0  BD220301-86612477 2022-03-01  00:04:56  2144742712282981  2912039312151026   \n",
       "1  BD220301-86612495 2022-03-01  00:05:00  4880729621967911  1681086192072457   \n",
       "2  BD220301-86612507 2022-03-01  00:05:00  3861530257224160  2836025813335298   \n",
       "3  BD220301-86612510 2022-03-01  00:05:00  3521679651227760  3120032084685049   \n",
       "4  BD220301-86612516 2022-03-01  00:05:02  2542831359072575  3383335041684491   \n",
       "\n",
       "  user_id     channel_name     商品id  \\\n",
       "0   10891  邦成-自倉（C倉出貨付款全開）  6492974   \n",
       "1   10891  邦成-自倉（C倉出貨付款全開）  6493322   \n",
       "2   10891  邦成-自倉（C倉出貨付款全開）  6493322   \n",
       "3   10891  邦成-自倉（C倉出貨付款全開）  6493322   \n",
       "4   10891  邦成-自倉（C倉出貨付款全開）  6478836   \n",
       "\n",
       "                                                商品名稱   樣式  ...   總金額  \\\n",
       "0  （免運）(闆)公主 0228 A01-(限+1)(免運)(3件)100%石墨烯遠紅外線棉被(...  NaN  ...  7500   \n",
       "1                             大師兄 0228 A01-金屬玻璃調味瓶*1  NaN  ...    29   \n",
       "2                             大師兄 0228 A01-金屬玻璃調味瓶*1  NaN  ...    58   \n",
       "3                             大師兄 0228 A01-金屬玻璃調味瓶*1  NaN  ...   174   \n",
       "4               888 0227 A18-(5盒)BRE 療肺草暢呼吸飲(8包/盒)*5  NaN  ...   987   \n",
       "\n",
       "                付款單號  專屬折扣   運費   收款金額      付款方式  運送方式  \\\n",
       "0  PA220301-15817276     0    0  14044  LINE Pay  一般宅配   \n",
       "1  PA220301-15831018     0  150   2048      貨到付款  一般宅配   \n",
       "2  PA220301-15815246     0    0    595        自取  一般宅配   \n",
       "3  PA220303-15883127     0    0  14664        匯款  一般宅配   \n",
       "4  PA220303-15877459     0    0   3866        自取  一般宅配   \n",
       "\n",
       "                      寄送地址                                 場次       date  \n",
       "0           桃園市蘆竹區大興十四街77號  20220228(公主x深-重播0221 888C倉晚上A1)-原 2022-03-01  \n",
       "1  新北市樹林區俊英街155巷43弄15號4樓之3         20220228(大師兄xC倉深夜場1)-儒/川/駿 2022-03-01  \n",
       "2                   自取點-B倉         20220228(大師兄xC倉深夜場1)-儒/川/駿 2022-03-01  \n",
       "3            南投縣竹山鎮大同街111號         20220228(大師兄xC倉深夜場1)-儒/川/駿 2022-03-03  \n",
       "4                   自取點-B倉         20220227(888xC倉下午場1)-玲/哲/砡 2022-03-03  \n",
       "\n",
       "[5 rows x 24 columns]"
      ]
     },
     "execution_count": 77,
     "metadata": {},
     "output_type": "execute_result"
    }
   ],
   "source": [
    "data.head()"
   ]
  },
  {
   "cell_type": "code",
   "execution_count": 81,
   "id": "943f3ed1-d676-4dac-b9c9-5a93fc7f6316",
   "metadata": {},
   "outputs": [
    {
     "name": "stdout",
     "output_type": "stream",
     "text": [
      "940 | 6006\n"
     ]
    }
   ],
   "source": [
    "b1=0\n",
    "b2=0\n",
    "for a in data['場次'].unique():\n",
    "  try:\n",
    "    int(a)\n",
    "    b1+=1\n",
    "  except:\n",
    "    b2+=1\n",
    "print(f'{b1} | {b2}')"
   ]
  },
  {
   "cell_type": "code",
   "execution_count": 87,
   "id": "5cfd89f4-8456-434b-b7d4-787ec8776907",
   "metadata": {},
   "outputs": [
    {
     "data": {
      "text/plain": [
       "MultiIndex([(                                             1100921.0, ...),\n",
       "            (                                             2021028.0, ...),\n",
       "            (                                            20200418.0, ...),\n",
       "            (                                            20200520.0, ...),\n",
       "            (                                            20200610.0, ...),\n",
       "            (                                            20200617.0, ...),\n",
       "            (                                            20200621.0, ...),\n",
       "            (                                            20200624.0, ...),\n",
       "            (                                            20200705.0, ...),\n",
       "            (                                            20200905.0, ...),\n",
       "            ...\n",
       "            (                   '20220430(畢哥x深-重播 0427 公主C倉室內A1)-斈', ...),\n",
       "            (                             '20220430(秀炮xC倉深夜場1)-偉/砡', ...),\n",
       "            (                                         '20220430晚場@', ...),\n",
       "            (                     '20222025(畢哥x早-重播0224公主C倉室內C1)-雅', ...),\n",
       "            (                 '220211027(888x晚-重播1026 888C倉晚上B1)-國', ...),\n",
       "            (                  '220222 (畢哥x早-重播0219公主C倉台鹽台酒室內B1)-雅', ...),\n",
       "            (                                                 '6/5', ...),\n",
       "            ('https://www.facebook.com/dreamshop168/videos20210928', ...),\n",
       "            ('https://www.facebook.com/mgmg1229/videos/60120211108', ...),\n",
       "            (                  '場次：20210716(三郎x深-重播0711公主xC倉晚上B)-俞', ...)],\n",
       "           names=['場次', 'channel_name'], length=7982)"
      ]
     },
     "execution_count": 87,
     "metadata": {},
     "output_type": "execute_result"
    }
   ],
   "source": [
    "data.groupby(['場次', 'channel_name']).count().index"
   ]
  },
  {
   "cell_type": "code",
   "execution_count": 84,
   "id": "adf4887a-73c9-4a83-be52-c6375cb47e9c",
   "metadata": {},
   "outputs": [
    {
     "data": {
      "text/plain": [
       "array(['邦成-自倉（C倉出貨付款全開）', '拼鮮水產 足度男直播買賣', '蔥媽媽直播', 'TR Box寶藏屋：傘的專家、居的職人',\n",
       "       '夢工場', '阿清服裝', '251.TC(貳伍壹潮流店)', '工讀生寵物', '279-🛒現貨直播車',\n",
       "       '邦成-自倉(抓單)'], dtype=object)"
      ]
     },
     "execution_count": 84,
     "metadata": {},
     "output_type": "execute_result"
    }
   ],
   "source": [
    "data.channel_name.unique()"
   ]
  },
  {
   "cell_type": "code",
   "execution_count": null,
   "id": "00797ef4-64ca-445f-87f4-2f644e9c64f9",
   "metadata": {},
   "outputs": [],
   "source": []
  },
  {
   "cell_type": "code",
   "execution_count": null,
   "id": "a436f202-ec1d-45b6-a727-764607f0a30b",
   "metadata": {},
   "outputs": [],
   "source": []
  },
  {
   "cell_type": "code",
   "execution_count": null,
   "id": "5c8a295b-f5c3-4bc1-842c-5bcaef25f78e",
   "metadata": {},
   "outputs": [],
   "source": []
  },
  {
   "cell_type": "code",
   "execution_count": null,
   "id": "f11a1676-d627-4a2c-906a-eb3dfd7ee036",
   "metadata": {},
   "outputs": [],
   "source": []
  },
  {
   "cell_type": "code",
   "execution_count": null,
   "id": "eaae49bf-d1d8-4c0f-afc7-d0c74d800e71",
   "metadata": {},
   "outputs": [],
   "source": []
  },
  {
   "cell_type": "code",
   "execution_count": 51,
   "id": "554ca706-e2b2-49b5-8e29-3e62f818ae1c",
   "metadata": {},
   "outputs": [],
   "source": [
    "bert = np.load('../../data/jambo_iname2embedding.npy', allow_pickle=True)[None][0]"
   ]
  },
  {
   "cell_type": "code",
   "execution_count": 71,
   "id": "1eb347e1-ae2d-4c5b-8881-318f8237de17",
   "metadata": {},
   "outputs": [],
   "source": [
    "\n",
    "import pandas as pd\n",
    "import numpy as np\n",
    "from sklearn.preprocessing import LabelEncoder\n",
    "import random\n",
    "import itertools\n",
    "\n",
    "DATA = pd.read_pickle('../../data/txn.pkl')\n",
    "\n",
    "### for experiment\n",
    "buy_threshold = 9 # could be 9/15/25/1(consider all)\n",
    "\n",
    "## Preprocessing\n",
    "user_count = DATA.groupby(['asid']).count()\n",
    "uid = user_count['下單日期'].loc[user_count['下單日期'] > buy_threshold].index\n",
    "DATA = DATA.loc[DATA['asid'].isin(uid)]\n",
    "\n",
    "### 處理 period （前六碼）\n",
    "\n",
    "DATA['period'] = DATA['下單日期'].astype(str).apply(lambda x: x[:6])\n",
    "\n",
    "### One Hot Encoding\n",
    "# * 處理 category, shipment, payment\n",
    "# * 要先做 label encoding 才能做 one hot encoding\n",
    "\n",
    "le = LabelEncoder()\n",
    "\n",
    "DATA['shipment'] = le.fit_transform(DATA['運送方式'])\n",
    "DATA['payment'] = le.fit_transform(DATA['付款方式'])\n",
    "DATA = pd.get_dummies(DATA,\n",
    "                      prefix=['shipment', 'payment'],\n",
    "                      columns=['shipment', 'payment'])\n",
    "\n",
    "## Constants Needed\n",
    "\n",
    "USER_LIST = DATA['asid'].unique()\n",
    "STREAM_LIST = DATA.groupby(['場次', 'channel_name']).count().index\n",
    "STREAM_LIST.sort()\n",
    "\n",
    "# Creating the row axis labels \n",
    "LB_PERIOD = list(DATA['period'].unique())\n",
    "LB_USER = ['user']\n",
    "LB_PQ = ['total_price', 'total_quantity']\n",
    "LB_CAT_DATA = [f'cat_{x}' for x in list(range(226))]\n",
    "LB_SHIPMENT_PAYMENT = ['shipment_0', 'shipment_1', 'shipment_2', 'shipment_3', 'payment_0', 'payment_1']\n",
    "USER_LB = LB_PERIOD + LB_USER + LB_PQ + LB_SHIPMENT_PAYMENT\n",
    "LB_BERT_ITEM = [f'i_bert_{x}' for x in list(range(768))]\n",
    "LB_ITEMS = ['i_item_id', 'i_item_name', 'i_avg_price', 'i_count'] + LB_BERT_ITEM\n",
    "\n",
    "\n",
    "## Context Representation\n",
    "\n",
    "USER_STREAM_CONTEXT = DATA.groupby(['聯絡電話', '場次']).sum().loc[:, :'payment_1']\n",
    "\n",
    "USER_STREAM_CONTEXT['user'] = USER_STREAM_CONTEXT.apply(lambda x: x.name[0], axis=1)\n",
    "\n",
    "## Item Representation\n",
    "# - 商品 id 來源為 `item_dict`: `商品名稱: item_id`\n",
    "# - 可用欄位： `categories(one-hot)`, `price`, `被購買次數`\n",
    "# - Columns: `['下單日期', '商品名稱', '規格', '單價', '數量', '折扣', '總金額', '專屬折扣', '運費', '信用卡手續費', '紅利折抵', '收款金額', '付款方式', '運送方式', '收件人', '寄送地址', '聯絡電話', '場次', '處理後名稱', '商品分類', 'period', 'category_label', 0-227, 'shipment_0', 'shipment_1', 'shipment_2', 'shipment_3', 'payment_0', 'payment_1', 'item_id']`\n"
   ]
  },
  {
   "cell_type": "code",
   "execution_count": 72,
   "id": "2360cfdc-35a5-42ba-be96-79ce84332e6d",
   "metadata": {},
   "outputs": [],
   "source": [
    "item_df = DATA.loc[:, ['item_id', '商品名稱']].drop_duplicates().reset_index(drop=True)\n",
    "item_df = item_df.rename(columns={'商品名稱':'i_item_name', 'item_id':'i_item_id'})\n",
    "mean_group = DATA.groupby('item_id').mean()\n",
    "item_df['i_avg_price'] = item_df['i_item_id'].apply(lambda x: mean_group.iloc[x]['單價'])"
   ]
  },
  {
   "cell_type": "code",
   "execution_count": 73,
   "id": "d0f8c2c9-bdd7-446c-9a71-4d427a3381b2",
   "metadata": {},
   "outputs": [
    {
     "ename": "KeyError",
     "evalue": "'Dickies拼接短T(658)黑/灰'",
     "output_type": "error",
     "traceback": [
      "\u001b[0;31m\u001b[0m",
      "\u001b[0;31mKeyError\u001b[0mTraceback (most recent call last)",
      "\u001b[0;32m<ipython-input-73-4034e3244933>\u001b[0m in \u001b[0;36m<module>\u001b[0;34m\u001b[0m\n\u001b[0;32m----> 1\u001b[0;31m \u001b[0mitem_df\u001b[0m\u001b[0;34m[\u001b[0m\u001b[0;34m'i_item_name'\u001b[0m\u001b[0;34m]\u001b[0m\u001b[0;34m.\u001b[0m\u001b[0mapply\u001b[0m\u001b[0;34m(\u001b[0m\u001b[0;32mlambda\u001b[0m \u001b[0mx\u001b[0m\u001b[0;34m:\u001b[0m \u001b[0mbert\u001b[0m\u001b[0;34m[\u001b[0m\u001b[0mx\u001b[0m\u001b[0;34m]\u001b[0m\u001b[0;34m)\u001b[0m\u001b[0;34m\u001b[0m\u001b[0;34m\u001b[0m\u001b[0m\n\u001b[0m",
      "\u001b[0;32m/usr/local/lib/python3.6/dist-packages/pandas/core/series.py\u001b[0m in \u001b[0;36mapply\u001b[0;34m(self, func, convert_dtype, args, **kwds)\u001b[0m\n\u001b[1;32m   4211\u001b[0m             \u001b[0;32melse\u001b[0m\u001b[0;34m:\u001b[0m\u001b[0;34m\u001b[0m\u001b[0;34m\u001b[0m\u001b[0m\n\u001b[1;32m   4212\u001b[0m                 \u001b[0mvalues\u001b[0m \u001b[0;34m=\u001b[0m \u001b[0mself\u001b[0m\u001b[0;34m.\u001b[0m\u001b[0mastype\u001b[0m\u001b[0;34m(\u001b[0m\u001b[0mobject\u001b[0m\u001b[0;34m)\u001b[0m\u001b[0;34m.\u001b[0m\u001b[0m_values\u001b[0m\u001b[0;34m\u001b[0m\u001b[0;34m\u001b[0m\u001b[0m\n\u001b[0;32m-> 4213\u001b[0;31m                 \u001b[0mmapped\u001b[0m \u001b[0;34m=\u001b[0m \u001b[0mlib\u001b[0m\u001b[0;34m.\u001b[0m\u001b[0mmap_infer\u001b[0m\u001b[0;34m(\u001b[0m\u001b[0mvalues\u001b[0m\u001b[0;34m,\u001b[0m \u001b[0mf\u001b[0m\u001b[0;34m,\u001b[0m \u001b[0mconvert\u001b[0m\u001b[0;34m=\u001b[0m\u001b[0mconvert_dtype\u001b[0m\u001b[0;34m)\u001b[0m\u001b[0;34m\u001b[0m\u001b[0;34m\u001b[0m\u001b[0m\n\u001b[0m\u001b[1;32m   4214\u001b[0m \u001b[0;34m\u001b[0m\u001b[0m\n\u001b[1;32m   4215\u001b[0m         \u001b[0;32mif\u001b[0m \u001b[0mlen\u001b[0m\u001b[0;34m(\u001b[0m\u001b[0mmapped\u001b[0m\u001b[0;34m)\u001b[0m \u001b[0;32mand\u001b[0m \u001b[0misinstance\u001b[0m\u001b[0;34m(\u001b[0m\u001b[0mmapped\u001b[0m\u001b[0;34m[\u001b[0m\u001b[0;36m0\u001b[0m\u001b[0;34m]\u001b[0m\u001b[0;34m,\u001b[0m \u001b[0mSeries\u001b[0m\u001b[0;34m)\u001b[0m\u001b[0;34m:\u001b[0m\u001b[0;34m\u001b[0m\u001b[0;34m\u001b[0m\u001b[0m\n",
      "\u001b[0;32mpandas/_libs/lib.pyx\u001b[0m in \u001b[0;36mpandas._libs.lib.map_infer\u001b[0;34m()\u001b[0m\n",
      "\u001b[0;32m<ipython-input-73-4034e3244933>\u001b[0m in \u001b[0;36m<lambda>\u001b[0;34m(x)\u001b[0m\n\u001b[0;32m----> 1\u001b[0;31m \u001b[0mitem_df\u001b[0m\u001b[0;34m[\u001b[0m\u001b[0;34m'i_item_name'\u001b[0m\u001b[0;34m]\u001b[0m\u001b[0;34m.\u001b[0m\u001b[0mapply\u001b[0m\u001b[0;34m(\u001b[0m\u001b[0;32mlambda\u001b[0m \u001b[0mx\u001b[0m\u001b[0;34m:\u001b[0m \u001b[0mbert\u001b[0m\u001b[0;34m[\u001b[0m\u001b[0mx\u001b[0m\u001b[0;34m]\u001b[0m\u001b[0;34m)\u001b[0m\u001b[0;34m\u001b[0m\u001b[0;34m\u001b[0m\u001b[0m\n\u001b[0m",
      "\u001b[0;31mKeyError\u001b[0m: 'Dickies拼接短T(658)黑/灰'"
     ]
    }
   ],
   "source": [
    "item_df['i_item_name'].apply(lambda x: bert[x])"
   ]
  },
  {
   "cell_type": "code",
   "execution_count": null,
   "id": "6f0cc3a6-4633-4f9f-8bfc-47c0261f7720",
   "metadata": {},
   "outputs": [],
   "source": []
  },
  {
   "cell_type": "code",
   "execution_count": null,
   "id": "6eff166f-e875-4183-9a73-c998b9456536",
   "metadata": {},
   "outputs": [],
   "source": []
  },
  {
   "cell_type": "code",
   "execution_count": null,
   "id": "7455f200-ad47-42d0-ae9f-e71332b8233b",
   "metadata": {},
   "outputs": [],
   "source": []
  },
  {
   "cell_type": "code",
   "execution_count": null,
   "id": "048d4277-0eef-4ef8-9a60-3b7d4bc52b9c",
   "metadata": {},
   "outputs": [],
   "source": []
  },
  {
   "cell_type": "code",
   "execution_count": null,
   "id": "39db30ad-09d1-4b0a-86d8-9bad300f85af",
   "metadata": {},
   "outputs": [],
   "source": []
  },
  {
   "cell_type": "code",
   "execution_count": null,
   "id": "b8a52b63-5851-437f-b0c0-ee2811c6cb23",
   "metadata": {},
   "outputs": [],
   "source": [
    "# Generate Item x Stream data\n",
    "# * unique items x each stream\n",
    "# * index: item_id\n",
    "# * column: stream_id\n",
    "\n",
    "def map_item_stream(item_id):\n",
    "  in_streams = DATA.loc[DATA.item_id == item_id]['場次'].unique()\n",
    "  res_series = pd.Series([0]*len(STREAM_LIST))\n",
    "  res_series.index = STREAM_LIST\n",
    "  res_series[in_streams] = 1\n",
    "  return res_series\n",
    "\n",
    "ITEM_STREAM_DF = pd.DataFrame(index=DATA.item_id.unique(), columns=DATA['場次'].unique())\n",
    "ITEM_STREAM_DF = ITEM_STREAM_DF.apply(lambda x: map_item_stream(x.name), axis=1, result_type='expand')\n",
    "\n",
    "## [Reward] Generate Real Bought DF\n",
    "\n",
    "REAL_BOUGHT_DF = DATA.loc[:, ['聯絡電話', '場次', 'item_id']]\n",
    "\n",
    "## [Action] User bought last stream\n",
    "\n",
    "LAST_BOUGHT_STREAM = USER_STREAM_CONTEXT.reset_index().groupby('聯絡電話', as_index=False).last().loc[:, ['聯絡電話', '場次']].set_index('聯絡電話')\n",
    "\n",
    "# USER_STREAM_CONTEXT, ITEM_DF, ITEM_STREAM_DF, REAL_BOUGHT_DF, LAST_BOUGHT_STREAM, LB_ITEMS\n"
   ]
  },
  {
   "cell_type": "code",
   "execution_count": null,
   "id": "61c7e636-f847-492e-bf65-f9aa7e600ec1",
   "metadata": {},
   "outputs": [],
   "source": []
  },
  {
   "cell_type": "code",
   "execution_count": null,
   "id": "b1ecc7cc-c70d-4857-9ae3-e458cf357743",
   "metadata": {},
   "outputs": [],
   "source": []
  },
  {
   "cell_type": "code",
   "execution_count": null,
   "id": "a9c1536f-a984-459c-9164-2a70deed9594",
   "metadata": {},
   "outputs": [],
   "source": []
  },
  {
   "cell_type": "code",
   "execution_count": null,
   "id": "89077603-e576-4ec3-a7fe-e5a8c5e304cd",
   "metadata": {},
   "outputs": [],
   "source": []
  },
  {
   "cell_type": "code",
   "execution_count": null,
   "id": "552f6f6c-a91c-4895-a278-5a675c5a3032",
   "metadata": {},
   "outputs": [],
   "source": []
  },
  {
   "cell_type": "markdown",
   "id": "8b4bc1ac-ccdb-435a-acc9-a6e4de0d322b",
   "metadata": {},
   "source": [
    "---\n",
    "## Utils"
   ]
  },
  {
   "cell_type": "code",
   "execution_count": null,
   "id": "4ac40e4e-9722-42cb-9299-efd9ad40c576",
   "metadata": {},
   "outputs": [],
   "source": [
    "# Utilities\n",
    "# import from preprocessing\n",
    "import pandas as pd\n",
    "from preprocessing import USER_STREAM_CONTEXT, ITEM_DF, ITEM_STREAM_DF, REAL_BOUGHT_DF, LAST_BOUGHT_STREAM, LB_ITEMS, USER_LIST, LB_CE, STREAM_LIST\n",
    "\n",
    "### Environment\n",
    "# Get full state\n",
    "\n",
    "# * 參考原論文: user _interest 初始值為 random vector\n",
    "# 1. 很多筆記錄裡用戶只在一場直播裡購買，如果 random 的話 accuracy 會下降\n",
    "# 2. 不可能用該期直播的相關紀錄作為 state → 在 user/state context 裡加上 RFML/streamer information\n",
    "# 3. user x all_stream → 在第一場直播都給予 random vector，對 accuracy 的影響就不會太高（？\n",
    "\n",
    "\n",
    "'''\n",
    "Generate series: whether elements in A existed in list B\n",
    "A, B: List\n",
    "return: pd.Series\n",
    "example:\n",
    "  A: [1, 2, 4, 5]\n",
    "  B: [1, 2, 3, 4, 5, 6, 7]\n",
    "  return: Series([1, 1, 0, 1, 1, 0, 0], index=[1, 2, 3, 4, 5, 6, 7])\n",
    "'''\n",
    "def gen_exist_series(A, B):\n",
    "  exist_list = [int(item in A) for item in B]\n",
    "  return pd.Series(exist_list, index=B)"
   ]
  },
  {
   "cell_type": "code",
   "execution_count": null,
   "id": "4f1b6221-f66d-4e09-bc4e-07fd3e519b21",
   "metadata": {},
   "outputs": [],
   "source": [
    "USER_ALL_STREAM_INIT = USER_STREAM_CONTEXT.describe().loc['50%']\n",
    "\n",
    "def get_full_state(user_all_streams, stream_list, i):\n",
    "  # Get full state: current_state = user_stream + item_stream\n",
    "  # 第一次參加直播/cold start\n",
    "  # CE paper: user_interest part init with random vector\n",
    "  # TODO init with random values\n",
    "  #      Cold start problem\n",
    "  # USER PART\n",
    "  user_part = USER_ALL_STREAM_INIT.copy() if (i - 1) == -1 else user_all_streams.loc[stream_list[(i - 1)]]\n",
    "  user_part['user'] = user_all_streams['user'].to_list()[0]\n",
    "\n",
    "  # ITEMS PART\n",
    "  # Get all items from stream\n",
    "  # USER_PART + ITEM_PART\n",
    "  full_state_stream_items = ITEM_STREAM_DF.loc[ITEM_STREAM_DF[stream_list[i]] == 1].index.to_list()\n",
    "  user_part['cand_item'] = full_state_stream_items\n",
    "  return user_part\n"
   ]
  },
  {
   "cell_type": "code",
   "execution_count": null,
   "id": "02d2f160-d52b-4b7b-b0dc-e49512ac85c1",
   "metadata": {},
   "outputs": [],
   "source": [
    "'''\n",
    "Comparison function for reward\n",
    "'''\n",
    "def r(a, b):\n",
    "  if a==1 and b==0: return 0 # -1 when the rule is to punish unrec-bought\n",
    "  else: return a & b\n",
    "\n",
    "def get_reward(user_phone, stream, action_ids):\n",
    "  items = action_ids.index\n",
    "  real_bought_ids = REAL_BOUGHT_DF.loc[(REAL_BOUGHT_DF['聯絡電話'] == user_phone) \n",
    "                                         & (REAL_BOUGHT_DF['場次'] == stream)]['item_id'].values\n",
    "  real_bought_ids_series = gen_exist_series(real_bought_ids, items)\n",
    "  \n",
    "  reward_list = [r(a, b) for a, b in zip(real_bought_ids_series.values, action_ids.values)]\n",
    "  return pd.Series(reward_list, index=items)"
   ]
  },
  {
   "cell_type": "code",
   "execution_count": null,
   "id": "d7dcf0b8-b7ba-4b52-905f-0a46108d6c78",
   "metadata": {},
   "outputs": [],
   "source": [
    "from sklearn.metrics import log_loss\n",
    "\n",
    "def calculate_interest_change(user_all_streams, stream_list, i):\n",
    "  if i < 0:\n",
    "    return 0\n",
    "  else:\n",
    "    former_stream = stream_list[i-1]\n",
    "    current_stream = stream_list[i]\n",
    "\n",
    "    test_ce = user_all_streams.loc[:, LB_CE]\n",
    "    ce = log_loss(test_ce.loc[former_stream], test_ce.loc[current_stream], labels=['prev', 'current'])\n",
    "    if ce < 0.01: ce = 0\n",
    "    else: ce = round(ce, 3)\n",
    "    return ce"
   ]
  },
  {
   "cell_type": "code",
   "execution_count": null,
   "id": "4537081f-9ad0-4103-8c38-8029b70a9cf7",
   "metadata": {},
   "outputs": [],
   "source": [
    "INPUT_DF_COL__USR = USER_STREAM_CONTEXT.columns.to_list()\n",
    "INPUT_DF_COL = INPUT_DF_COL__USR + LB_ITEMS\n",
    "\n",
    "'''\n",
    "Convert state format to model input format\n",
    "'''\n",
    "def get_input(input_state):\n",
    "  # Slice items\n",
    "  items = input_state['cand_item']\n",
    "  input_state = input_state.drop('cand_item')\n",
    "  item_feat = ITEM_DF.loc[items]\n",
    "  \n",
    "  # Create new dataframe\n",
    "  stream_item_feat = pd.DataFrame(columns=INPUT_DF_COL, index=item_feat.index)\n",
    "  \n",
    "  # Fill in other context\n",
    "  # stream_item_feat.loc[:, INPUT_DF_COL__USR].assign(**input_state)\n",
    "  stream_item_feat = stream_item_feat.loc[:, INPUT_DF_COL__USR].assign(**input_state)\n",
    "  \n",
    "  # Fill in items\n",
    "  stream_item_feat[LB_ITEMS] = item_feat\n",
    "  return stream_item_feat.astype('float32')\n"
   ]
  },
  {
   "cell_type": "code",
   "execution_count": null,
   "id": "9ae1198c-ed82-4865-99a0-fd8f9c98769d",
   "metadata": {},
   "outputs": [],
   "source": [
    "def model_predict_top10(model, input_state):\n",
    "  # Get all items\n",
    "  full_input = get_input(input_state).astype('float32')\n",
    "  \n",
    "  # 紀錄所有預測結果\n",
    "  predicts = model.predict(full_input)\n",
    "  full_input['predict'] = predicts\n",
    "  actions = full_input['predict'].nlargest(10).index #['i_item_id'].to_list()\n",
    "  actions = full_input.loc[actions, 'i_item_id'].values\n",
    "  return actions\n",
    "\n",
    "\n",
    "# Export list: gen_exist_series, get_full_state, get_reward, calculate_interest_change, get_input, model_predict_top10"
   ]
  },
  {
   "cell_type": "code",
   "execution_count": null,
   "id": "274b8de2-9a7c-4620-9565-fe45ea1a5391",
   "metadata": {},
   "outputs": [],
   "source": []
  },
  {
   "cell_type": "code",
   "execution_count": null,
   "id": "67b56889-4fc2-4f71-b1f3-319a8335a0e6",
   "metadata": {},
   "outputs": [],
   "source": []
  },
  {
   "cell_type": "code",
   "execution_count": null,
   "id": "938c4ee3-53ed-40d8-8de8-d2a7d01713c4",
   "metadata": {},
   "outputs": [],
   "source": []
  },
  {
   "cell_type": "code",
   "execution_count": null,
   "id": "1190cb55-e81b-497e-b68a-bbfdcb56633a",
   "metadata": {},
   "outputs": [],
   "source": []
  },
  {
   "cell_type": "code",
   "execution_count": null,
   "id": "48fea4c7-36e2-4138-a8e3-eb3da01f34fc",
   "metadata": {},
   "outputs": [],
   "source": []
  },
  {
   "cell_type": "markdown",
   "id": "afd581c2-ee92-4888-ab77-d8b017fb5c28",
   "metadata": {},
   "source": [
    "---\n",
    "## Replay"
   ]
  },
  {
   "cell_type": "code",
   "execution_count": null,
   "id": "66c3af22-bd13-4a1b-8157-ed62539232b7",
   "metadata": {},
   "outputs": [],
   "source": [
    "### Collecting Training Data\n",
    "import pandas as pd\n",
    "import numpy as np\n",
    "from utils import gen_exist_series, get_full_state, get_reward, calculate_interest_change, get_input, model_predict_top10, INPUT_DF_COL\n",
    "\n",
    "class ReplayBuffer:\n",
    "  def __init__(self, max_memory=100000, discount=.9):\n",
    "    \"\"\"\n",
    "    Setup\n",
    "    max_memory: the maximum number of experiences we want to store\n",
    "    memory: a list of experiences\n",
    "    discount: the discount factor for future experience\n",
    "    In the memory the information whether the game ended at the state is stored seperately in a nested array\n",
    "    [...\n",
    "    [experience, game_over]\n",
    "    [experience, game_over]\n",
    "    ...]\n",
    "    \"\"\"\n",
    "    self.max_memory = max_memory\n",
    "    self.memory = list()\n",
    "    self.discount = discount\n",
    "\n",
    "  def remember(self, interest_score, states, game_over):\n",
    "    # Save a state to memory\n",
    "    self.memory.append([interest_score, states, game_over])\n",
    "    # We don't want to store infinite memories, so if we have too many, we just delete the oldest one\n",
    "    if len(self.memory) > self.max_memory:\n",
    "      del self.memory[0]\n",
    "\n",
    "  def get_batch(self, model, batch_size=10):\n",
    "    # How many experiences do we have?\n",
    "    len_memory = len(self.memory)\n",
    "\n",
    "    # Calculate the number of actions that can possibly be taken in the game.\n",
    "    # Actions: 0 = not recommend, 1 = recommend\n",
    "    num_actions = model.output_shape[-1]\n",
    "\n",
    "    # Dimensions of our observed states, ie, the input to our model.\n",
    "    # Memory:  [\n",
    "    #   [interest_score, [ [...state], action, reward, next_state_idx], game_over],\n",
    "    #   [interest_score, [ [...state], action, reward, nexr_state_idx], game_over],\n",
    "    #   ...\n",
    "    # ]\n",
    "    env_dim = len(INPUT_DF_COL)\n",
    "\n",
    "    inputs = pd.DataFrame(columns=INPUT_DF_COL)\n",
    "    targets = pd.DataFrame(columns=[0])\n",
    "    \n",
    "    \n",
    "    \n",
    "    # We draw states to learn from randomly\n",
    "    for i, idx in enumerate(np.random.randint(0, len_memory, size=min(len_memory, batch_size))):      \n",
    "\n",
    "      # Here we load one transition <s, a, r, s'> from memory\n",
    "      state_t, action_t, reward_t, state_tp1 = self.memory[idx][1]\n",
    "      # state_t = state_t.astype('float32')\n",
    "      game_over = self.memory[idx][2]\n",
    "\n",
    "      '''\n",
    "      修改倒入 state 的方式 input = (state - item) + item_feat\n",
    "      拆掉 model_predict 成 function\n",
    "      \n",
    "      here should be state_t * all_items\n",
    "      '''\n",
    "      state_t = get_input(state_t).astype('float32')\n",
    "      # puts state into input\n",
    "      inputs = pd.concat([inputs, state_t], axis=0)\n",
    "      # TODO: Modify input shape 0\n",
    "\n",
    "      # First we fill the target values with the predictions of the model.\n",
    "      # They will not be affected by training (since the training loss for them is 0)\n",
    "      # TODO\n",
    "      '''\n",
    "      每個 actions 都會被 predict 一個成績/reward\n",
    "      '''\n",
    "\n",
    "      # if the game ended, the reward is the final reward\n",
    "      if game_over:  # if game_over is True\n",
    "        state_t['reward'] = reward_t\n",
    "        targets = pd.concat([targets, reward_t], axis=0).astype('float32')\n",
    "      else:\n",
    "        state_t['reward'] = model.predict(state_t).flatten()\n",
    "        # 找到 action_t 們，指到 state_t 上去算 discount values\n",
    "        action_t = action_t[action_t == 1].index.to_list()\n",
    "        \n",
    "        state_tp1 = get_input(state_tp1)\n",
    "        Q_sa = np.max(model.predict(state_tp1)[0])\n",
    "        # r + gamma * max Q(s',a')\n",
    "        # DataFrame apply\n",
    "        state_t.loc[action_t, 'reward'] = state_t.loc[action_t, 'reward'].apply(lambda x: x + self.discount * Q_sa).astype('float32')\n",
    "        targets = pd.concat([targets, state_t['reward']], axis=0).astype('float32')\n",
    "    return inputs, targets"
   ]
  },
  {
   "cell_type": "code",
   "execution_count": null,
   "id": "320b3a5e-b7fc-49f0-867e-846a605762d3",
   "metadata": {},
   "outputs": [],
   "source": []
  },
  {
   "cell_type": "code",
   "execution_count": null,
   "id": "36e33d6f-e895-40be-bed6-136c7fd68a56",
   "metadata": {},
   "outputs": [],
   "source": []
  },
  {
   "cell_type": "code",
   "execution_count": null,
   "id": "24239ddd-a839-4154-9bc1-86797d768a8a",
   "metadata": {},
   "outputs": [],
   "source": []
  },
  {
   "cell_type": "markdown",
   "id": "a38aee2d-d9ba-4e13-863a-fe8ad4a0913c",
   "metadata": {},
   "source": [
    "---\n",
    "## Train & Main"
   ]
  },
  {
   "cell_type": "code",
   "execution_count": 1,
   "id": "5709b2ed-10b1-4e5c-9e5d-9d223cf9462f",
   "metadata": {},
   "outputs": [],
   "source": [
    "# from preprocessing import USER_STREAM_CONTEXT, ITEM_DF, ITEM_STREAM_DF, REAL_BOUGHT_DF, LAST_BOUGHT_STREAM, LB_ITEMS, USER_LIST, LB_CE, STREAM_LIST\n",
    "# from utils import gen_exist_series, get_full_state, get_reward, calculate_interest_change, get_input, model_predict_top10, INPUT_DF_COL\n",
    "# from replay import ReplayBuffer\n",
    "import tensorflow as tf\n",
    "from tensorflow import keras\n",
    "from tensorflow.keras.layers import Dense\n",
    "from tensorflow.keras.optimizers import Adam\n",
    "from matplotlib import pyplot as plt\n",
    "import warnings\n",
    "import pandas as pd\n",
    "import numpy as np\n",
    "from sklearn.preprocessing import LabelEncoder\n",
    "import random\n",
    "import itertools\n",
    "from datetime import datetime\n",
    "import pytz"
   ]
  },
  {
   "cell_type": "code",
   "execution_count": 2,
   "id": "8e6f911b-1f0b-4c9a-ab83-338449cf7bc9",
   "metadata": {},
   "outputs": [
    {
     "name": "stdout",
     "output_type": "stream",
     "text": [
      "Default GPU Device:      /device:GPU:0\n"
     ]
    }
   ],
   "source": [
    "if tf.test.gpu_device_name(): \n",
    "    print('Default GPU Device:\\\n",
    "      {}'.format(tf.test.gpu_device_name()))\n",
    "else:\n",
    "   print(\"Please install GPU version of TF\")"
   ]
  },
  {
   "cell_type": "markdown",
   "id": "f0b2f337-3ba6-4bca-8de1-514ccefeb20e",
   "metadata": {},
   "source": [
    "## Train DQN model\n",
    "* Input: `user_df` 253, `item_df` 231(BERT: 768), interact (?), `reward` 1\n",
    "* Output: recommend a list of items\n",
    "* Methods Needed\n",
    "    * Environment Function\n",
    "    * Choose Action\n",
    "    * Store Transition\n",
    "    * Learn"
   ]
  },
  {
   "cell_type": "code",
   "execution_count": 3,
   "id": "adba99bf-3034-444c-be67-a43efd5a273e",
   "metadata": {},
   "outputs": [],
   "source": [
    "### Training Process\n",
    "\n",
    "def train(model, exp_replay, epochs, batch_size, num_episode=1000, verbose=1, reward_set='strict', hist=[], c_hist=[], rec_list=[]):\n",
    "  # total_actions = ITEM_DF.shape[0]\n",
    "  total_episodes = len(USER_LIST)\n",
    "  # Reset win counter\n",
    "  c_win_cnt = 0\n",
    "\n",
    "  for e in range(epochs):\n",
    "    rec_cnt = 0\n",
    "    win_cnt = 0\n",
    "    loss = 0.\n",
    "    # TODO/MAIN: Apply user preference changes as epsilon\n",
    "    # epsilon for exploration - dependent inversely on the training epoch\n",
    "    epsilon = 4 / ((e + 1) ** (1 / 2))\n",
    "\n",
    "    # handling episodes by assigning users from USER_LIST\n",
    "    # Each user represent an Episode\n",
    "    episodes = random.sample(range(total_episodes), num_episode)\n",
    "\n",
    "    print(f'Epoch {e} started.   Time: {datetime.now(pytz.timezone(\"Asia/Taipei\")).strftime(\"%H:%M:%S\")}')\n",
    "    # ------------------- Episode (User) -------------------------------\n",
    "    for user_episode in episodes:\n",
    "      # game_over = False\n",
    "      # get episode data by user phone number\n",
    "      user_phone = USER_LIST[user_episode]\n",
    "      user_all_streams = USER_STREAM_CONTEXT.xs(user_phone, level=\"聯絡電話\")\n",
    "      stream_list = user_all_streams.index\n",
    "      final_stream = LAST_BOUGHT_STREAM.loc[user_phone, '場次']\n",
    "      \n",
    "      # ----------------- Runs (User x All_Stream) ---------------------\n",
    "      for i, stream in enumerate(stream_list):          \n",
    "        game_over = stream == final_stream\n",
    "                \n",
    "        # Get full state: current_state = user_stream + item_stream\n",
    "        # 用上一場紀錄預測下一場直播會購買的商品\n",
    "        current_state = get_full_state(user_all_streams, stream_list, i)\n",
    "        stream_items = current_state['cand_item']\n",
    "        \n",
    "        # --------------- Explore/Exploit Section ----------------------\n",
    "        if np.random.rand() <= epsilon:\n",
    "          # Explore by randomly select 10/n items from candidate_items\n",
    "          # Get all items from the stream\n",
    "          sample_actions = random.sample(stream_items, 10) if len(stream_items) > 10 else stream_items\n",
    "          action_ids = gen_exist_series(sample_actions, stream_items)\n",
    "        else:\n",
    "          # Exploit by choosing action from the model's prediction\n",
    "          pred_actions = model_predict_top10(model, current_state)\n",
    "          action_ids = gen_exist_series(pred_actions, stream_items)\n",
    "\n",
    "        # --------------- Get next state & info to store ---------------\n",
    "        reward = get_reward(user_phone, stream, action_ids)\n",
    "        next_state = get_full_state(user_all_streams, stream_list, i+1) if not game_over else []\n",
    "\n",
    "        rec_cnt += 1\n",
    "        if sum(reward) > 0:\n",
    "          c_win_cnt += 1\n",
    "          win_cnt += 1\n",
    "\n",
    "        # --------------- Calculating Interest Changes -----------------\n",
    "        interest_score = calculate_interest_change(user_all_streams, stream_list, i)\n",
    "\n",
    "        # --------------- Store Experience -----------------------------\n",
    "        exp_replay.remember(interest_score,\n",
    "                            [current_state, action_ids, reward, next_state],\n",
    "                            game_over)\n",
    "        \n",
    "\n",
    "        # --------------- Load batch of experiences --------------------\n",
    "        inputs, targets = exp_replay.get_batch(model, batch_size=batch_size)\n",
    "        # train model on experiences\n",
    "        batch_loss = model.train_on_batch(inputs, targets)\n",
    "        loss += batch_loss\n",
    "            \n",
    "    if verbose > 0:\n",
    "      print(f'Epoch: {e}/{epochs} | Loss {loss} | Win count {win_cnt} | Rec count {rec_cnt} | Time {datetime.now(pytz.timezone(\"Asia/Taipei\")).strftime(\"%H:%M:%S\")}')\n",
    "    \n",
    "    # Track win history to later check if our model is improving at the game over time.\n",
    "    hist.append(win_cnt)\n",
    "    c_hist.append(c_win_cnt)\n",
    "    rec_list.append(rec_cnt)"
   ]
  },
  {
   "cell_type": "code",
   "execution_count": 4,
   "id": "6d28e144-e732-4036-9765-8386ca3fbb00",
   "metadata": {},
   "outputs": [],
   "source": [
    "pd.set_option('mode.chained_assignment', None)\n",
    "\n",
    "# parameters\n",
    "MAX_MEMORY = 1000  # Maximum number of experiences we are storing\n",
    "BATCH_SIZE = 2  # Number of experiences we use for training per batch\n",
    "EPOCH = 50\n",
    "TOTAL_ACTIONS = 1 # probability of ordering\n",
    "NUM_EPISODE = 100\n",
    "HIDDEN_SIZE = 512\n",
    "\n",
    "\n",
    "warnings.simplefilter(action='ignore', category=FutureWarning)"
   ]
  },
  {
   "cell_type": "markdown",
   "id": "30bd4b39-e518-4b08-8356-bf61ce94210b",
   "metadata": {},
   "source": [
    "### Main Method"
   ]
  },
  {
   "cell_type": "code",
   "execution_count": null,
   "id": "66b0f1af-977d-40b8-aad5-8e5771c55fca",
   "metadata": {
    "tags": []
   },
   "outputs": [
    {
     "name": "stdout",
     "output_type": "stream",
     "text": [
      "Epoch 0 started.   Time: 13:28:43\n"
     ]
    }
   ],
   "source": [
    "exp_replay = ReplayBuffer(max_memory=MAX_MEMORY)# Our model's architecture parameters\n",
    "input_size = 473 # The input shape for model - this comes from the output shape of the CNN Mobilenet\n",
    "\n",
    "# Setting up the model with keras.\n",
    "model = keras.Sequential()\n",
    "model.add(Dense(HIDDEN_SIZE, input_shape=(input_size,), activation='relu'))\n",
    "model.add(Dense(HIDDEN_SIZE, activation='tanh'))\n",
    "model.add(Dense(TOTAL_ACTIONS))\n",
    "model.compile(Adam(learning_rate=.000001), \"mse\")\n",
    "\n",
    "hist = []\n",
    "c_hist = []\n",
    "rec_list = []\n",
    "\n",
    "# Training the model\n",
    "train(model, \n",
    "      exp_replay, \n",
    "      epochs=EPOCH, \n",
    "      batch_size=BATCH_SIZE, \n",
    "      num_episode=NUM_EPISODE, \n",
    "      verbose=1, \n",
    "      reward_set='strict',\n",
    "      hist=hist,\n",
    "      c_hist=c_hist,\n",
    "      rec_list=rec_list)\n",
    "plt.plot(range(EPOCH), hist)"
   ]
  },
  {
   "cell_type": "code",
   "execution_count": null,
   "id": "93b60988-b8fb-4035-b19b-ee73fb6c2f94",
   "metadata": {},
   "outputs": [],
   "source": []
  },
  {
   "cell_type": "code",
   "execution_count": null,
   "id": "ccc3395a-8494-49dc-bb82-6017a9f7befe",
   "metadata": {},
   "outputs": [],
   "source": []
  },
  {
   "cell_type": "code",
   "execution_count": null,
   "id": "f2118731-4890-4dbf-a335-907b022ab6ce",
   "metadata": {},
   "outputs": [],
   "source": [
    "c_hist[-1]/sum(rec_list)"
   ]
  },
  {
   "cell_type": "code",
   "execution_count": null,
   "id": "c648ec5c-71db-4971-a291-7ecd0ea730c7",
   "metadata": {},
   "outputs": [],
   "source": [
    "bert = np.load('../../data/jambo_iname2embedding.npy', allow_pickle=True)[None][0]"
   ]
  },
  {
   "cell_type": "code",
   "execution_count": null,
   "id": "5413c06d-533d-4ca0-b65c-edccb33376f1",
   "metadata": {},
   "outputs": [],
   "source": [
    "list(bert.keys())[:2]"
   ]
  },
  {
   "cell_type": "code",
   "execution_count": null,
   "id": "4e81c1cd-61c5-4906-a012-c29afd9cf93e",
   "metadata": {},
   "outputs": [],
   "source": [
    "bert['【商城】W08-76 休閒毯'].shape"
   ]
  },
  {
   "cell_type": "code",
   "execution_count": null,
   "id": "f95c8631-f5e7-4940-9594-6fb898575204",
   "metadata": {},
   "outputs": [],
   "source": []
  },
  {
   "cell_type": "code",
   "execution_count": null,
   "id": "30cc7697-af94-4bdc-8785-f67d1d026dce",
   "metadata": {},
   "outputs": [],
   "source": []
  },
  {
   "cell_type": "code",
   "execution_count": null,
   "id": "a37da343-9479-4e80-9b0b-c7a900865fff",
   "metadata": {},
   "outputs": [],
   "source": [
    "with open('9.txt', 'w') as f:\n",
    "  f.write(' hist: \\n')\n",
    "  f.write(', '.join([str(a) for a in hist]))\n",
    "  f.write('\\n c_hist: \\n')\n",
    "  f.write(', '.join([str(a) for a in c_hist]))\n",
    "  f.write('\\n rec_list: \\n')\n",
    "  f.write(', '.join([str(a) for a in rec_list]))\n"
   ]
  },
  {
   "cell_type": "code",
   "execution_count": null,
   "id": "9a7d005d-a0cf-4e2a-bed3-51a6f9da0f6c",
   "metadata": {},
   "outputs": [],
   "source": []
  },
  {
   "cell_type": "code",
   "execution_count": null,
   "id": "eb5d8ae2-5178-4fe6-8aaa-9364ee19e62d",
   "metadata": {},
   "outputs": [],
   "source": []
  },
  {
   "cell_type": "code",
   "execution_count": null,
   "id": "0cf8c5f0-10ea-446b-9b78-997eb4062b3b",
   "metadata": {},
   "outputs": [],
   "source": []
  }
 ],
 "metadata": {
  "interpreter": {
   "hash": "e5d26d15f81c32561881a39c85bdcf5a2542c694b6b4a6d5e9280707d5ee0206"
  },
  "kernelspec": {
   "display_name": "Python 3",
   "language": "python",
   "name": "python3"
  },
  "language_info": {
   "codemirror_mode": {
    "name": "ipython",
    "version": 3
   },
   "file_extension": ".py",
   "mimetype": "text/x-python",
   "name": "python",
   "nbconvert_exporter": "python",
   "pygments_lexer": "ipython3",
   "version": "3.6.9"
  }
 },
 "nbformat": 4,
 "nbformat_minor": 5
}
